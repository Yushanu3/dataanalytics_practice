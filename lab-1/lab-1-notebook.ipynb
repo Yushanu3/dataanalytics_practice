{
 "cells": [
  {
   "cell_type": "markdown",
   "metadata": {},
   "source": [
    "<h1 align='center'> COMP2420/COMP6420 - Introduction to Data Management, Analysis and Security</h1>\n",
    "\n",
    "<h2 align='center'> Lab 01 - Python 101</h2>\n",
    "\n",
    "*****\n",
    "\n",
    "Congratulations! If you're able to see this and made it this far, you've successfully managed to launch a **Jupyter Notebook** from your terminal. "
   ]
  },
  {
   "cell_type": "markdown",
   "metadata": {},
   "source": [
    "<br/>\n",
    "\n",
    "## Jupyter Notebook Basics\n",
    "\n",
    "Before we dive into the basics of Python programming, let's take a quick introduction to notebook. \n",
    "\n",
    "The **Jupyter Notebook App** is a server-client application that allows editing and running notebook documents via a web browser. The Jupyter Notebook App is easy to access on a local desktop without requiring any internet connection. **Notebook documents** are documents produced by the Jupyter Notebook App, which contain both computer code (e.g. Python) and rich text elements (paragraph, equations, figures, links, etc.). So in a Jupyter Notebook, the cells with the **`In [ ]`** notation are code cells, while those without it have raw text/markdown content.\n",
    "\n",
    "Some keyboard shortcuts that might be useful in the coming weeks - \n",
    "* **Shift + Enter** → Run the current cell and select next one\n",
    "* **Ctrl + /** → Comment the current line\n",
    "* **TAB** → Toggle auto-complete intellisense\n",
    "* **(Command) M / R / Y** → Toggle cell-type between Markdown/Raw/Code\n",
    "* **(Command) C / V / X** → Copy / Paste / Cut selected cells\n",
    "\n",
    "You can have a look at more of these keyboard shortcuts by clicking on the helpful keyboard symbol in the above toolbar."
   ]
  },
  {
   "cell_type": "markdown",
   "metadata": {},
   "source": [
    "<br/>\n",
    "\n",
    "## Python Basics\n",
    "\n",
    "* Python is an interpreted language, in contrast to Java and C which are compiled languages.\n",
    "\n",
    "* This means we can type statements into the interpreter and they are executed immediately. "
   ]
  },
  {
   "cell_type": "code",
   "execution_count": 1,
   "metadata": {},
   "outputs": [
    {
     "data": {
      "text/plain": [
       "22"
      ]
     },
     "execution_count": 1,
     "metadata": {},
     "output_type": "execute_result"
    }
   ],
   "source": [
    "# Run this cell by clicking on the |> (Play) button above, or pressing Shift + Enter \n",
    "15 + 7"
   ]
  },
  {
   "cell_type": "markdown",
   "metadata": {},
   "source": [
    "Comments in Python are preceded by a `#` and are ignored by the Python interpreter while executing a code cell."
   ]
  },
  {
   "cell_type": "code",
   "execution_count": null,
   "metadata": {},
   "outputs": [],
   "source": [
    "# All the variables declared in one cell can be accessed and modified in subsequent cells\n",
    "x = 5\n",
    "y = \"Hello There\"\n",
    "z = 10.5"
   ]
  },
  {
   "cell_type": "code",
   "execution_count": 4,
   "metadata": {},
   "outputs": [
    {
     "name": "stdout",
     "output_type": "stream",
     "text": [
      "COMP2420/6420 is a fun course!\n",
      "15.5\n",
      "Hello There!\n"
     ]
    }
   ],
   "source": [
    "# This is how you can print something in python\n",
    "print(\"COMP2420/6420 is a fun course!\")\n",
    "print(x + z)\n",
    "print(y + \"!\")"
   ]
  },
  {
   "cell_type": "markdown",
   "metadata": {},
   "source": [
    "<br>\n",
    "\n",
    "## Python Modules\n",
    "\n",
    "Python comes with a lot of useful built-in modules (the Pythonic way of saying \"library\"). There are 3 main ways of using the functions and built-in attributes in a Python module. \n",
    "    1. Importing a module"
   ]
  },
  {
   "cell_type": "code",
   "execution_count": 5,
   "metadata": {},
   "outputs": [
    {
     "data": {
      "text/plain": [
       "4.0"
      ]
     },
     "execution_count": 5,
     "metadata": {},
     "output_type": "execute_result"
    }
   ],
   "source": [
    "import math\n",
    "math.sqrt(16)          # Calculate the square root of 16\n",
    "# NOTE: You can also rename a module or its functions by using the 'as' keyword for ease-of-use. This is particularly useful \n",
    "# when the module names are long and cumbersome to type again and again. The below code would work the same as above.\n",
    "\n",
    "# UNCOMMENT THE BELOW TWO LINES OF CODE TO TRY THEM\n",
    "# import math as mt\n",
    "# mt.sqrt(16)"
   ]
  },
  {
   "cell_type": "markdown",
   "metadata": {},
   "source": [
    "    2. Importing only the required functions from the module"
   ]
  },
  {
   "cell_type": "code",
   "execution_count": 6,
   "metadata": {},
   "outputs": [
    {
     "data": {
      "text/plain": [
       "720"
      ]
     },
     "execution_count": 6,
     "metadata": {},
     "output_type": "execute_result"
    }
   ],
   "source": [
    "from math import factorial, sqrt\n",
    "factorial(sqrt(36))         # Calculate the factorial of the squareroot of 36  "
   ]
  },
  {
   "cell_type": "markdown",
   "metadata": {},
   "source": [
    "    3. Importing a module into Python workspace"
   ]
  },
  {
   "cell_type": "code",
   "execution_count": 7,
   "metadata": {},
   "outputs": [
    {
     "data": {
      "text/plain": [
       "64.0"
      ]
     },
     "execution_count": 7,
     "metadata": {},
     "output_type": "execute_result"
    }
   ],
   "source": [
    "from math import *\n",
    "pow(4, 3)         # Calculate 4 to the power of 3"
   ]
  },
  {
   "cell_type": "markdown",
   "metadata": {},
   "source": [
    "Notice the difference in function calls in the last two ways as compared to the 1<sup>st</sup> way.\n",
    "\n",
    "The **import** statement will be scoped according to where it is used. If it is used at the top of a notebook, then everything in the file will have access to whatever is imported. If it is used within a function (or any kind of block), then only subsequent lines in that function (block) can use the module. It's common practice to use the **first code block** in a **Python Notebook** to import all the required modules."
   ]
  },
  {
   "cell_type": "markdown",
   "metadata": {},
   "source": [
    "<br>\n",
    "\n",
    "## Data Structures in Python\n",
    "\n",
    "### **Mutable vs. Immutable Datatypes**\n",
    "\n",
    "An **Immutable** object doesn’t allow modification after creation. Objects of built-in types like \n",
    "\n",
    "* int \n",
    "* float \n",
    "* bool\n",
    "* str\n",
    "* tuple\n",
    "\n",
    "are immutable. For example, we cannot change the 3<sup>rd</sup> element of a string **\"MALL\"** to make it **\"MAIL\"** after its initialization.\n",
    "\n",
    "A **Mutable** object can be changed after it is created. Objects of built-in types like\n",
    "\n",
    "* list\n",
    "* set, and \n",
    "* dict \n",
    "\n",
    "are mutable. That means, it's easy to modify a specific element of a list after its initialization.\n",
    "\n",
    "### **Lists**\n",
    "\n",
    "#### Lists can be used to hold an ordered sequence of values.\n",
    "\n",
    "* We can have different types of values in the same list.\n",
    "* A list is a mutable data structure, i.e. their content can change after initialization   \n",
    "\n",
    "<h3 style=\"color: red\"> <u>NOTE</u>: Python follows <u>0-based indexing</u>, which means when we're looking at elements inside an ordered data structure, we start counting from (0, 1, 2, ... , n-1) instead of (1, 2, 3, ... , n) for a data strucutre containing 'n' elements. "
   ]
  },
  {
   "cell_type": "code",
   "execution_count": 9,
   "metadata": {},
   "outputs": [
    {
     "data": {
      "text/plain": [
       "'!'"
      ]
     },
     "execution_count": 9,
     "metadata": {},
     "output_type": "execute_result"
    }
   ],
   "source": [
    "# Initializing a list with 5 elements\n",
    "my_list = [\"Waving\", \"hi\", \"to\", \"security\", \"cameras\"]\n",
    "my_list.append(\"!\")          # Append a new element to the end of the list\n",
    "my_list[5]                   # Access the 4th element (0-based indexing) of the list"
   ]
  },
  {
   "cell_type": "code",
   "execution_count": 10,
   "metadata": {},
   "outputs": [
    {
     "data": {
      "text/plain": [
       "['Waving', 'hi', 'to', 'the', 'security', 'cameras', '!']"
      ]
     },
     "execution_count": 10,
     "metadata": {},
     "output_type": "execute_result"
    }
   ],
   "source": [
    "# Inserting a new element at a specified index in the list\n",
    "my_list.insert(3, \"the\") #YS's remark - 'the' will be the 3rd \n",
    "my_list"
   ]
  },
  {
   "cell_type": "code",
   "execution_count": 11,
   "metadata": {},
   "outputs": [
    {
     "data": {
      "text/plain": [
       "['Waving', 'hi', 'to', 'the', 'cameras', '!']"
      ]
     },
     "execution_count": 11,
     "metadata": {},
     "output_type": "execute_result"
    }
   ],
   "source": [
    "# remove an element from the list\n",
    "my_list.remove(\"security\")\n",
    "my_list"
   ]
  },
  {
   "cell_type": "markdown",
   "metadata": {},
   "source": [
    "Another useful function to know when dealing with lists is the `extend` function. With the help of `extend` function, you can append more than one item at the same time to a list."
   ]
  },
  {
   "cell_type": "code",
   "execution_count": 19,
   "metadata": {},
   "outputs": [
    {
     "data": {
      "text/plain": [
       "['If',\n",
       " 'you',\n",
       " 'love',\n",
       " 'something',\n",
       " 'set',\n",
       " 'it',\n",
       " 'free',\n",
       " ['unless', \"it's\", 'a', 'tiger']]"
      ]
     },
     "execution_count": 19,
     "metadata": {},
     "output_type": "execute_result"
    }
   ],
   "source": [
    "# Extending a list by adding 4 new items to it\n",
    "#your_list = [\"If\", \"you\", \"love\", \"something\", \"set\", \"it\", \"free\"]\n",
    "#your_list.extend([\"unless\", \"it's\", \"a\", \"tiger\"])\n",
    "#print(\" \".join(word for word in your_list))     # Easy way to print all the items of a list (separated by spaces) \n",
    "\n",
    "# If we use the same argument to an append function, it will give us a different result!\n",
    "# UNCOMMENT THE FOLLOWING LINES TO SEE THE DIFFERENCE BETWEEN APPEND() AND EXTEND()\n",
    "\n",
    "your_list = [\"If\", \"you\", \"love\", \"something\", \"set\", \"it\", \"free\"]\n",
    "your_list.append([\"unless\", \"it's\", \"a\", \"tiger\"])\n",
    "your_list\n",
    "\n",
    "#output:\n",
    "['If',\n",
    " 'you',\n",
    " 'love',\n",
    " 'something',\n",
    " 'set',\n",
    " 'it',\n",
    " 'free',\n",
    " #['unless', \"it's\", 'a', 'tiger']]"
   ]
  },
  {
   "cell_type": "markdown",
   "metadata": {},
   "source": [
    "### **Tuples**\n",
    "\n",
    "#### A tuple is a collection of ordered, but unchangeable objects.\n",
    "\n",
    "* A tuple is an **immutable** data structure, i.e. their content cannot be changed after initialization.\n",
    "* Tuples are simple and optimized data structure, and generally **faster to access and search** than lists."
   ]
  },
  {
   "cell_type": "code",
   "execution_count": 24,
   "metadata": {},
   "outputs": [
    {
     "name": "stdout",
     "output_type": "stream",
     "text": [
      "Second element:  two\n",
      "Index of 3.0 is:  2\n",
      "Last element:  four\n",
      "Index of \"two\" is:  1\n"
     ]
    }
   ],
   "source": [
    "my_tuple = (1, \"two\", 3.0, \"four\")\n",
    "# Accessing the second element of tuple\n",
    "print(\"Second element: \", my_tuple[1])\n",
    "\n",
    "# Finding the index of an item of tuple\n",
    "print(\"Index of 3.0 is: \", my_tuple.index(3.0))\n",
    "\n",
    "print(\"Last element: \", my_tuple[-1])\n",
    "print(\"Index of \\\"two\\\" is: \", my_tuple.index(\"two\"))"
   ]
  },
  {
   "cell_type": "markdown",
   "metadata": {},
   "source": [
    "### **Dictionaries**\n",
    "\n",
    "#### A dictionary is a sequence of items where each item consists of a key-value pair. Dictionaries are not sorted. You can access the list of keys or values independently.\n",
    "\n",
    "* Keys are unique, while the values may or may not be unique.\n",
    "* The **values** can be of any datatype (mutable or immutable), but the **keys** should be of an immutable datatype.\n",
    "* The items in a dictionary are unordered."
   ]
  },
  {
   "cell_type": "code",
   "execution_count": 28,
   "metadata": {},
   "outputs": [
    {
     "name": "stdout",
     "output_type": "stream",
     "text": [
      "800MB\n",
      "0b1000\n"
     ]
    }
   ],
   "source": [
    "my_dictionary = {\n",
    "    'Syllabus': \"80GB\",\n",
    "    'Study': \"800MB\",\n",
    "    'Retention': \"80KB\",\n",
    "    'Regurgitation': \"80B\",Mitchell\n",
    "    'Result': \"0b1000\"  \n",
    "}\n",
    "\n",
    "# Accessing the value associated with the key 'Study'\n",
    "print(my_dictionary['Study'])\n",
    "print(my_dictionary['Result'])"
   ]
  },
  {
   "cell_type": "code",
   "execution_count": 29,
   "metadata": {},
   "outputs": [
    {
     "name": "stdout",
     "output_type": "stream",
     "text": [
      "Keys:  dict_keys(['Syllabus', 'Study', 'Retention', 'Regurgitation', 'Result'])\n",
      "Values:  dict_values(['80GB', '800MB', '80KB', '80B', '0b1000'])\n"
     ]
    }
   ],
   "source": [
    "# Accessing the list of keys\n",
    "print(\"Keys: \", my_dictionary.keys())\n",
    "\n",
    "# Accessing the list of values\n",
    "print(\"Values: \", my_dictionary.values())"
   ]
  },
  {
   "cell_type": "code",
   "execution_count": null,
   "metadata": {},
   "outputs": [],
   "source": [
    "# To check if the dictionary has a specific 'key' value\n",
    "'Syllabus' in my_dictionary.keys()"
   ]
  },
  {
   "cell_type": "markdown",
   "metadata": {},
   "source": [
    "### **Sets**\n",
    "\n",
    "#### A Set is an unordered collection data type that is iterable, mutable, and has no duplicate elements.\n",
    "\n",
    "* Like a dictionary, a set is also an unordered datatype.\n",
    "* You cannot store duplicate elements in a set."
   ]
  },
  {
   "cell_type": "code",
   "execution_count": 36,
   "metadata": {},
   "outputs": [
    {
     "data": {
      "text/plain": [
       "{'Claire', 'Haley', 'Luke', 'Phil'}"
      ]
     },
     "execution_count": 36,
     "metadata": {},
     "output_type": "execute_result"
    }
   ],
   "source": [
    "family_set = {'Phil', 'Claire', 'Luke', 'Haley', 'Alex'}\n",
    "\n",
    "# Adding a duplicate element makes no difference to the set\n",
    "#family_set.add('Claire')\n",
    "\n",
    "# An element can be deleted using 'delete' function\n",
    "#family_set.remove('Claire') # no Claire in the set\n",
    "\n",
    "family_set.add('Claire') # Claire back at the same location\n",
    "family_set.remove('Alex')\n",
    "\n",
    "family_set"
   ]
  },
  {
   "cell_type": "markdown",
   "metadata": {},
   "source": [
    "Besides the usual `add` and `remove` operations, we can also perform set operations like `intersection`, `union` and `difference` to two (or more) sets. "
   ]
  },
  {
   "cell_type": "code",
   "execution_count": 40,
   "metadata": {},
   "outputs": [
    {
     "name": "stdout",
     "output_type": "stream",
     "text": [
      "Intersection:  {'Claire'}\n",
      "Union:  {'Mitchell', 'Claire', 'Phil', 'DeeDee', 'Jay', 'Haley', 'Luke', 'Alex'}\n",
      "Difference:  {'Mitchell', 'DeeDee', 'Jay'}\n"
     ]
    }
   ],
   "source": [
    "family_1 = {'Phil', 'Claire', 'Luke', 'Haley', 'Alex'}\n",
    "family_2 = {'Jay', 'Claire', 'Mitchell', 'DeeDee'}\n",
    "\n",
    "# Intersection\n",
    "print(\"Intersection: \", family_1.intersection(family_2)) #same value in both set\n",
    "\n",
    "# Union\n",
    "print(\"Union: \", family_1.union(family_2))\n",
    "\n",
    "# Difference\n",
    "print(\"Difference: \", family_2.difference(family_1))"
   ]
  },
  {
   "cell_type": "markdown",
   "metadata": {},
   "source": [
    "As you can see from the above results, set are not ordered datatypes.\n",
    "\n",
    "<br/>\n",
    "\n",
    "This might be a helpful table to refer to if you're confused about which brackets to use for each data structure -\n",
    "\n",
    "| Data Structure | Brackets Used | Mutability |\n",
    "| --- |:---:| ---: |\n",
    "| **Lists** | `[ ]` | Mutable |\n",
    "| **Tuples** | `( )` | Immutable |\n",
    "| **Dictionaries** | `{ }` | Mutable |\n",
    "| **Sets** | `{ }` | Mutable |\n"
   ]
  },
  {
   "cell_type": "markdown",
   "metadata": {},
   "source": [
    "<br/>\n",
    "\n",
    "## Conditional Statements\n",
    "\n",
    "Python supports the usual logical comparators seen in other programming languages\n",
    "\n",
    "* **Equals:** a == b\n",
    "* **Not Equals:** a != b\n",
    "* **Less than:** a < b\n",
    "* **Less than or equal to:** a <= b\n",
    "* **Greater than:** a > b\n",
    "* **Greater than or equal to:** a >= b\n",
    "\n",
    "### If...Else Conditional Statements\n",
    "\n",
    "An `if` condition is written in Python to execute a block of code when a condition is fulfilled. For example:\n",
    "\n",
    "    if (code != fixed):\n",
    "        get more coffee\n",
    "        fix code\n",
    "        \n",
    "You can also include an `else` code block that will get executed when `if` condition isn't satisfied.\n",
    "\n",
    "    if (code != fixed):\n",
    "        get more coffee\n",
    "        fix code\n",
    "    else:\n",
    "        relax\n",
    "\n",
    "Alternatively, if you need to address more than one conditions, each having their own seperate code block, you can include `elif` conditions:\n",
    "\n",
    "    if (code != fixed):\n",
    "        get more coffee\n",
    "        fix code\n",
    "    elif (code == fixed and time >= 5PM):\n",
    "        go home\n",
    "        relax\n",
    "    elif (code == fixed and time < 5PM):\n",
    "        hide in the pantry\n",
    "    else:\n",
    "        find another error to fix"
   ]
  },
  {
   "cell_type": "code",
   "execution_count": 45,
   "metadata": {},
   "outputs": [],
   "source": [
    "p = \"P\"\n",
    "np = \"NP\""
   ]
  },
  {
   "cell_type": "code",
   "execution_count": 47,
   "metadata": {},
   "outputs": [
    {
     "name": "stdout",
     "output_type": "stream",
     "text": [
      "Yay! I solved it!\n"
     ]
    }
   ],
   "source": [
    "if p != np:\n",
    "    p = \"N\" + p\n",
    "    print(\"Try running again!\")\n",
    "else:\n",
    "    print(\"Yay! I solved it!\")"
   ]
  },
  {
   "cell_type": "markdown",
   "metadata": {},
   "source": [
    "### For Loops\n",
    "\n",
    "A `for` loop can be used if we want to execute the same code block multiple number of times. For example:\n",
    "\n",
    "    print(\"Yeah, we got the\")\n",
    "    for i in range(0, 3):\n",
    "        print(\"Fire\")\n",
    "    print(\"And we gonna let it\")\n",
    "    for j in range(0,3):\n",
    "        print(\"Burn\")\n",
    "\n",
    "The `range` function is used to define the number of times a for loop will run. For example, in the above example, the statements inside the for loop will run for 3 times (i.e. starting from 0 and ending before 3). So, `range(0, 3)` means loop is running for `iterations 0, 1 and 2`.       "
   ]
  },
  {
   "cell_type": "code",
   "execution_count": 48,
   "metadata": {},
   "outputs": [
    {
     "name": "stdout",
     "output_type": "stream",
     "text": [
      "Yeah, we got the\n",
      "Fire\n",
      "Fire\n",
      "Fire\n",
      "And we gonna let it\n",
      "Burn\n",
      "Burn\n",
      "Burn\n"
     ]
    }
   ],
   "source": [
    "# Easy way to print out the lyrics of of a song by Ellie Goulding\n",
    "print(\"Yeah, we got the\")\n",
    "for i in range(0, 3): \n",
    "    print(\"Fire\")\n",
    "print(\"And we gonna let it\")\n",
    "for j in range(0,3):\n",
    "    print(\"Burn\")"
   ]
  },
  {
   "cell_type": "markdown",
   "metadata": {},
   "source": [
    "Another way to use a `for loop` is to use it to iterate over all the elements of an iterable data structure (list, tuple, dictionary, set or string). Here's an example -  "
   ]
  },
  {
   "cell_type": "code",
   "execution_count": 49,
   "metadata": {},
   "outputs": [
    {
     "name": "stdout",
     "output_type": "stream",
     "text": [
      "M to-the I to-the S to-the T\n"
     ]
    }
   ],
   "source": [
    "my_str = \"MIST\"\n",
    "result = \"\"\n",
    "for char in my_str:\n",
    "    if char != 'T':\n",
    "        result += char + \" to-the \"\n",
    "    else:\n",
    "        result += char\n",
    "print(result)"
   ]
  },
  {
   "cell_type": "markdown",
   "metadata": {},
   "source": [
    "<br/>\n",
    "\n",
    "## Functions in Python\n",
    "\n",
    "#### A function is a block of code which only runs when it is called. A function may or may not return some data as a result. We can also pass data into the function, known as parameters.\n",
    "\n",
    "* A function definition is preceded by the keyword **`def`**\n",
    "* If you want your function to return a result, the last line of a function should be a **`return`** statement.\n",
    "* A function call looks like **`function_name(param1, param2,...)`**. If the function doesn't require any parameters, we call it with empty parentheses **`function_name()`**"
   ]
  },
  {
   "cell_type": "code",
   "execution_count": 50,
   "metadata": {},
   "outputs": [
    {
     "name": "stdout",
     "output_type": "stream",
     "text": [
      "Area of a circle with radius 5:  78.53981633974483\n"
     ]
    }
   ],
   "source": [
    "# Function to compute the area of a circle\n",
    "def calculate_area(radius):\n",
    "    from math import pi\n",
    "    area = pi * radius * radius\n",
    "    return area\n",
    "\n",
    "# Calling the function \n",
    "print(\"Area of a circle with radius 5: \", calculate_area(5))"
   ]
  },
  {
   "cell_type": "markdown",
   "metadata": {},
   "source": [
    "<br/>\n",
    "\n",
    "## Basic In-built Functions in Python\n",
    "\n",
    "The `print` function (as seen above) can be used in different ways to print something (plain text, numbers, variables and data structures) in desired output format. For example the following 4 `print` statements can be used to print out the same output in different ways. Each one has its own functionality and advantage over the others.\n"
   ]
  },
  {
   "cell_type": "code",
   "execution_count": 51,
   "metadata": {},
   "outputs": [
    {
     "name": "stdout",
     "output_type": "stream",
     "text": [
      "My birthday is: 12/10/1970\n",
      "My birthday is:  12 / 10 / 1970\n",
      "My birthday is: 12/10/1970 \n",
      "My birthday is: 12/10/1970\n"
     ]
    }
   ],
   "source": [
    "day = 12\n",
    "month = 10\n",
    "year = 1970\n",
    "print(\"My birthday is: \" + str(day) + \"/\" + str(month) + \"/\" + str(year))    # We have to explicitly convert the 'int' variables to string in this case\n",
    "print(\"My birthday is: \", day, \"/\", month, \"/\", year)                        # Concatenating with a comma adds an automatic space before the next string/variable \n",
    "print(\"My birthday is: {}/{}/{} \".format(day, month, year)) # The order of the variables can be specified within the curly braces (starting from 0) for the following variable arguments\n",
    "print(\"My birthday is: %d/%d/%d\" % (day, month, year))"
   ]
  },
  {
   "cell_type": "markdown",
   "metadata": {},
   "source": [
    "The `type` function can be used to find out the datatype of a variable in Python. Let's see how it works on different types of variables."
   ]
  },
  {
   "cell_type": "code",
   "execution_count": 59,
   "metadata": {},
   "outputs": [
    {
     "name": "stdout",
     "output_type": "stream",
     "text": [
      "<class 'list'>\n",
      "<class 'str'>\n",
      "<class 'int'>\n",
      "<class 'str'>\n",
      "<class 'float'>\n",
      "<class 'dict'>\n",
      "<class 'str'>\n"
     ]
    }
   ],
   "source": [
    "my_list = ['a', 7, \"cat\", 249.50, {'a': 50, 'b': 75, 'c': 125.5, 'd': \"test\"}]\n",
    "\n",
    "# Datatype of the list\n",
    "print(type(my_list))\n",
    "\n",
    "\n",
    "# Datatype of all items in the dictionary\n",
    "for item in my_list:\n",
    "    print(type(item))\n",
    "\n",
    "    \n",
    "# Datatype of the value corresponding to first key in the dictionary\n",
    "print(type(my_list[4]['d']))\n",
    "\n",
    "#<class 'int'>"
   ]
  },
  {
   "cell_type": "markdown",
   "metadata": {},
   "source": [
    "As you can see from the output above, their are different types of datatypes defined in Python. The `str( )`, `int( )` and `float()` functions can be used to parse one datatype into another. However, the result of these parsings depend on whether the input can be parsed into the new datatype or not."
   ]
  },
  {
   "cell_type": "code",
   "execution_count": 60,
   "metadata": {},
   "outputs": [
    {
     "name": "stdout",
     "output_type": "stream",
     "text": [
      "7 parsed into a string type produces - 7 <class 'str'>\n",
      "249.5 parsed into an integer type produces - 249 <class 'int'>\n",
      "7 parsed into an float type produces - 7.0 <class 'float'>\n",
      "cat parsed into a list type produces - ['c', 'a', 't'] <class 'list'>\n"
     ]
    }
   ],
   "source": [
    "parse_str = str(my_list[1])\n",
    "print(my_list[1], \"parsed into a string type produces -\", parse_str, type(parse_str))\n",
    "parse_int = int(my_list[3])\n",
    "print(my_list[3], \"parsed into an integer type produces -\", parse_int, type(parse_int))\n",
    "parse_float = float(my_list[1])\n",
    "print(my_list[1], \"parsed into an float type produces -\", parse_float, type(parse_float))\n",
    "cat_list = list(my_list[2])\n",
    "print(my_list[2], \"parsed into a list type produces -\", cat_list, type(cat_list))"
   ]
  },
  {
   "cell_type": "markdown",
   "metadata": {},
   "source": [
    "The `len` function can be used on just about any data structure in Python, to compute the number of elements in a data structure. "
   ]
  },
  {
   "cell_type": "code",
   "execution_count": 61,
   "metadata": {},
   "outputs": [
    {
     "name": "stdout",
     "output_type": "stream",
     "text": [
      "The no. of elements in my_list are: 5\n",
      "The no. of elements in my_dictionary are: 5\n",
      "The length of the word 'Mississippi' is:  11\n"
     ]
    }
   ],
   "source": [
    "# The number of elements in a list\n",
    "print(\"The no. of elements in my_list are:\", len(my_list))\n",
    "\n",
    "# The number of elements in a dictionary\n",
    "print(\"The no. of elements in my_dictionary are:\", len(my_dictionary))\n",
    "\n",
    "# It can also be used to compute the length of a string\n",
    "print(\"The length of the word 'Mississippi' is: \", len('Mississippi'))"
   ]
  },
  {
   "cell_type": "markdown",
   "metadata": {},
   "source": [
    "<br/>\n",
    "\n",
    "OK! Now, that we have learned so much about Python, let's apply that knowledge to solve 2 short exercises.\n",
    "\n",
    "<br/>\n",
    "\n",
    "## Exercise 1 - The Josephus Problem\n",
    "\n",
    "Let's start with a classical programming problem, that originates in the ancient times when there were no computers at all. We can see that practicing math and logic can sometimes save one's life!\n",
    "\n",
    "About 2000 years ago there was a war, and during one of its battles, a group of soldiers was cornered in a cave by the attacking Roman army. To avoid capture they decided to stand in a circle and kill every third soldier, until only one person remains - who was supposed to commit suicide. The problem is named after this last person. You can read the full story of Josephus and get the mathematical explanation of the problem in this [Wikipedia article](https://en.wikipedia.org/wiki/Josephus_problem).\n",
    "\n",
    "Your task is to determine for a given number of people N and constant steps K, the position of the person who survives at the end - i.e. the safe position. For example if there are 10 people and they eliminate each third:"
   ]
  },
  {
   "cell_type": "code",
   "execution_count": 1,
   "metadata": {},
   "outputs": [],
   "source": [
    "#number of people n, constant steps k\n",
    "\n",
    "def josephus_survivor(n, k):\n",
    "    # TODO: Initialize a list of people (1, 2, ... , n). Call it 'people_list'\n",
    "    people_list = []\n",
    "    people_list.extend(range(1,n+1))\n",
    "    \n",
    "    # List that will store the result\n",
    "    result = []\n",
    "    \n",
    "    # Other variables\n",
    "    i = 0\n",
    "    \n",
    "    # While the number of people in list > 0, execute the inner code block \n",
    "    while len(people_list) > 0:\n",
    "        i += k-1\n",
    "        while i >= len(people_list):\n",
    "            i = i - len(people_list)\n",
    "        \n",
    "        #TODO: Pop the element i from the people_list and add it to result\n",
    "        person = people_list.pop(i)\n",
    "        #print(person)\n",
    "        \n",
    "        result.append(person)\n",
    "        \n",
    "    print(\"Order of deaths: \", result[:-1])\n",
    "    return result.pop()"
   ]
  },
  {
   "cell_type": "code",
   "execution_count": 2,
   "metadata": {},
   "outputs": [
    {
     "name": "stdout",
     "output_type": "stream",
     "text": [
      "Enter no. of defendants :10\n",
      "No. of steps: 3\n",
      "Order of deaths:  [3, 6, 9, 2, 7, 1, 8, 5, 10]\n",
      "The last man standing was:  4\n"
     ]
    }
   ],
   "source": [
    "n = int(input(\"Enter no. of defendants :\"))\n",
    "k = int(input(\"No. of steps: \"))\n",
    "print(\"The last man standing was: \", josephus_survivor(n, k))"
   ]
  },
  {
   "cell_type": "markdown",
   "metadata": {},
   "source": [
    "<br/>\n",
    "\n",
    "## Exercise 2 - Secret Messages\n",
    "\n",
    "For our 2<sup>nd</sup> exercise, let's make an encryption system that can be used to send and receive encrypted messages with our friends. A **cipher** is a type of secret code where you swap the letters around so that no one can read your messages. Here we’ll be using one of the oldest and most famous ciphers, the **Caesar Cipher**, which is named after **Julius Caesar**.   \n",
    "\n",
    "Using this cipher, we need a secret key to encrypt a letter. For example, if our secret key is 5, we can encrypt the word **\"hello\"** as -\n",
    "\n",
    "    h + 5 = m\n",
    "    e + 5 = j\n",
    "    l + 5 = q\n",
    "    l + 5 = q \n",
    "    o + 5 = t\n",
    "\n",
    "into an encrypted word **\"mjqqt\"**."
   ]
  },
  {
   "cell_type": "code",
   "execution_count": 9,
   "metadata": {},
   "outputs": [
    {
     "name": "stdout",
     "output_type": "stream",
     "text": [
      "abc\n",
      "def\n"
     ]
    }
   ],
   "source": [
    "# Step 1: Define a string containing all the alphabets\n",
    "alphabets = \"abcdefghijklmnopqrstuvwxyz\"\n",
    "\n",
    "# Step 2: Define a key and a variable to store new encrypted message\n",
    "key = 3\n",
    "new_message = \"\"\n",
    "\n",
    "# TODO: Step 3: Input the message from the user and store it in the variable 'message'\n",
    "message = input()\n",
    "\n",
    "# TODO: Step 4: Loop through every character in the input message\n",
    "        # (a) Find position of the character in 'alphabets'\n",
    "for char in message:\n",
    "        # (b) Set new position by adding key to the position value\n",
    "    new_char = chr(ord(char) + key)\n",
    "        # (c) Add the new encrypted character to the 'new_message'  \n",
    "        #YS: increment a character ord():char to number in ascii, chr(): number to char \n",
    "    new_message +=new_char\n",
    "# TODO: Step 5: Print the encrypted message stored in 'new_message'\n",
    "print(new_message)"
   ]
  },
  {
   "cell_type": "markdown",
   "metadata": {},
   "source": [
    "<br/>\n",
    "\n",
    "\n",
    "## Bonus Exercise - Nested Lists <span style='color:red;'><b>[OPTIONAL]</b></span>\n",
    "\n",
    "As a bonus exercise for students who already have a sound understanding and experience in Python, let's see how far you can get to solve this problem of intermediate difficulty. As noted, this exercise is <span style='color:red;'><b>[OPTIONAL]</b></span>, and only for students who have solved the above two exercises. \n",
    "\n",
    "Python endorses the idea of a **nested list**, i.e. **a list that contains other lists**. These **\"inner\" lists** can themselves contain lists, and so on to an (in theory) arbitrary depth.\n",
    "\n",
    "For example: \n",
    "\n",
    "`[1, 2, [1, 5, 3], [1, -1, 1, [1, 2], 5], [1, 3]]` \n",
    "\n",
    "is a nested list which goes **three levels** deep.\n",
    "\n",
    "Your job is to complete a function called **search_list** that takes as input a `target` integer and a possibly nested `list`, and searches through the list (and any nested lists) for the target. The function should return `True`, if the target integer is present in the list or sublists at any depth, and `False` otherwise.\n",
    "\n",
    "**HINT**: There are a few different ways to implement this function. One is using **[recursion](https://en.wikipedia.org/wiki/Recursion_(computer_science))**, while another approach works similarly to the **[breadth-first search](https://en.wikipedia.org/wiki/Breadth-first_search)**."
   ]
  },
  {
   "cell_type": "code",
   "execution_count": null,
   "metadata": {},
   "outputs": [],
   "source": [
    "# TODO: Implement the following function\n",
    "def search_list(target, list_to_search):\n",
    "\n",
    "    \n",
    "    \n",
    "    return False"
   ]
  },
  {
   "cell_type": "markdown",
   "metadata": {},
   "source": [
    "Fingers crossed, run the below code cell to test your function:"
   ]
  },
  {
   "cell_type": "code",
   "execution_count": null,
   "metadata": {},
   "outputs": [],
   "source": [
    "test_list_1 = [1, 3, 1, [2, 4], 6, 7]\n",
    "test_list_2 = [[], 1, [-1, 3, [5], [[[[[7]]]], [6]], 8, 9]]\n",
    "\n",
    "if search_list(7, test_list_2) and search_list(4, test_list_1) and search_list(6, test_list_2):\n",
    "    print(\"Congratulations! Your code works! :)\")\n",
    "else:\n",
    "    print(\"Not quite! Please try again!\")"
   ]
  }
 ],
 "metadata": {
  "kernelspec": {
   "display_name": "Python 3",
   "language": "python",
   "name": "python3"
  },
  "language_info": {
   "codemirror_mode": {
    "name": "ipython",
    "version": 3
   },
   "file_extension": ".py",
   "mimetype": "text/x-python",
   "name": "python",
   "nbconvert_exporter": "python",
   "pygments_lexer": "ipython3",
   "version": "3.7.1"
  }
 },
 "nbformat": 4,
 "nbformat_minor": 2
}
