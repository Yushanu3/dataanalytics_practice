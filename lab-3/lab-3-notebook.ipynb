{
 "cells": [
  {
   "cell_type": "markdown",
   "metadata": {},
   "source": [
    "<h1 align='center'> COMP2420/COMP6420 - Introduction to Data Management, Analysis and Security</h1>\n",
    "\n",
    "<h2 align='center'> Lab 03 - Data Visualization with Matplotlib</h2>\n",
    "\n",
    "*****\n",
    "\n",
    "Now that we've got a fair idea of how to wrangle and analyse data using Python, let's get a bit creative, and dwelve into Data Visualization with Python. **Data Visualization** is a very important part of data analysis. You can use it to explore and understand your data. If a Data Scientist understands the data well, he/she will have a better chance to find some insights from that data. And as you start finding insights, you can use visualizations again to be able to share your findings with other people.\n",
    "\n",
    "_Some parts of this introductory tutorial have been taken from this [Data Visualization 101](https://blog.hubspot.com/marketing/types-of-graphs-for-data-visualization) blogpost, and this [Matplotlib Tutorial](https://towardsdatascience.com/data-science-with-python-intro-to-data-visualization-and-matplotlib-5f799b7c6d82). Feel free to look through these for further details._\n",
    "\n",
    "\n",
    "### Matplotlib\n",
    "\n",
    "Matplotlib is a Python 2D plotting library which produces publication quality figures in a variety of hardcopy formats and interactive environments across platforms. Matplotlib can be used in **Python scripts**, the Python and IPython shells, the **Jupyter notebook**, **web application servers**, and four graphical user interface toolkits.\n",
    "\n",
    "Matplotlib tries to make easy things easy and hard things possible. You can generate **plots**, **histograms**, power spectra, **bar charts**, errorcharts, **scatterplots**, etc., with just a few lines of code.\n",
    "\n",
    "* For simple plotting the pyplot module provides a MATLAB-like interface, particularly when combined with IPython. \n",
    "\n",
    "* For the power user, you have full control of line styles, font properties, axes properties, etc, via an object oriented interface or via a set of functions familiar to MATLAB users."
   ]
  },
  {
   "cell_type": "code",
   "execution_count": 1,
   "metadata": {},
   "outputs": [],
   "source": [
    "import json\n",
    "import os \n",
    "import numpy as np\n",
    "import pandas as pd\n",
    "# Importing the Matplotlib Module \n",
    "import matplotlib.pyplot as plt\n",
    "# Magic Function to display the Matplotlib plots\n",
    "# in the notebook instead of an external window\n",
    "%matplotlib inline\n",
    "from mpl_toolkits.axes_grid1 import make_axes_locatable\n",
    "# Importing the seaborn plotting module\n",
    "import seaborn as sns\n",
    "plt.style.use('seaborn')"
   ]
  },
  {
   "cell_type": "markdown",
   "metadata": {},
   "source": [
    "### What Kind Of Plot?\n",
    "\n",
    "However, an important question to consider making a visualization for your data is - **\"What kind of a plot do I need?\"**. The answer normally lies in the data that you want to plot. When in doubt, it's usually helpful to ask yourself the following questions to gain some clarity into the kind of chart you would need - \n",
    "\n",
    "\n",
    "* **Do you want to compare values?** - If you need to compare one or many value sets, and need to visualize the lows and highs in the data sets, you would need -\n",
    "\n",
    "    * **Column Chart** - A column chart is used to show a comparison among different items, or it can show a comparison of items over time.\n",
    "    <img src='./column.png'>\n",
    "    * **Bar Plot** - A bar graph, basically a horizontal column chart, should be used to avoid clutter when one data label is long or if you have more than 10 items to compare. This type of visualization can also be used to display negative numbers.\n",
    "    <img src='./bar.png'>\n",
    "    * **Line Plot** - A line graph reveals trends or progress over time and can be used to show many different categories of data. You should use it when you chart a continuous data set.\n",
    "    <img src='./line.png'>\n",
    "    * **Scatter Plot** - A scatter plot will show the relationship between two different variables or it can reveal the distribution trends. It should be used when there are many different data points, and you want to highlight similarities in the data set. It's also useful when looking for outliers or for understanding the distribution of your data.\n",
    "    <img src='./scatter.png'>\n",
    "    * **Pie Chart** - A pie chart shows a static number and how categories represent part of a whole -- the composition of something. A pie chart represents numbers in percentages, and the total sum of all segments needs to equal 100%.\n",
    "    <img src='./pie.png'>\n",
    "\n",
    "\n",
    "* **Do you want to show the composition of something?** - Use this type of chart to show how individual parts make up the whole of something.\n",
    "\n",
    "    * **Pie Chart**\n",
    "    * **Stacked Bar Plot** - This should be used to compare many different items and show the composition of each item being compared.\n",
    "    <img src='stacked_bar.png'>\n",
    "    * **Area Chart** - An area chart is basically a line chart, but the space between the x-axis and the line is filled with a color or pattern. It is useful for showing part-to-whole relations. It helps you analyze both overall and individual trend information.\n",
    "    <img src='./area.png'>\n",
    "    \n",
    "\n",
    "* **Do you want to understand the distribution of your data?** - Distribution charts help you to understand outliers, the normal tendency, and the range of information in your values.\n",
    "\n",
    "    * **Scatter Plot**\n",
    "    * **Box Plot** - A Box Plot is a way to show the distribution of values based on the five-number summary: **minimum**, **first quartile**, **median**, **third quartile**, and **maximum**. This type of plot can also show **outliers**.\n",
    "    <img src='./box.png'>\n",
    "    * **Histogram** - A Histogram is an accurate representation of the distribution of numeric data. To create a histogram, first, we divide the entire range of values into a series of intervals, and second, we count how many values fall into each interval. The intervals are also called **bins**. The bins are consecutive and non-overlapping intervals of a variable.\n",
    "    <img src='./histogram.png'>\n",
    "\n",
    "\n",
    "* **Are you interested in analyzing trends in your data set?** - If you want to know more information about how a data set performed during a specific time period, there are specific chart types that do extremely well.\n",
    "\n",
    "    * **Line Plot**\n",
    "    * **Column Chart**\n",
    "    \n",
    "\n",
    "* **Do you want to better understand the relationship between value sets?** - Relationship charts are suited to showing how one variable relates to one or numerous different variables. You could use this to show how something positively effects, has no effect, or negatively effects another variable.\n",
    "\n",
    "    * **Scatter Plot**\n",
    "    * **Bubble Chart** - A bubble chart is similar to a scatter plot in that it can show distribution or relationship. There is a third data set, which is indicated by the size of the bubble or circle.\n",
    "    <img src='./bubble.jpeg'>\n",
    "    * **Line Plot**    \n",
    "\n",
    "\n",
    "\n",
    "### Basic Visualization Guidelines\n",
    "\n",
    "Before we look at the different kinds of plots we can make, let us introduce you to some basic rules, that will help you make your plots more descriptive and clear.\n",
    "\n",
    "* The first and **most important** step is to choose an **appropriate plot type**. If there are various options, we can try to compare them, and choose the one that fits our model the best.\n",
    "\n",
    "* When we have chosen  an appropriate plot type, the next most important thing would be to **label the plot axis** and give your plot and **appropriate title**. This makes the plot more informative and understandable.\n",
    "\n",
    "* We can add **point labels** or markers for different categories when needed. It is also possible to add a text label or an arrow at interesting data points to emphasize them.\n",
    "\n",
    "* In some cases, we can use **varying sizes** and **different colors** to make the data  more understandable, and the plot more appealing.\n",
    "\n",
    "<br/>\n",
    "Let's dive into some code and have a look at how Matplotlib helps us visualize our data using the above mentioned plots and guidelines. \n",
    "\n",
    "### Line Plots"
   ]
  },
  {
   "cell_type": "code",
   "execution_count": 2,
   "metadata": {},
   "outputs": [
    {
     "data": {
      "image/png": "[encoded data removed]",
      "text/plain": [
       "<Figure size 432x288 with 1 Axes>"
      ]
     },
     "metadata": {
      "needs_background": "light"
     },
     "output_type": "display_data"
    }
   ],
   "source": [
    "# A line plot to visualize the population growth in Bulgaria\n",
    "years = [1983, 1984, 1985, 1986, 1987]\n",
    "total_population = [8939007, 8954518, 8960387, 8956741, 8943721]\n",
    "\n",
    "# 'plt' was the alias we gave to matplotlib.pyplot earlier\n",
    "plt.plot(years, total_population)\n",
    "plt.title(\"Population Growth in Bulgaria\")\n",
    "plt.xlabel(\"Year\")\n",
    "plt.ylabel(\"Total Population\")\n",
    "plt.show()"
   ]
  },
  {
   "cell_type": "markdown",
   "metadata": {},
   "source": [
    "### Histograms"
   ]
  },
  {
   "cell_type": "code",
   "execution_count": 3,
   "metadata": {},
   "outputs": [
    {
     "data": {
      "image/png": "[encoded data removed]",
      "text/plain": [
       "<Figure size 432x288 with 1 Axes>"
      ]
     },
     "metadata": {
      "needs_background": "light"
     },
     "output_type": "display_data"
    }
   ],
   "source": [
    "# A histogram to visualize the distribution of marks \n",
    "# in a class of 25 students \n",
    "marks = [69, 91, 44, 82, 75,\n",
    "         55, 39, 62, 60, 71, \n",
    "         68, 78, 90, 34, 59, \n",
    "         72, 66, 55, 70, 65,\n",
    "         42, 52, 64, 57, 81]\n",
    "\n",
    "plt.hist(marks, bins = 4)\n",
    "plt.xlabel(\"Marks\")\n",
    "plt.ylabel(\"Frequency\")\n",
    "plt.show()"
   ]
  },
  {
   "cell_type": "markdown",
   "metadata": {},
   "source": [
    "### Bubble Chart"
   ]
  },
  {
   "cell_type": "code",
   "execution_count": 4,
   "metadata": {},
   "outputs": [
    {
     "data": {
      "image/png": "[encoded data removed]",
      "text/plain": [
       "<Figure size 432x288 with 2 Axes>"
      ]
     },
     "metadata": {
      "needs_background": "light"
     },
     "output_type": "display_data"
    }
   ],
   "source": [
    "x = np.random.rand(25) * 10\n",
    "y = np.random.rand(25) * 10\n",
    "z = np.random.rand(25) * 10\n",
    "colors = np.random.rand(25) \n",
    "cm = plt.cm.get_cmap('rainbow')\n",
    "\n",
    "plt.xlabel('X')\n",
    "plt.ylabel('Y')\n",
    "plt.title('Position and Size of Various Items')\n",
    "plt.scatter(x, y, s=z*100,c=colors, cmap=cm)\n",
    "plt.colorbar()\n",
    "plt.show()"
   ]
  },
  {
   "cell_type": "markdown",
   "metadata": {},
   "source": [
    "In addition to the attributes and features shown above, there are a lot more additions that you make to your plots to make them more descriptive and appealing. Have a look at the official [Matplotlib Documentation](https://matplotlib.org/index.html) to know more.\n",
    "\n",
    "Here's a helpful illustration that shows the **Anatomy of a Matplotlib Plot**.\n",
    "<img src='./plot_anatomy.png'>"
   ]
  },
  {
   "cell_type": "markdown",
   "metadata": {},
   "source": [
    "As we have seen above, we can draw inline plots with **plt**, where we can have one plot in each cell of the notebook. Alternatively, it's also possible to have multiple plots (subplots) in a single cell, for ease of visualization and comparison.\n",
    "\n",
    "When adding a subplot to the plot, we give the **add_subplot( )** method a three digit integer, where the first digit is the **number of rows**, the second the **number of columns**, and the third the **index of the subplot**. \n",
    "\n",
    "**For example:** `fig.add_subplot(234)` would mean that we are creating a plot grid of **2 rows** x **3 columns** and this particular subplot would be the **4th subplot** in that grid.\n",
    "<br/>\n",
    "\n",
    "### Exercise 1\n",
    "\n",
    "Using this **[cars dataset](./cars.csv)**, let's try to make a visualization comparing the distribution of data for various features and properties of these cars.  "
   ]
  },
  {
   "cell_type": "code",
   "execution_count": 5,
   "metadata": {},
   "outputs": [
    {
     "data": {
      "text/html": [
       "<div>\n",
       "<style scoped>\n",
       "    .dataframe tbody tr th:only-of-type {\n",
       "        vertical-align: middle;\n",
       "    }\n",
       "\n",
       "    .dataframe tbody tr th {\n",
       "        vertical-align: top;\n",
       "    }\n",
       "\n",
       "    .dataframe thead th {\n",
       "        text-align: right;\n",
       "    }\n",
       "</style>\n",
       "<table border=\"1\" class=\"dataframe\">\n",
       "  <thead>\n",
       "    <tr style=\"text-align: right;\">\n",
       "      <th></th>\n",
       "      <th>type</th>\n",
       "      <th>mpg</th>\n",
       "      <th>cyl</th>\n",
       "      <th>disp</th>\n",
       "      <th>hp</th>\n",
       "      <th>wt</th>\n",
       "      <th>speed</th>\n",
       "    </tr>\n",
       "  </thead>\n",
       "  <tbody>\n",
       "    <tr>\n",
       "      <th>0</th>\n",
       "      <td>AMC Ambassador Brougham</td>\n",
       "      <td>13.0</td>\n",
       "      <td>8</td>\n",
       "      <td>360.0</td>\n",
       "      <td>175.0</td>\n",
       "      <td>3821</td>\n",
       "      <td>11.0</td>\n",
       "    </tr>\n",
       "    <tr>\n",
       "      <th>1</th>\n",
       "      <td>AMC Ambassador DPL</td>\n",
       "      <td>15.0</td>\n",
       "      <td>8</td>\n",
       "      <td>390.0</td>\n",
       "      <td>190.0</td>\n",
       "      <td>3850</td>\n",
       "      <td>8.5</td>\n",
       "    </tr>\n",
       "    <tr>\n",
       "      <th>2</th>\n",
       "      <td>AMC Ambassador SST</td>\n",
       "      <td>17.0</td>\n",
       "      <td>8</td>\n",
       "      <td>304.0</td>\n",
       "      <td>150.0</td>\n",
       "      <td>3672</td>\n",
       "      <td>11.5</td>\n",
       "    </tr>\n",
       "    <tr>\n",
       "      <th>3</th>\n",
       "      <td>AMC Concord DL 6</td>\n",
       "      <td>20.2</td>\n",
       "      <td>6</td>\n",
       "      <td>232.0</td>\n",
       "      <td>90.0</td>\n",
       "      <td>3265</td>\n",
       "      <td>18.2</td>\n",
       "    </tr>\n",
       "    <tr>\n",
       "      <th>4</th>\n",
       "      <td>AMC Concord DL</td>\n",
       "      <td>18.1</td>\n",
       "      <td>6</td>\n",
       "      <td>258.0</td>\n",
       "      <td>120.0</td>\n",
       "      <td>3410</td>\n",
       "      <td>15.1</td>\n",
       "    </tr>\n",
       "  </tbody>\n",
       "</table>\n",
       "</div>"
      ],
      "text/plain": [
       "                      type   mpg  cyl   disp     hp    wt  speed\n",
       "0  AMC Ambassador Brougham  13.0    8  360.0  175.0  3821   11.0\n",
       "1       AMC Ambassador DPL  15.0    8  390.0  190.0  3850    8.5\n",
       "2       AMC Ambassador SST  17.0    8  304.0  150.0  3672   11.5\n",
       "3         AMC Concord DL 6  20.2    6  232.0   90.0  3265   18.2\n",
       "4           AMC Concord DL  18.1    6  258.0  120.0  3410   15.1"
      ]
     },
     "execution_count": 5,
     "metadata": {},
     "output_type": "execute_result"
    }
   ],
   "source": [
    "df_cars = pd.read_csv('cars.csv')\n",
    "df_cars.head()"
   ]
  },
  {
   "cell_type": "markdown",
   "metadata": {},
   "source": [
    "Let's draw the following the plots to do a comparison of our data values -\n",
    "\n",
    "1. Draw a plot to show the distribution of data values in the column **mpg**.\n",
    "\n",
    "**HINT:** Go back to the section **\"What kind of plot?\"** to have a look at which plot best describes the distribution of numeric data \n",
    "\n",
    "\n",
    "2. Draw a plot to compare the number of cars having different number of cylinders in the column **cyl**.\n",
    "\n",
    "**HINT:** Go back to the section **\"What kind of plot?\"** to have a look at which plot best compares the ratio of a particular type item to the total number of items.\n",
    "\n",
    "\n",
    "3. Draw a plot to compare the mileage(**mpg**) vs horsepower(**hp**) to weight (**wt**) of the first 10 cars in the dataset. \n",
    "\n",
    "**HINT:** Go back to the section **\"What kind of plot?\"** to have a look at which plot would be a good choice to describe the relation between 3 variables. If you encounter any null values (NaN) in the dataset, try to replace them with the average of the whole column. \n",
    "\n",
    "\n",
    "4. Draw a plot to compare the Mileage (**mpg**) and Weight(**wt**) of all the cars in the dataset. \n",
    "\n",
    "**HINT**: Go back to the section **\"What kind of plot?\"** to have a look at which plot best describes a relation between two variables by plotting their distribution. \n",
    "\n",
    "5. Draw a plot to graph the no. of cylinders (**cyl**) and the car with the maximum displacement (**disp**) found for each of them.\n",
    "\n",
    "**HINT**: Go back to the section **\"What kind of plot?\"** to have a look at which plot best describes a relation between two variables by visualizing a continuos trend between these variables. \n",
    "\n",
    "6. Draw a plot to show the distribution of values for these 3 features - Mileage(**mpg**), Speed(**speed**) and Cylinders(**cyl**).\n",
    "\n",
    "**HINT**: Go back to the section **\"What kind of plot?\"** to have a look at which plot is the most informative visualization of the distribution of a variable."
   ]
  },
  {
   "cell_type": "code",
   "execution_count": 6,
   "metadata": {},
   "outputs": [
    {
     "data": {
      "image/png": "[encoded data removed]",
      "text/plain": [
       "<Figure size 1728x1152 with 6 Axes>"
      ]
     },
     "metadata": {
      "needs_background": "light"
     },
     "output_type": "display_data"
    }
   ],
   "source": [
    "fig = plt.figure(figsize=(24,16))\n",
    "\n",
    "# PART 1 : HISTOGRAM TO SHOW THE DISTRIBUTION FOR MPG\n",
    "# THIS ONE'S ALREADY COMPLETED FOR YOUR REFERENCE\n",
    "ax1 = fig.add_subplot(231)\n",
    "ax1.hist(df_cars.mpg.dropna(), bins=6)\n",
    "ax1.set_ylabel(\"Frequency\",fontsize=18)\n",
    "ax1.set_xlabel(\"Mileage (mpg)\",fontsize=18)\n",
    "ax1.set_title('Histogram for miles per gallon', fontsize=22)\n",
    "\n",
    "# PART 2 : PLOT TO SHOW THE DISTRIBUTION FOR CYLINDERS\n",
    "ax2 = fig.add_subplot(232)\n",
    "\n",
    "# TODO: COMPLETE THE PLOT \n",
    "\n",
    "\n",
    "\n",
    "\n",
    "# PART 3: PLOT COMPARING THE HP AND MILEAGE\n",
    "ax3 = fig.add_subplot(233)\n",
    "\n",
    "# TODO: COMPLETE THE PLOT\n",
    "\n",
    "\n",
    "\n",
    "\n",
    "# PART 4: PLOT COMPARING THE MILEAGE AND WEIGHT OF CARS\n",
    "ax4 = fig.add_subplot(234)\n",
    "\n",
    "# TODO: COMPLETE THE PLOT\n",
    "\n",
    "\n",
    "\n",
    "\n",
    "# PART 5: PLOT CYLINDERS vs. MAX DISPLACEMENT\n",
    "ax5 = fig.add_subplot(235)\n",
    "\n",
    "# TODO: COMPLETE THE PLOT\n",
    "\n",
    "\n",
    "\n",
    "# PART 6: PLOT DISTRIBUTION OF MPG, Speed and Cyl\n",
    "ax6 = fig.add_subplot(236)\n",
    "\n",
    "# TODO: COMPLETE THE PLOT\n",
    "\n",
    "\n",
    "\n",
    "\n",
    "plt.show()"
   ]
  },
  {
   "cell_type": "markdown",
   "metadata": {},
   "source": [
    "#### Well Done! Savour the fruits of your labour for a moment. :)\n",
    "\n",
    "#### Look back and reflect upon what these plots actually mean. Is there anything you could have done to make them look better and more descriptive? \n",
    "\n",
    "If so, look at how you can make those changes. Ask your tutors for help if need be! "
   ]
  },
  {
   "cell_type": "markdown",
   "metadata": {},
   "source": [
    "### YOUR DISCUSSIONS HERE\n",
    "\n",
    "<span style=\"color:blue\">\n",
    "    \n",
    "### PLOT 1\n",
    "\n",
    "\n",
    "\n",
    "### PLOT 2\n",
    "\n",
    "\n",
    "\n",
    "### PLOT 3\n",
    "\n",
    "\n",
    "\n",
    "### PLOT 4\n",
    "\n",
    "\n",
    "\n",
    "### PLOT 5\n",
    "\n",
    "\n",
    "\n",
    "### PLOT 6\n",
    "\n",
    "\n",
    "\n",
    "</span>"
   ]
  },
  {
   "cell_type": "markdown",
   "metadata": {},
   "source": [
    "### Bonus Questions\n",
    "\n",
    "1. For **Plot 1** above, what can you do to highlight (by changing the colour of) one of the bars (let's say the one with the maximum frequency) of the histogram.\n",
    "\n",
    "2. Similarly, what can you do emphasis one of the data points, outliers or a category of data in the 2<sup>nd</sup> and 4<sup>th</sup> plot above. Discuss with your tutors! \n",
    "\n",
    "#### You can also have a look at these resources for help -\n",
    "* [Matplotlib Tutorials](https://matplotlib.org/users/tutorials.html)\n",
    "* [Pandas Visualization](https://pandas.pydata.org/pandas-docs/stable/visualization.html)\n",
    "* [Seaborn Tutorials](https://seaborn.pydata.org/tutorial.html)"
   ]
  },
  {
   "cell_type": "code",
   "execution_count": 8,
   "metadata": {},
   "outputs": [
    {
     "data": {
      "image/png": "[encoded data removed]",
      "text/plain": [
       "<Figure size 1152x360 with 3 Axes>"
      ]
     },
     "metadata": {
      "needs_background": "light"
     },
     "output_type": "display_data"
    }
   ],
   "source": [
    "fig = plt.figure(figsize=(16,5))\n",
    "\n",
    "# PLOT 1\n",
    "ax1 = fig.add_subplot(131)\n",
    "\n",
    "\n",
    "# PLOT 2\n",
    "ax2 = fig.add_subplot(132)\n",
    "\n",
    "\n",
    "# PLOT 4\n",
    "ax3 = fig.add_subplot(133)\n",
    "\n",
    "\n",
    "plt.show()"
   ]
  }
 ],
 "metadata": {
  "kernelspec": {
   "display_name": "Python 3",
   "language": "python",
   "name": "python3"
  },
  "language_info": {
   "codemirror_mode": {
    "name": "ipython",
    "version": 3
   },
   "file_extension": ".py",
   "mimetype": "text/x-python",
   "name": "python",
   "nbconvert_exporter": "python",
   "pygments_lexer": "ipython3",
   "version": "3.7.0"
  }
 },
 "nbformat": 4,
 "nbformat_minor": 2
}
