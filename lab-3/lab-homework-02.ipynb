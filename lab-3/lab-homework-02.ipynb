{
 "cells": [
  {
   "cell_type": "markdown",
   "metadata": {},
   "source": [
    "<h1 align='center'> COMP2420/COMP6420 - Introduction to Data Management, Analysis and Security</h1>\n",
    "\n",
    "<h2 align='center'> Homework Assessment 02</h2>\n",
    "\n",
    "*****\n",
    "\n",
    "Another week, another set of questions! Woohoo! The following set of **4 questions** test your understanding of the lecture and lab material taught during the lectures and the lab exercises in **Weeks 3 & 4**. In the **next lab (Lab 04)**, you'll be asked to complete any one of these exercises by your tutor in **Exam Mode**. Upon completion, you'll be marked by your tutor, based on the correctness and completeness of your solution."
   ]
  },
  {
   "cell_type": "code",
   "execution_count": 1,
   "metadata": {
    "deletable": false,
    "editable": false
   },
   "outputs": [],
   "source": [
    "# RUN THIS CELL TO IMPORT THE REQUIRED MODULES\n",
    "import pandas as pd\n",
    "import matplotlib.pyplot as plt\n",
    "%matplotlib inline\n",
    "import seaborn as sns\n",
    "plt.style.use('seaborn')"
   ]
  },
  {
   "cell_type": "markdown",
   "metadata": {},
   "source": [
    "### Exercise 1 - Big Money Cars\n",
    "\n",
    "Extending upon our love for cars (especially the pricey ones!), we decided to have a look at the top 5 car manufacturers from the cars dataset. From the below dataset, help us return a dataset comprising of the **top 5 car manufacturers (in descending order)** along with their **average car prices**. But wait, there's a catch! You only have to do these computations on a subset of the dataset that only contains cars with the body-style `sedan` or `convertible`. Your result should look something like this - \n",
    "\n",
    "|    _     | company       | price     |\n",
    "| -------- |:-------------:| ---------:|\n",
    "|    6     | car_firm 1    |  1000.000 |\n",
    "|    8     | car_firm 2    |   980.000 |\n",
    "|   11     | car_firm 3    |   774.333 |\n",
    "|    3     | car_firm 4    |   645.000 |\n",
    "|    1     | car_firm 5    |   510.666 |"
   ]
  },
  {
   "cell_type": "code",
   "execution_count": 2,
   "metadata": {},
   "outputs": [],
   "source": [
    "# TODO: COMPLETE THE BELOW FUNCTION\n",
    "def top_5_pricey(df_cars):\n",
    "\n",
    "    \n",
    "    \n",
    "    return df_cars"
   ]
  },
  {
   "cell_type": "code",
   "execution_count": 3,
   "metadata": {
    "deletable": false,
    "editable": false
   },
   "outputs": [
    {
     "data": {
      "text/plain": [
       "False"
      ]
     },
     "execution_count": 3,
     "metadata": {},
     "output_type": "execute_result"
    }
   ],
   "source": [
    "# RUN THIS BLOCK TO TEST YOUR CODE\n",
    "df_cars = pd.read_csv('automobile.csv')\n",
    "top_5_pricey(df_cars)"
   ]
  },
  {
   "cell_type": "markdown",
   "metadata": {},
   "source": [
    "### Exercise 2 - Gotta Catch 'Em All\n",
    "\n",
    "Now that we've got you motivated to attempt this question with the title itself, let's get on with it! You've been given a dataset with all the defining characteristics of pokémons (a.k.a **Pokédex**). You need to find the pokémon (and its HP) that has the highest HP (Hit Points) for each Type (`Type 1` and `Type 2` both). Because let's face it, that is an important data science question if you need to catch 'em all! :)"
   ]
  },
  {
   "cell_type": "code",
   "execution_count": 4,
   "metadata": {},
   "outputs": [],
   "source": [
    "# TODO: COMPLETE THE BELOW FUNCTION\n",
    "def poke_max_hp(df_pokemon):\n",
    "    \n",
    "    \n",
    "    \n",
    "    return df_pokemon"
   ]
  },
  {
   "cell_type": "code",
   "execution_count": 5,
   "metadata": {},
   "outputs": [
    {
     "data": {
      "text/plain": [
       "False"
      ]
     },
     "execution_count": 5,
     "metadata": {},
     "output_type": "execute_result"
    }
   ],
   "source": [
    "# RUN THIS BLOCK TO TEST YOUR CODE\n",
    "df_pokemon = pd.read_csv('pokemon.csv')\n",
    "poke_max_hp(df_pokemon)"
   ]
  },
  {
   "cell_type": "markdown",
   "metadata": {},
   "source": [
    "### Exercise 3 - Pump Up The V6\n",
    "\n",
    "In our quest to find the perfect car to buy, we forgot to analysis the popularity of **no. of cylinders in the car engine** among the various **car manufacturers**. Make a plot that shows us how many companies make a particular `num-of-cylinders` engine. You're free to choose any appropriate plot for this exercise. Don't forget to label and title your plot!   "
   ]
  },
  {
   "cell_type": "code",
   "execution_count": 6,
   "metadata": {},
   "outputs": [],
   "source": [
    "# TODO: COMPLETE THE BELOW FUNCTION\n",
    "def plot_cyl_companies(df_cars):\n",
    "    \n",
    "    \n",
    "    \n",
    "    return False"
   ]
  },
  {
   "cell_type": "code",
   "execution_count": 7,
   "metadata": {
    "deletable": false,
    "editable": false
   },
   "outputs": [
    {
     "data": {
      "text/plain": [
       "False"
      ]
     },
     "execution_count": 7,
     "metadata": {},
     "output_type": "execute_result"
    }
   ],
   "source": [
    "# RUN THIS BLOCK TO TEST YOUR CODE\n",
    "df_cars = pd.read_csv('automobile.csv')\n",
    "plot_cyl_companies(df_cars)"
   ]
  },
  {
   "cell_type": "markdown",
   "metadata": {},
   "source": [
    "### Exercise 4 - Speed v/s Power\n",
    "\n",
    "Two of your tutors (whose names shall not be revealed) are fighting over which is a more important characteristic to have while choosing a pokémon for battle. You have to resolve this conflict by drawing a plot to compare the distribution of values for the columns `Speed` and `HP` and also, return a tuple containing the overall mean of both columns."
   ]
  },
  {
   "cell_type": "code",
   "execution_count": 8,
   "metadata": {},
   "outputs": [],
   "source": [
    "# TODO: COMPLETE THE BELOW FUNCTION\n",
    "def poke_conflict_resolution(df_poke):\n",
    "    \n",
    "    \n",
    "    \n",
    "    return False"
   ]
  },
  {
   "cell_type": "code",
   "execution_count": 9,
   "metadata": {},
   "outputs": [
    {
     "data": {
      "text/plain": [
       "False"
      ]
     },
     "execution_count": 9,
     "metadata": {},
     "output_type": "execute_result"
    }
   ],
   "source": [
    "# RUN THIS BLOCK TO TEST YOUR CODE\n",
    "df_pokemon = pd.read_csv('pokemon.csv')\n",
    "poke_conflict_resolution(df_pokemon)"
   ]
  }
 ],
 "metadata": {
  "kernelspec": {
   "display_name": "Python 3",
   "language": "python",
   "name": "python3"
  },
  "language_info": {
   "codemirror_mode": {
    "name": "ipython",
    "version": 3
   },
   "file_extension": ".py",
   "mimetype": "text/x-python",
   "name": "python",
   "nbconvert_exporter": "python",
   "pygments_lexer": "ipython3",
   "version": "3.7.0"
  }
 },
 "nbformat": 4,
 "nbformat_minor": 2
}
