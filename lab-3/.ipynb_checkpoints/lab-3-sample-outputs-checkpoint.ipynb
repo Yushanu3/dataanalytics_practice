{
 "cells": [
  {
   "cell_type": "markdown",
   "metadata": {
    "deletable": false,
    "editable": false
   },
   "source": [
    "<h1 align='center'> COMP2420/COMP6420 - Introduction to Data Management, Analysis and Security</h1>\n",
    "\n",
    "<h2 align='center'> Lab 03 - Data Visualization with Matplotlib - Sample Outputs</h2>"
   ]
  },
  {
   "cell_type": "markdown",
   "metadata": {
    "deletable": false,
    "editable": false
   },
   "source": [
    "### What Kind Of Plot?\n",
    "\n",
    "An important question to consider making a visualization for your data is - **\"What kind of a plot do I need?\"**. The answer normally lies in the data that you want to plot. When in doubt, it's usually helpful to ask yourself the following questions to gain some clarity into the kind of chart you would need - \n",
    "\n",
    "\n",
    "* **Do you want to compare values?** - If you need to compare one or many value sets, and need to visualize the lows and highs in the data sets, you would need -\n",
    "\n",
    "    * **Column Chart** - A column chart is used to show a comparison among different items, or it can show a comparison of items over time.\n",
    "    * **Bar Plot** - A bar graph, basically a horizontal column chart, should be used to avoid clutter when one data label is long or if you have more than 10 items to compare. This type of visualization can also be used to display negative numbers.\n",
    "    * **Line Plot** - A line graph reveals trends or progress over time and can be used to show many different categories of data. You should use it when you chart a continuous data set.\n",
    "    * **Scatter Plot** - A scatter plot will show the relationship between two different variables or it can reveal the distribution trends. It should be used when there are many different data points, and you want to highlight similarities in the data set. It's also useful when looking for outliers or for understanding the distribution of your data.\n",
    "    * **Pie Chart** - A pie chart shows a static number and how categories represent part of a whole -- the composition of something. A pie chart represents numbers in percentages, and the total sum of all segments needs to equal 100%.\n",
    "\n",
    "\n",
    "* **Do you want to show the composition of something?** - Use this type of chart to show how individual parts make up the whole of something.\n",
    "\n",
    "    * **Pie Chart**\n",
    "    * **Stacked Bar Plot** - This should be used to compare many different items and show the composition of each item being compared.\n",
    "    * **Area Chart** - An area chart is basically a line chart, but the space between the x-axis and the line is filled with a color or pattern. It is useful for showing part-to-whole relations. It helps you analyze both overall and individual trend information.\n",
    "    \n",
    "\n",
    "* **Do you want to understand the distribution of your data?** - Distribution charts help you to understand outliers, the normal tendency, and the range of information in your values.\n",
    "\n",
    "    * **Scatter Plot**\n",
    "    * **Box Plot** - A Box Plot is a way to show the distribution of values based on the five-number summary: **minimum**, **first quartile**, **median**, **third quartile**, and **maximum**. This type of plot can also show **outliers**.\n",
    "    * **Histogram** - A Histogram is an accurate representation of the distribution of numeric data. To create a histogram, first, we divide the entire range of values into a series of intervals, and second, we count how many values fall into each interval. The intervals are also called **bins**. The bins are consecutive and non-overlapping intervals of a variable.\n",
    "\n",
    "\n",
    "* **Are you interested in analyzing trends in your data set?** - If you want to know more information about how a data set performed during a specific time period, there are specific chart types that do extremely well.\n",
    "\n",
    "    * **Line Plot**\n",
    "    * **Column Chart**\n",
    "    \n",
    "\n",
    "* **Do you want to better understand the relationship between value sets?** - Relationship charts are suited to showing how one variable relates to one or numerous different variables. You could use this to show how something positively effects, has no effect, or negatively effects another variable.\n",
    "\n",
    "    * **Scatter Plot**\n",
    "    * **Bubble Chart** - A bubble chart is similar to a scatter plot in that it can show distribution or relationship. There is a third data set, which is indicated by the size of the bubble or circle.\n",
    "    * **Line Plot**   \n",
    "\n",
    "\n",
    "\n",
    "### Exercise 1\n",
    "\n",
    "Below is a set of solutions that you **could** have implimented. We then justify our reasoning below. Other solutions are also possible, provided justification exists.\n",
    "\n",
    "#### Questions\n",
    "1. Draw a plot to show the distribution of data values in the column **mpg**.\n",
    "\n",
    "2. Draw a plot to compare the number of cars having different number of cylinders in the column **cyl**.\n",
    "\n",
    "3. Draw a plot to compare the mileage(**mpg**) vs horsepower(**hp**) vs weight (**wt**) of the first 10 cars in the dataset. \n",
    "\n",
    "4. Draw a plot to compare the Mileage (**mpg**) and Weight(**wt**) of all the cars in the dataset. \n",
    "\n",
    "5. Draw a plot to graph the no. of cylinders (**cyl**) and the car with the maximum displacement (**disp**) found for each of them.\n",
    "\n",
    "6. Draw a plot to show the distribution of values for these 3 features - Mileage(**mpg**), Speed(**speed**) and Cylinders(**cyl**).\n",
    "\n",
    "<img src='./outputs/ex1.png'>"
   ]
  },
  {
   "cell_type": "markdown",
   "metadata": {
    "deletable": false,
    "editable": false
   },
   "source": [
    "#### Justifications\n",
    "\n",
    "1. **Histogram** - \n",
    "   \n",
    "   <span style=\"color:blue\">**Why?** Your cue here is 'distribution of data'. When it comes to plotting the distribution of values in a dataset, **histogram** does a good job in telling you what intervals (bins) have the most number of data points in your dataset. Other than this, **Boxplot** can also be a good alternative, as it provides you with a good estimate of the range of values, and also gives basic stats like mean, quartiles and outliers.</span> \n",
    "\n",
    "<br/>\n",
    "\n",
    "2. **Pie Chart** - \n",
    "\n",
    "   <span style=\"color:blue\">**Why?** The aim here was to show the ratio (or percentage) of **different no. of cylinders** to the total, where pie chart can do a good job in plotting the visualizing the **individual parts to the whole**. Other alternate plots that would have been a good option are - Stacked Bar Plot, Bar Plot or a Horizontal Bar Plot.</span> \n",
    "   \n",
    "   <span style=\"color:red\"><b>DISCLAIMER - Pie Charts are generally considered a bad option for a plot or visualization, and were only included in this exercise for the sake of completion. For more information, you can find numerous articles on the web, like this one - [The Worst Chart In The World](https://www.businessinsider.com.au/pie-charts-are-the-worst-2013-6?r=US&IR=T).</b></span>  \n",
    "\n",
    "<br/>\n",
    "\n",
    "3. **Bubble Chart** -\n",
    "\n",
    "   <span style=\"color:blue\">**Why?** When it comes to plotting 3 (or sometimes even 4) variables in a single plot, **Bubble Chart** does a pretty good job at it. It's hard to find an alternative for Bubble Chart, but in some cases, a **Cherry Chart** or a **2D-histogram** might do a good job too.</span>\n",
    "\n",
    "<br/>\n",
    "\n",
    "4. **Scatter Plot** - \n",
    "\n",
    "   <span style=\"color:blue\">**Why?** A line plot or a bar plot would not have done a good job in this case, since the data to be plotted contains too many data points. Hence, **Scatter Plot** is the most logical solution to plot the data points for `mpg` vs `wt`.</span> \n",
    "\n",
    "<br/>\n",
    "\n",
    "5. **Line Plot** - \n",
    "\n",
    "   <span style=\"color:blue\">**Why?** The aim here was to plot the different `no. of cylinders (cyl)` and the car with the maximum `displacement (disp)` encountered for cylinder type. So, a **line plot** in this case would be the best bet to compare the max `displacement (disp)` value for each cylinder type. Other good alternative would be a **Scatter Plot**.</span>\n",
    "\n",
    "<br/>\n",
    "\n",
    "6. **Box plot** - \n",
    "\n",
    "   <span style=\"color:blue\">**Why?** Because this question asks us to compare the distribution of values between three variables `mpg`, `speed` and `cyl`, **box plot** does a good job of comparing these distributions side-by-side to each other.</span> \n",
    "   "
   ]
  },
  {
   "cell_type": "markdown",
   "metadata": {
    "deletable": false,
    "editable": false
   },
   "source": [
    "### Bonus Questions\n",
    "\n",
    "Again, below is a set of solutions that you **could** have implemented.\n",
    "\n",
    "#### Questions\n",
    "1. For **Plot 1** above, what can you do to highlight (by changing the colour of) one of the bars (let's say the one with the maximum frequency) of the histogram.\n",
    "\n",
    "2. Similarly, what can you do emphasis one of the data points, outliers or a category of data in the 2<sup>nd</sup> and 4<sup>th</sup> plot above.\n",
    "\n",
    "<img src='./outputs/ex2.png'>"
   ]
  }
 ],
 "metadata": {
  "kernelspec": {
   "display_name": "Python 3",
   "language": "python",
   "name": "python3"
  },
  "language_info": {
   "codemirror_mode": {
    "name": "ipython",
    "version": 3
   },
   "file_extension": ".py",
   "mimetype": "text/x-python",
   "name": "python",
   "nbconvert_exporter": "python",
   "pygments_lexer": "ipython3",
   "version": "3.6.8"
  }
 },
 "nbformat": 4,
 "nbformat_minor": 2
}
