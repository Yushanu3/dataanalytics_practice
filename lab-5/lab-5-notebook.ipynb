{
 "cells": [
  {
   "cell_type": "markdown",
   "metadata": {},
   "source": [
    "<h1 align='center'> COMP2420/COMP6420 - Introduction to Data Management, Analysis and Security</h1>\n",
    "\n",
    "<h2 align='center'> Lab 05 - Machine Learning - I</h2>\n",
    "\n",
    "*****\n",
    "\n",
    "In this lab, we will first guide you through some required interfaces of `sklearn` and then subsequently we will implement and study **Linear Regression** and **Nearest-Neighbours Regression**. So, first let us have a look at the package that we are going to use for this lab (and the next one too).\n",
    "\n",
    "\n",
    "### Scikit-learn\n",
    "\n",
    "The python package we will use for this lab and for all other Machine Learning exercises and assignment is **Scikit-learn**. It’s the standard python package used in academia for using off-the-shelf machine learning algorithms.\n",
    "\n",
    "It comes pre-installed with our anaconda installation and is installed with the short name **sklearn**.\n",
    "\n",
    "**Note**: To learn more about sklearn please visit the [official tutorials page](https://scikit-learn.org/stable/tutorial/index.html).\n",
    "\n",
    "\n",
    "### Linear Regression\n",
    "\n",
    "Linear Regression is the mostly commonly used machine learning algorithm that can be used for predicting real-world values like costs of houses, number of calls, total sales etc. Here, we establish a relationship between **dependent** and **independent** variables by fitting a _best line_. This line of best fit is known as **regression line** and is represented by the **linear equation**: \n",
    "\n",
    "\\begin{equation*}\n",
    "y = a \\cdot x + b\n",
    "\\end{equation*}\n",
    "\n",
    "where, \n",
    "\n",
    "`x = Independent Variable`, and\n",
    "\n",
    "`y = Dependent Variable`\n",
    "\n",
    "and `a` and `b` are the model parameters or coefficients:\n",
    "\n",
    "`a = slope coefficient`, and\n",
    "\n",
    "`b = intercept coefficient`\n",
    "\n",
    "Given a dataset containing x and y, a linear regression can be used to:\n",
    "\n",
    "* Build a predictive model to predict future values of **x<sub>i</sub>** without a **y** value.\n",
    "* Model the strength of the relationship between each dependent variable **x<sub>i</sub>** and **y**.\n",
    "    * Sometimes not all **x<sub>i</sub>** will have a relationship with **y**.\n",
    "    * Need to figure out which **x<sub>i</sub>** contributes most information to determine **y**.\n",
    "* It (or a variant) is in many cases, the first pass prediction algorithm for continuous outcomes.\n",
    "\n",
    "#### Illustratively, we can say that performing linear regression is the same as fitting a scatter plot to a line.\n",
    "\n",
    "OK enough talk! Let's do some <span style=\"color:DarkOrchid; font-family:Comic Sans MS; font-size:1.2em;\"><b>Data Science</b></span>! Let's see how a Linear Regression model works, by building one for ourselves from scratch. "
   ]
  },
  {
   "cell_type": "code",
   "execution_count": 1,
   "metadata": {},
   "outputs": [],
   "source": [
    "## Standard imports we do in every lab\n",
    "import numpy as np\n",
    "import pandas as pd\n",
    "import matplotlib.pyplot as plt\n",
    "%matplotlib inline \n",
    "import seaborn as sns\n",
    "\n",
    "## Beautifying the plots\n",
    "plt.style.use('seaborn-paper')"
   ]
  },
  {
   "cell_type": "markdown",
   "metadata": {},
   "source": [
    "### Exercise 1: Predicting Pounds\n",
    "\n",
    "We're going to use a Height - Weight dataset for this exercise. This is a simple dataset containing 200 records with two features, **Height** and **Weight**. Let's load this dataset from its web link."
   ]
  },
  {
   "cell_type": "code",
   "execution_count": 2,
   "metadata": {
    "scrolled": true
   },
   "outputs": [
    {
     "data": {
      "text/html": [
       "<div>\n",
       "<style scoped>\n",
       "    .dataframe tbody tr th:only-of-type {\n",
       "        vertical-align: middle;\n",
       "    }\n",
       "\n",
       "    .dataframe tbody tr th {\n",
       "        vertical-align: top;\n",
       "    }\n",
       "\n",
       "    .dataframe thead th {\n",
       "        text-align: right;\n",
       "    }\n",
       "</style>\n",
       "<table border=\"1\" class=\"dataframe\">\n",
       "  <thead>\n",
       "    <tr style=\"text-align: right;\">\n",
       "      <th></th>\n",
       "      <th>Height(Inches)</th>\n",
       "      <th>Weight(Pounds)</th>\n",
       "    </tr>\n",
       "    <tr>\n",
       "      <th>Index</th>\n",
       "      <th></th>\n",
       "      <th></th>\n",
       "    </tr>\n",
       "  </thead>\n",
       "  <tbody>\n",
       "    <tr>\n",
       "      <th>1</th>\n",
       "      <td>65.78</td>\n",
       "      <td>112.99</td>\n",
       "    </tr>\n",
       "    <tr>\n",
       "      <th>2</th>\n",
       "      <td>71.52</td>\n",
       "      <td>136.49</td>\n",
       "    </tr>\n",
       "    <tr>\n",
       "      <th>3</th>\n",
       "      <td>69.40</td>\n",
       "      <td>153.03</td>\n",
       "    </tr>\n",
       "    <tr>\n",
       "      <th>4</th>\n",
       "      <td>68.22</td>\n",
       "      <td>142.34</td>\n",
       "    </tr>\n",
       "    <tr>\n",
       "      <th>5</th>\n",
       "      <td>67.79</td>\n",
       "      <td>144.30</td>\n",
       "    </tr>\n",
       "  </tbody>\n",
       "</table>\n",
       "</div>"
      ],
      "text/plain": [
       "       Height(Inches)  Weight(Pounds)\n",
       "Index                                \n",
       "1               65.78          112.99\n",
       "2               71.52          136.49\n",
       "3               69.40          153.03\n",
       "4               68.22          142.34\n",
       "5               67.79          144.30"
      ]
     },
     "execution_count": 2,
     "metadata": {},
     "output_type": "execute_result"
    }
   ],
   "source": [
    "url = 'http://wiki.stat.ucla.edu/socr/index.php/SOCR_Data_Dinov_020108_HeightsWeights'\n",
    "df_hw = pd.read_html(url, header=0, index_col=0)[1]\n",
    "df_hw.head()"
   ]
  },
  {
   "cell_type": "markdown",
   "metadata": {},
   "source": [
    "Now, we're going to assign the dependent and independent variables within this dataset. "
   ]
  },
  {
   "cell_type": "code",
   "execution_count": 3,
   "metadata": {},
   "outputs": [],
   "source": [
    "# TASK 1:\n",
    "# TODO: Assign the independent and dependent variables to the variables x and y\n",
    "\n",
    "# Assign x (Independent Variable)\n",
    "\n",
    "\n",
    "# Assign y (Dependent Variable)\n"
   ]
  },
  {
   "cell_type": "markdown",
   "metadata": {},
   "source": [
    "Now to get the coefficients of the linear regression equation, we will use the _least squares_ method and minimize the sum of squared errors to find a good fit for our dataset. The tutors will discuss this more during the labs.  "
   ]
  },
  {
   "cell_type": "code",
   "execution_count": 4,
   "metadata": {},
   "outputs": [],
   "source": [
    "# TASK 2:\n",
    "# TODO: Compute the coefficients for simple linear regression\n",
    "\n",
    "\n"
   ]
  },
  {
   "cell_type": "markdown",
   "metadata": {},
   "source": [
    "Let's plot what we've got from the computations above to better visualize our resultant regression equation."
   ]
  },
  {
   "cell_type": "code",
   "execution_count": 5,
   "metadata": {
    "scrolled": false
   },
   "outputs": [
    {
     "data": {
      "image/png": "[encoded data removed]",
      "text/plain": [
       "<Figure size 1008x720 with 1 Axes>"
      ]
     },
     "metadata": {
      "needs_background": "light"
     },
     "output_type": "display_data"
    }
   ],
   "source": [
    "# TASK 3:\n",
    "# TODO: Plot a scatter plot for all the values of the dataset\n",
    "# TODO: Plot a regression line from the equation coefficients above\n",
    "\n",
    "fig = plt.figure(figsize=(14,10))\n",
    "\n",
    "# TODO: Plot a scatter plot from x and y values\n",
    "\n",
    "\n",
    "\n",
    "# TODO: Compute x2 and y2 using the coefficients computed above\n",
    "# x2 =\n",
    "# y2 = \n",
    "\n",
    "plt.plot(x2, y2, color='m')    \n",
    "\n",
    "plt.title('Simple Linear Regression', fontsize=18)\n",
    "plt.ylabel(\"Weight(Pounds) (y)\",fontsize=14)\n",
    "plt.xlabel(\"Height(Inches) (x)\",fontsize=14)\n",
    "\n",
    "plt.show()"
   ]
  },
  {
   "cell_type": "markdown",
   "metadata": {},
   "source": [
    "That plot gives us a good visualization of the linear regression model we've designed. This was a simple and naive approach to building our first machine learning model. Now, let's have a look at how we can do the same using Python's `sklearn` module in **Exercise 2**."
   ]
  },
  {
   "cell_type": "markdown",
   "metadata": {},
   "source": [
    "<br/>\n",
    "\n",
    "### Exercise 2: Diab-At-Ease\n",
    "\n",
    "The **Diabetes Dataset** (featured below) contains ten baseline variables, age, sex, body mass index, average blood pressure, and six blood serum measurements obtained for each of n = 442 diabetes patients, as well as the response of interest, a quantitative measure of disease progression one year after baseline.\n",
    "\n",
    "A detailed description can be found **[here](https://github.com/scikit-learn/scikit-learn/blob/master/sklearn/datasets/descr/diabetes.rst)**. We don’t use the dataset directly provided in sklearn."
   ]
  },
  {
   "cell_type": "code",
   "execution_count": 6,
   "metadata": {},
   "outputs": [
    {
     "data": {
      "text/html": [
       "<div>\n",
       "<style scoped>\n",
       "    .dataframe tbody tr th:only-of-type {\n",
       "        vertical-align: middle;\n",
       "    }\n",
       "\n",
       "    .dataframe tbody tr th {\n",
       "        vertical-align: top;\n",
       "    }\n",
       "\n",
       "    .dataframe thead th {\n",
       "        text-align: right;\n",
       "    }\n",
       "</style>\n",
       "<table border=\"1\" class=\"dataframe\">\n",
       "  <thead>\n",
       "    <tr style=\"text-align: right;\">\n",
       "      <th></th>\n",
       "      <th>AGE</th>\n",
       "      <th>SEX</th>\n",
       "      <th>BMI</th>\n",
       "      <th>BP</th>\n",
       "      <th>S1</th>\n",
       "      <th>S2</th>\n",
       "      <th>S3</th>\n",
       "      <th>S4</th>\n",
       "      <th>S5</th>\n",
       "      <th>S6</th>\n",
       "      <th>Y</th>\n",
       "    </tr>\n",
       "  </thead>\n",
       "  <tbody>\n",
       "    <tr>\n",
       "      <th>0</th>\n",
       "      <td>59</td>\n",
       "      <td>2</td>\n",
       "      <td>32.1</td>\n",
       "      <td>101.0</td>\n",
       "      <td>157</td>\n",
       "      <td>93.2</td>\n",
       "      <td>38.0</td>\n",
       "      <td>4.0</td>\n",
       "      <td>4.8598</td>\n",
       "      <td>87</td>\n",
       "      <td>151</td>\n",
       "    </tr>\n",
       "    <tr>\n",
       "      <th>1</th>\n",
       "      <td>48</td>\n",
       "      <td>1</td>\n",
       "      <td>21.6</td>\n",
       "      <td>87.0</td>\n",
       "      <td>183</td>\n",
       "      <td>103.2</td>\n",
       "      <td>70.0</td>\n",
       "      <td>3.0</td>\n",
       "      <td>3.8918</td>\n",
       "      <td>69</td>\n",
       "      <td>75</td>\n",
       "    </tr>\n",
       "    <tr>\n",
       "      <th>2</th>\n",
       "      <td>72</td>\n",
       "      <td>2</td>\n",
       "      <td>30.5</td>\n",
       "      <td>93.0</td>\n",
       "      <td>156</td>\n",
       "      <td>93.6</td>\n",
       "      <td>41.0</td>\n",
       "      <td>4.0</td>\n",
       "      <td>4.6728</td>\n",
       "      <td>85</td>\n",
       "      <td>141</td>\n",
       "    </tr>\n",
       "    <tr>\n",
       "      <th>3</th>\n",
       "      <td>24</td>\n",
       "      <td>1</td>\n",
       "      <td>25.3</td>\n",
       "      <td>84.0</td>\n",
       "      <td>198</td>\n",
       "      <td>131.4</td>\n",
       "      <td>40.0</td>\n",
       "      <td>5.0</td>\n",
       "      <td>4.8903</td>\n",
       "      <td>89</td>\n",
       "      <td>206</td>\n",
       "    </tr>\n",
       "    <tr>\n",
       "      <th>4</th>\n",
       "      <td>50</td>\n",
       "      <td>1</td>\n",
       "      <td>23.0</td>\n",
       "      <td>101.0</td>\n",
       "      <td>192</td>\n",
       "      <td>125.4</td>\n",
       "      <td>52.0</td>\n",
       "      <td>4.0</td>\n",
       "      <td>4.2905</td>\n",
       "      <td>80</td>\n",
       "      <td>135</td>\n",
       "    </tr>\n",
       "  </tbody>\n",
       "</table>\n",
       "</div>"
      ],
      "text/plain": [
       "   AGE  SEX   BMI     BP   S1     S2    S3   S4      S5  S6    Y\n",
       "0   59    2  32.1  101.0  157   93.2  38.0  4.0  4.8598  87  151\n",
       "1   48    1  21.6   87.0  183  103.2  70.0  3.0  3.8918  69   75\n",
       "2   72    2  30.5   93.0  156   93.6  41.0  4.0  4.6728  85  141\n",
       "3   24    1  25.3   84.0  198  131.4  40.0  5.0  4.8903  89  206\n",
       "4   50    1  23.0  101.0  192  125.4  52.0  4.0  4.2905  80  135"
      ]
     },
     "execution_count": 6,
     "metadata": {},
     "output_type": "execute_result"
    }
   ],
   "source": [
    "# Reading the dataset \n",
    "# Yes, we can also read a csv directly off a website through Pandas\n",
    "df_diabetes = pd.read_csv('http://www4.stat.ncsu.edu/~boos/var.select/diabetes.tab.txt', delimiter='\\t')\n",
    "df_diabetes.head()"
   ]
  },
  {
   "cell_type": "markdown",
   "metadata": {},
   "source": [
    "1. Do some basic **statistical reconnaissance** of this data set and record your observations. You're also welcome to **visualise some of this data** to gain deeper insights into the relationships between variables.\n",
    "\n",
    "For instance, try plotting a graph to determine the relationship between **BMI** and **Disease Progression**, or **BP** and **Disease Progression**. "
   ]
  },
  {
   "cell_type": "code",
   "execution_count": 7,
   "metadata": {},
   "outputs": [],
   "source": [
    "# YOUR ANSWER HERE\n",
    "\n",
    "\n",
    "\n"
   ]
  },
  {
   "cell_type": "markdown",
   "metadata": {},
   "source": [
    "Here,\n",
    "\n",
    "`Y = Disease Progression Values (also called “target” data in python)`\n",
    "\n",
    "and\n",
    "\n",
    "`X = All Other Features (or independent variables)`\n",
    "\n",
    "We will use these to fit a **Linear Regression Model** and predict the quantitative value for disease progression. We will use the **Least Squares** method as the way to estimate the coefficients.\n",
    "\n",
    "<br/>\n",
    "\n",
    "The first step is to create a train-test split from the dataset. This is important because -\n",
    "\n",
    "* When we’re using a statistical model (like Linear Regression, for example), we usually fit the model on a training set, in order to make predictions on a data that wasn’t used for training (test data).\n",
    "\n",
    "* Doing this prevents **'overfitting'** in the model. \n",
    "\n",
    "* **Overfitting** occurs when the statistical model overreacts to minor fluctuations in the training data, and as a result has poor predictive performance on previously unseen data. **Underfitting** occurs when the model cannot capture the underlying trend of the data satisfactorily, and as a result such a model also has poor predictive performance on test data.\n",
    "\n",
    "<img src='./test-train.png'>\n",
    "\n",
    "Hence, we need to split our dataset into training and testing sets (usually a 70:30 split) to prevent our model from overfitting or underfitting on the given data.\n",
    "\n",
    "<br/>\n",
    "\n",
    "1. Create a train-test split from the given titanic dataset. Explore the shape and columns in these slices, and describe your observations. "
   ]
  },
  {
   "cell_type": "code",
   "execution_count": 8,
   "metadata": {},
   "outputs": [],
   "source": [
    "# YOUR ANSWER HERE\n",
    "\n"
   ]
  },
  {
   "cell_type": "markdown",
   "metadata": {},
   "source": [
    "#### Creating a Linear Regression Model\n",
    "\n",
    "Now, we can use the sklearn module to create a **Linear Regression** object."
   ]
  },
  {
   "cell_type": "code",
   "execution_count": 9,
   "metadata": {},
   "outputs": [
    {
     "data": {
      "text/plain": [
       "LinearRegression(copy_X=True, fit_intercept=True, n_jobs=1, normalize=False)"
      ]
     },
     "execution_count": 9,
     "metadata": {},
     "output_type": "execute_result"
    }
   ],
   "source": [
    "from sklearn.linear_model import LinearRegression\n",
    "# This creates a LinearRegression object\n",
    "lm = LinearRegression()\n",
    "lm"
   ]
  },
  {
   "cell_type": "markdown",
   "metadata": {},
   "source": [
    "#### What can you do with a Linear Regression Object?\n",
    "\n",
    "| Object Method | Description |\n",
    "| --- |:---:|\n",
    "| `lm.fit()` | **Fit a linear model.** |\n",
    "| `lm.predict()` | **Predict Y using the linear model with estimated coefficients** |\n",
    "| `lm.score()` | **Returns the coefficient of determination (R<sup>2</sup>)** |\n",
    "| `lm.coef_`  |\t**Returns estimated coefficients.** |\n",
    "| `lm.intercept_`  |\t**Returns estimated intercept.** |\n",
    "\n",
    "where, **R<sup>2</sup>** is a measure of correctness of observed outcomes replicated by the model, as the ratio of total outcomes explained by the model."
   ]
  },
  {
   "cell_type": "markdown",
   "metadata": {},
   "source": [
    "2. Use the above table to fit the Linear Regression model `lm` to our **test data** [`lm.fit()`] and then use it to make predictions [`lm.predict()`] on the **train data**. "
   ]
  },
  {
   "cell_type": "code",
   "execution_count": 10,
   "metadata": {},
   "outputs": [],
   "source": [
    "# YOUR ANSWER HERE\n",
    "\n"
   ]
  },
  {
   "cell_type": "markdown",
   "metadata": {},
   "source": [
    "3. Use the `lm.score()` method to find out the accuracy of our Linear Regression Model. "
   ]
  },
  {
   "cell_type": "code",
   "execution_count": 11,
   "metadata": {},
   "outputs": [],
   "source": [
    "# YOUR ANSWER HERE\n",
    "\n"
   ]
  }
 ],
 "metadata": {
  "kernelspec": {
   "display_name": "Python 3",
   "language": "python",
   "name": "python3"
  },
  "language_info": {
   "codemirror_mode": {
    "name": "ipython",
    "version": 3
   },
   "file_extension": ".py",
   "mimetype": "text/x-python",
   "name": "python",
   "nbconvert_exporter": "python",
   "pygments_lexer": "ipython3",
   "version": "3.7.0"
  }
 },
 "nbformat": 4,
 "nbformat_minor": 2
}
