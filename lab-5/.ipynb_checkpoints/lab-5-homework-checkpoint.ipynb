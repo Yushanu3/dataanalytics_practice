{
 "cells": [
  {
   "cell_type": "markdown",
   "metadata": {},
   "source": [
    "<h1 align='center'> COMP2420/COMP6420 - Introduction to Data Management, Analysis and Security</h1>\n",
    "\n",
    "<h2 align='center'> Homework Assessment 03</h2>\n",
    "\n",
    "*****\n",
    "\n",
    "Back from the break, and what a way to start ! Another set of questions !\n",
    "The folloing **4 questions** should test your understanding of the lecture and lab material taught during the lectures and the lab exercises in **Weeks 5 & 6**. In the **next lab (Lab 06)**, you'll be asked to complete any one of these exercises by your tutor in **Exam Mode**. Upon completion, you'll be marked by your tutor, based on the correctness and completeness of your solution."
   ]
  },
  {
   "cell_type": "code",
   "execution_count": 1,
   "metadata": {},
   "outputs": [],
   "source": [
    "# RUN THIS CELL TO IMPORT THE REQUIRED MODULES\n",
    "import pandas as pd\n",
    "import numpy as np\n",
    "import matplotlib.pyplot as plt\n",
    "%matplotlib inline\n",
    "import seaborn as sns\n",
    "from sklearn.linear_model import LinearRegression\n",
    "from sklearn.model_selection import train_test_split\n",
    "from sklearn.linear_model import SGDClassifier\n",
    "plt.style.use('seaborn')"
   ]
  },
  {
   "cell_type": "code",
   "execution_count": 2,
   "metadata": {},
   "outputs": [],
   "source": [
    "mobile_data = pd.read_csv('data/mobiles.csv')\n",
    "car_data = pd.read_csv('data/supercars.csv')"
   ]
  },
  {
   "cell_type": "markdown",
   "metadata": {},
   "source": [
    "### Dataset 1: Mobile Madness\n",
    "\n",
    "Mobile phones are constantly envolving and the prices are only increasing as time goes on. Is there a rhyme or reason to the pricing? We hope to use the dataset to find out. The dataset `mobiles` has the following features:\n",
    "\n",
    "| **Feature** | **Description** |\n",
    "| ----------- | --------------- |\n",
    "| blue        | Whether device has bluetooth {Yes: 1, No: 0}|\n",
    "| clock_speed | speed of the processor |\n",
    "| dual_sim    | whether the device can hold two unique sim cards {Yes: 1, No: 0} |\n",
    "| fc          | Megapixels in the front camera |\n",
    "| four_g      | Whether the device is 4g compatible {Yes: 1, No: 0} |\n",
    "| int_memory  | Internal Memory of the device (in GB) |\n",
    "| n_cores     | Number of Cores in the processor |\n",
    "| pc          | Back Camera Megapixels |\n",
    "| ram         | RAM of device (in MB) |\n",
    "| sc_h        | Screen Height |\n",
    "| sc_w        | Screen Width |\n",
    "| talk_time   | Time it takes on a call to drain the battery on a 3G call from 100% to 0%|\n",
    "| three_g     | Whether the device is 3G compatible {Yes: 1, No: 0} |\n",
    "| touch_screen| Whether the device has a touchscreen {Yes: 1, No: 0} |\n",
    "| wifi        | Whether the device has wifi compatability {Yes: 1, No: 0} | \n",
    "| price_range | Price range of the device {Low: 0, Medium: 1, High: 2, Very High: 3} |"
   ]
  },
  {
   "cell_type": "markdown",
   "metadata": {},
   "source": [
    "### Dataset 2: Supreme Supercars\n",
    "\n",
    "While we have worked with car datasets before, sometimes we only want to work with the best. Below is the features present within the `supercars` dataset\n",
    "\n",
    "| **Feature** | **Description** |\n",
    "| ----------- | --------------- |\n",
    "| car_full_nm        | Full name of car|\n",
    "| horsepower_bhp | Input break horsepower of the car |\n",
    "| rpm_horsepower_measure_point    | RPM the horsepower was measured at |\n",
    "| torque_lb_ft          | Torque (pounds per foot) |\n",
    "| rpm_torque_measure_point      | RPM the torque was measured at |\n",
    "| car_0_60_time_seconds  | Time for car to reach 0-60 |\n",
    "| engine_size_cc     | Engine size (cubic cms) |\n",
    "| engine_size_ci          | Engine size (cubic in) |\n",
    "| top_speed_mph         | Top Speed (Miles per hour) |\n",
    "| top_speed_kph        | Top Speed (KM per hour) |\n",
    "| horsepower_per_ton_bhp        | BHP per ton |\n",
    "| year   | Year made |\n",
    "| decade     | Decade of release |\n",
    "| make_nm | Manufacturer of Vehicle |\n",
    "| car_weight_tons        | Car weight in tons | \n",
    "| torque_per_ton | Torque per ton |"
   ]
  },
  {
   "cell_type": "markdown",
   "metadata": {},
   "source": [
    "### Exercise 1: Lets talk prices (Using Dataset #1)\n",
    "\n",
    "Xu poses of the question of whether the `talk time` of a device increases as the `price range` increases. Visualise the relationship between the price range categories and the average talk time, and explain the correlation (or lack of) between the two variables."
   ]
  },
  {
   "cell_type": "code",
   "execution_count": 87,
   "metadata": {},
   "outputs": [
    {
     "data": {
      "text/plain": [
       "Text(0.5,0,'Price Range(0 - 3) (x)')"
      ]
     },
     "execution_count": 87,
     "metadata": {},
     "output_type": "execute_result"
    },
    {
     "data": {
      "image/png": "[encoded data removed]",
      "text/plain": [
       "<Figure size 432x288 with 1 Axes>"
      ]
     },
     "metadata": {},
     "output_type": "display_data"
    }
   ],
   "source": [
    "# Enter code here\n",
    "\n",
    "df1 = mobile_data.groupby(['price_range'],as_index=False)['talk_time'].mean()\n",
    "\n",
    "plt.title('Relationship of Talk Time Vs. Price Range', fontsize=18)\n",
    "plt.ylabel(\"Talk Time (y)\",fontsize=14)\n",
    "plt.xlabel(\"Price Range(0 - 3) (x)\",fontsize=14)\n",
    "\n"
   ]
  },
  {
   "cell_type": "markdown",
   "metadata": {},
   "source": [
    "#### Explination of Correlation\n",
    "    - The diagram shows that the two variable lack of correlation."
   ]
  },
  {
   "cell_type": "markdown",
   "metadata": {},
   "source": [
    "### Exercise 2: More Power! (Using Dataset #2)\n",
    "\n",
    "Power isn't everything in a car, but it certainly helps. With 1500 different supercars of the previous 8 decades, it will be interesting to see how times have changed over the past 80 years. Your task is as follows:\n",
    "- Provide the mean, standard deviation, min and max values of `horsepower_bhp` and `engine_size_cc`\n",
    "- Provide the **Variance** of `horsepower_bhp` for cars in their respective decades. Provide the measure of variability for each decade as specified by the `decade` column in the DataFrame."
   ]
  },
  {
   "cell_type": "code",
   "execution_count": 88,
   "metadata": {},
   "outputs": [],
   "source": [
    "# Enter Code Here\n",
    "desc1 = car_data['horsepower_bhp'].describe()\n",
    "#print(desc1)\n",
    "desc2 = car_data[\"engine_size_cc\"].describe() \n",
    "#print(desc2) \n",
    "\n",
    "\n",
    "var_2010s = car_data.loc[(car_data['decade']=='2010s')]['horsepower_bhp']\n",
    "#print(\"Variance of horsepower_bhp for cars in 2010s is\", var_2010s.var())\n",
    "\n",
    "var_2000s = car_data.loc[(car_data['decade']=='2000s')]['horsepower_bhp']\n",
    "#print(\"Variance of horsepower_bhp for cars in 2000s is\", var_2000s.var())\n",
    "\n",
    "var_1990s = car_data.loc[(car_data['decade']=='1990s')]['horsepower_bhp']\n",
    "#print(\"Variance of horsepower_bhp for cars in 2000s is\", var_1990s.var())\n",
    "\n"
   ]
  },
  {
   "cell_type": "markdown",
   "metadata": {},
   "source": [
    "### Exercise 3: This Makes My Head Score (Using Dataset #1)\n",
    "\n",
    "The score of any machine learning model will always be an important factor for determining how good the data you produce is, but there may be many different ways to do this. Your task is as follows:\n",
    "- Seperate the data such that your target column is `price_range`\n",
    "- Using the function provided to test the features, find the **smallest subset of the possible features** such that the **score of the model is over 0.4** \n",
    "\n",
    "Note: The classifier may return different values each time you run it for the same data since it will always start at a different point for determining the split. You're welcome to call the function within a loop to check the max possible value\n",
    "Note_2: If you use `price_range` in your features to predict `price_range`, you will receive an automatic grade of 0. This is a trivial model."
   ]
  },
  {
   "cell_type": "code",
   "execution_count": 57,
   "metadata": {},
   "outputs": [],
   "source": [
    "# Testing Function\n",
    "def scoring25(x, y, iterations=50):\n",
    "    x_train, x_test, y_train, y_test = train_test_split(x,y, random_state=3)\n",
    "    sgd = SGDClassifier(max_iter=iterations, tol=1e-3)\n",
    "    sgd.fit(x_train,y_train)\n",
    "    return sgd.score(x_test, y_test)"
   ]
  },
  {
   "cell_type": "code",
   "execution_count": 90,
   "metadata": {},
   "outputs": [
    {
     "data": {
      "text/plain": [
       "<matplotlib.axes._subplots.AxesSubplot at 0x7f0f116374e0>"
      ]
     },
     "execution_count": 90,
     "metadata": {},
     "output_type": "execute_result"
    },
    {
     "data": {
      "image/png": "[encoded data removed]",
      "text/plain": [
       "<Figure size 432x288 with 2 Axes>"
      ]
     },
     "metadata": {},
     "output_type": "display_data"
    }
   ],
   "source": [
    "# TODO: Select the most appropiate features as per the question out of the dataset and call the function above.\n",
    "# Note: If you wish for the model to train more on the data until it reaches convergence, you can simply \n",
    "#add an 'iterations=number' (where number is the number of iterations) to train the data for longer\n",
    "df_price_range = mobile_data[['price_range']]\n",
    "\n",
    "\n",
    "corr = mobile_data.corr()\n",
    "sns.heatmap(corr, \n",
    "            xticklabels=corr.columns.values,\n",
    "            yticklabels=corr.columns.values)\n"
   ]
  },
  {
   "cell_type": "markdown",
   "metadata": {},
   "source": [
    "### Exercise 4: Predicting Speed (Using Dataset #2)\n",
    "\n",
    "Linear Regression, back once again! We hope to use the data we have to impliment a linear regression model that will predict the `car_0_60_time_seconds` feature. Impliment a Linear Regression function that uses **as many features as possible** while still having an R^2 over 0.35"
   ]
  },
  {
   "cell_type": "code",
   "execution_count": 69,
   "metadata": {},
   "outputs": [],
   "source": [
    "# Testing function\n",
    "def lmscore(x,y):\n",
    "    x_train, x_test, y_train, y_test = train_test_split(x,y, random_state=3)\n",
    "    lm = LinearRegression()\n",
    "    lm.fit(x_train, y_train)\n",
    "    return lm.score(x_test, y_test)\n"
   ]
  },
  {
   "cell_type": "code",
   "execution_count": 91,
   "metadata": {},
   "outputs": [
    {
     "name": "stdout",
     "output_type": "stream",
     "text": [
      "      car_0_60_time_seconds\n",
      "0                       2.5\n",
      "1                       2.5\n",
      "2                       2.8\n",
      "3                       2.9\n",
      "4                       2.9\n",
      "5                       2.9\n",
      "6                       2.5\n",
      "7                       2.8\n",
      "8                       2.9\n",
      "9                       2.7\n",
      "10                      3.0\n",
      "11                      2.9\n",
      "12                      3.1\n",
      "13                      2.8\n",
      "14                      3.8\n",
      "15                      3.2\n",
      "16                      2.9\n",
      "17                      3.0\n",
      "18                      2.9\n",
      "19                      3.6\n",
      "20                      2.9\n",
      "21                      3.9\n",
      "22                      3.0\n",
      "23                      2.8\n",
      "24                      2.9\n",
      "25                      3.0\n",
      "26                      2.9\n",
      "27                      2.6\n",
      "28                      3.1\n",
      "29                      3.0\n",
      "...                     ...\n",
      "1548                    0.0\n",
      "1549                    0.0\n",
      "1550                    0.0\n",
      "1551                    0.0\n",
      "1552                    0.0\n",
      "1553                    0.0\n",
      "1554                    0.0\n",
      "1555                    0.0\n",
      "1556                    0.0\n",
      "1557                    0.0\n",
      "1558                    0.0\n",
      "1559                    0.0\n",
      "1560                    0.0\n",
      "1561                    0.0\n",
      "1562                    0.0\n",
      "1563                    0.0\n",
      "1564                    0.0\n",
      "1565                    0.0\n",
      "1566                    0.0\n",
      "1567                    0.0\n",
      "1568                    0.0\n",
      "1569                    0.0\n",
      "1570                    0.0\n",
      "1571                    0.0\n",
      "1572                    0.0\n",
      "1573                    0.0\n",
      "1574                    0.0\n",
      "1575                    0.0\n",
      "1576                    0.0\n",
      "1577                    0.0\n",
      "\n",
      "[1578 rows x 1 columns]\n"
     ]
    },
    {
     "data": {
      "text/plain": [
       "<matplotlib.axes._subplots.AxesSubplot at 0x7f0f01407e48>"
      ]
     },
     "execution_count": 91,
     "metadata": {},
     "output_type": "execute_result"
    },
    {
     "data": {
      "image/png": "[encoded data removed]",
      "text/plain": [
       "<Figure size 432x288 with 2 Axes>"
      ]
     },
     "metadata": {},
     "output_type": "display_data"
    }
   ],
   "source": [
    "# TODO: Select the most appropiate features as per the question out of the dataset and call the function above.\n",
    "x = car_data[['engine_size_ci','horsepower_per_ton_bhp','car_weight_tons','torque_per_ton']]\n",
    "y = car_data[['car_0_60_time_seconds']]\n",
    "\n",
    "print()\n",
    "corr = x.corr()\n",
    "sns.heatmap(corr, \n",
    "            xticklabels=corr.columns.values,\n",
    "            yticklabels=corr.columns.values)\n"
   ]
  },
  {
   "cell_type": "code",
   "execution_count": null,
   "metadata": {},
   "outputs": [],
   "source": [
    "\n",
    "x = car_data[['horsepower_bhp','rpm_horsepower_measure_point','torque_lb_ft','rpm_torque_measure_point','engine_size_cc','top_speed_mph',\n",
    "              'top_speed_kph','car_weight_tons','torque_per_ton']]\n",
    "y = car_data[['car_0_60_time_seconds']]\n",
    "\n",
    "def predict(beta,x):\n",
    "    predicted = beta.predict([x])\n",
    "    return predicted\n",
    "\n",
    "beta = lmscore(x,y)\n",
    "predicted_y = predict(beta, x.loc[1200,:])\n",
    "predicted_y.astype(int)\n",
    "\n",
    "print ('Fitted model parameters are:', beta)\n",
    "print ('The predicted value of', x.iloc[1,:], 'is:', predicted_y)\n",
    "\n",
    "def r_square(x,y):\n",
    "    R2 = beta.score(x,y)\n",
    "    return R2\n",
    "\n",
    "r2 = r_square(x,y)\n",
    "print ('The R2 value of this dataset is:', r2 )"
   ]
  }
 ],
 "metadata": {
  "kernelspec": {
   "display_name": "Python 3",
   "language": "python",
   "name": "python3"
  },
  "language_info": {
   "codemirror_mode": {
    "name": "ipython",
    "version": 3
   },
   "file_extension": ".py",
   "mimetype": "text/x-python",
   "name": "python",
   "nbconvert_exporter": "python",
   "pygments_lexer": "ipython3",
   "version": "3.6.8"
  }
 },
 "nbformat": 4,
 "nbformat_minor": 2
}
