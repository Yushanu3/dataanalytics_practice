{
 "cells": [
  {
   "cell_type": "markdown",
   "metadata": {},
   "source": [
    "<img src=\"anu-logo.png\" height=\"30\">\n",
    "\n",
    "<h1 align='center'> COMP2420/COMP6420 - Introduction to Data Management, <br/>Analysis and Security</h1>\n",
    "\n",
    "<h2 align='center'>Mid-Semester Exam - Sample Questions</h2>\n",
    "\n",
    "*****\n"
   ]
  },
  {
   "cell_type": "code",
   "execution_count": 1,
   "metadata": {},
   "outputs": [],
   "source": [
    "# IMPORTING FREQUENTLY USED PYTHON MODULES\n",
    "import numpy as np\n",
    "import pandas as pd\n",
    "import seaborn as sns\n",
    "import matplotlib.pyplot as plt\n",
    "import os\n",
    "plt.style.use('seaborn-notebook')\n",
    "%matplotlib inline\n",
    "\n",
    "# JUST TO MAKE SURE SOME WARNINGS ARE IGNORED \n",
    "import warnings\n",
    "warnings.filterwarnings(\"ignore\")\n",
    "\n",
    "# IMPORT ANY PACKAGES YOU WOULD LIKE TO USE BELOW\n",
    "\n",
    "\n"
   ]
  },
  {
   "cell_type": "markdown",
   "metadata": {},
   "source": [
    "## Section A - Data Analysis\n",
    "\n",
    "### Question 1: _[30 marks]_ \n",
    "\n",
    "You are given the following dataset from the **Seaborn** library in Anaconda.\n",
    "\n",
    "1) **Do some exploratory data analysis on this dataset and find out _three_ facts that jump out from this data.**\n",
    "<span style= 'float: right;'><b>[5 marks]</b></span>"
   ]
  },
  {
   "cell_type": "code",
   "execution_count": 2,
   "metadata": {
    "scrolled": true
   },
   "outputs": [
    {
     "data": {
      "text/plain": [
       "0        2.43\n",
       "1        2.31\n",
       "2        2.31\n",
       "3        2.63\n",
       "4        2.75\n",
       "5        2.48\n",
       "6        2.47\n",
       "7        2.53\n",
       "8        2.49\n",
       "9        2.39\n",
       "10       2.73\n",
       "11       2.46\n",
       "12       2.33\n",
       "13       2.71\n",
       "14       2.27\n",
       "15       2.68\n",
       "16       2.68\n",
       "17       2.70\n",
       "18       2.71\n",
       "19       2.66\n",
       "20       2.71\n",
       "21       2.48\n",
       "22       2.41\n",
       "23       2.62\n",
       "24       2.59\n",
       "25       2.41\n",
       "26       2.47\n",
       "27       2.67\n",
       "28       2.40\n",
       "29       2.42\n",
       "         ... \n",
       "53910    3.48\n",
       "53911    3.23\n",
       "53912    3.36\n",
       "53913    3.74\n",
       "53914    3.77\n",
       "53915    3.63\n",
       "53916    3.61\n",
       "53917    3.86\n",
       "53918    3.49\n",
       "53919    3.66\n",
       "53920    3.49\n",
       "53921    3.53\n",
       "53922    3.55\n",
       "53923    3.57\n",
       "53924    3.59\n",
       "53925    3.67\n",
       "53926    3.54\n",
       "53927    3.54\n",
       "53928    3.68\n",
       "53929    3.53\n",
       "53930    3.49\n",
       "53931    3.43\n",
       "53932    3.47\n",
       "53933    3.49\n",
       "53934    3.58\n",
       "53935    3.50\n",
       "53936    3.61\n",
       "53937    3.56\n",
       "53938    3.74\n",
       "53939    3.64\n",
       "Name: z, Length: 53940, dtype: float64"
      ]
     },
     "execution_count": 2,
     "metadata": {},
     "output_type": "execute_result"
    }
   ],
   "source": [
    "df_diamonds = sns.load_dataset('diamonds')\n",
    "df_diamonds.head()\n",
    "\n",
    "# DO SOME EXPLORATORY DATA ANALYSIS ON THE DATASET\n",
    "# AND STATE 3 FACTS THE JUMP OUT FROM THE BASIC STAT \n",
    "# ANALYSIS OF THE DATASET.\n",
    "df_diamonds['x']\n",
    "df_diamonds['y']\n",
    "df_diamonds['z']"
   ]
  },
  {
   "cell_type": "markdown",
   "metadata": {},
   "source": [
    "2) **Find out the max weight (in carat) and most valueable stone(s).**\n",
    "<span style= 'float: right;'><b>[2 marks]</b></span>"
   ]
  },
  {
   "cell_type": "code",
   "execution_count": 3,
   "metadata": {},
   "outputs": [
    {
     "name": "stdout",
     "output_type": "stream",
     "text": [
      "carat         2.29\n",
      "cut        Premium\n",
      "color            I\n",
      "clarity        VS2\n",
      "depth         60.8\n",
      "table           60\n",
      "price        18823\n",
      "x              8.5\n",
      "y             8.47\n",
      "z             5.16\n",
      "Name: 27749, dtype: object\n",
      "carat       5.01\n",
      "cut         Fair\n",
      "color          J\n",
      "clarity       I1\n",
      "depth       65.5\n",
      "table         59\n",
      "price      18018\n",
      "x          10.74\n",
      "y          10.54\n",
      "z           6.98\n",
      "Name: 27415, dtype: object\n"
     ]
    }
   ],
   "source": [
    "# YOUR CODE HERE\n",
    "df1 = df_diamonds.sort_values(by=['price'],ascending=False).head()\n",
    "df2 = df_diamonds.sort_values(by=['carat'],ascending=False).head()\n",
    "#df2 = df_diamonds.groupby(['carat'],as_index=False).max()\n",
    "print(df1.iloc[0])\n",
    "print(df2.iloc[0])\n"
   ]
  },
  {
   "cell_type": "markdown",
   "metadata": {},
   "source": [
    "3) **Are stones of max weight also the dearest stones? Justify your answer with appropriate data or visualisation.**\n",
    "\n",
    "<span style= 'float: right;'><b>[3 marks]</b></span>"
   ]
  },
  {
   "cell_type": "code",
   "execution_count": 4,
   "metadata": {},
   "outputs": [
    {
     "name": "stdout",
     "output_type": "stream",
     "text": [
      "Object `dearest` not found.\n"
     ]
    }
   ],
   "source": [
    "# YOUR CODE HERE\n",
    "whats dearest?\n",
    "\n"
   ]
  },
  {
   "cell_type": "code",
   "execution_count": null,
   "metadata": {},
   "outputs": [],
   "source": [
    "whats dearest"
   ]
  },
  {
   "cell_type": "code",
   "execution_count": 5,
   "metadata": {},
   "outputs": [
    {
     "ename": "SyntaxError",
     "evalue": "invalid syntax (<ipython-input-5-c8a0da17978a>, line 1)",
     "output_type": "error",
     "traceback": [
      "\u001b[0;36m  File \u001b[0;32m\"<ipython-input-5-c8a0da17978a>\"\u001b[0;36m, line \u001b[0;32m1\u001b[0m\n\u001b[0;31m    whats dearest\u001b[0m\n\u001b[0m                ^\u001b[0m\n\u001b[0;31mSyntaxError\u001b[0m\u001b[0;31m:\u001b[0m invalid syntax\n"
     ]
    }
   ],
   "source": [
    "whats dearest"
   ]
  },
  {
   "cell_type": "markdown",
   "metadata": {},
   "source": [
    "3) **Find out how the average price per carat for different cut (quality) groups. Do cut quality group names correlate with the average price? Plot the results (using bar plot or piechart).**\n",
    "\n",
    "<span style= 'float: right;'><b>[20 marks]</b></span>"
   ]
  },
  {
   "cell_type": "code",
   "execution_count": 6,
   "metadata": {},
   "outputs": [
    {
     "name": "stdout",
     "output_type": "stream",
     "text": [
      "         cut        price\n",
      "0       Fair  4628.895817\n",
      "1       Good  4829.981205\n",
      "2      Ideal  6212.384837\n",
      "3    Premium  6699.791985\n",
      "4  Very Good  5682.917295\n"
     ]
    },
    {
     "data": {
      "image/png": "[encoded data removed]",
      "text/plain": [
       "<Figure size 432x288 with 1 Axes>"
      ]
     },
     "metadata": {},
     "output_type": "display_data"
    }
   ],
   "source": [
    "# YOUR CODE HERE\n",
    "#df_price = df_diamonds.sort_values(by=['price'],ascending=False)\n",
    "df_grouped = df_diamonds.groupby(['cut','price'],as_index=False).mean() #take mean of combination then again take mean on cut groups\n",
    "df_ave_price = df_grouped.groupby(['cut'],as_index=False)['price'].mean()\n",
    "print(df_ave_price)\n",
    "\n",
    "plt.bar(df_ave_price['cut'],df_ave_price['price'])\n",
    "plt.title(\"Cut Quality vs Average Price\")\n",
    "plt.xlabel(\"Cut Quality\")\n",
    "plt.ylabel(\"Average Price\")\n",
    "plt.show()\n"
   ]
  },
  {
   "cell_type": "markdown",
   "metadata": {},
   "source": [
    "### Question 2:  _[15 marks]_ \n",
    "\n",
    "Researcher A claims to have quantified the drink consumption habits of **Coffee Grounds'** customers. He claims\n",
    "that the choice of each customer is a random sample from a distribution over five outcomes: `Smoothie`, `Coffee`,\n",
    "`Milk Tea`, `Classic Tea`, and `Sparkling Juice`, with probability of 0.2, 0.15, 0.2, 0.4, and 0.05, respectively.\n",
    "\n",
    "\n",
    "1. **Another researcher B rejects one part of the A's claim: he can’t believe customers choose Classic Tea with a 40% probability (he doesn’t care at all about the probabilities of the other choices). State null and alternative hypotheses that he should use to investigate this issue.**\n",
    "<span style= 'float: right;'><b>[5 marks]</b></span>"
   ]
  },
  {
   "cell_type": "markdown",
   "metadata": {},
   "source": [
    "<span style=\"color:blue\">\n",
    " \n",
    "#### YOUR ANSWER HERE\n",
    "\n",
    "H null:      p tea = 0.4\n",
    "H Alternative: p tea < 0.4\n",
    "\n",
    "</span>"
   ]
  },
  {
   "cell_type": "markdown",
   "metadata": {},
   "source": [
    "2. **Now B needs a sample of customer choices. Each beverage cup contains a mark describing its original contents. Should he look in the garbage can outside of Coffee Grounds at the end of the day and count the proportion of cups that contained Classic Tea? Why or why not?**\n",
    "<span style= 'float: right;'><b>[5 marks]</b></span>"
   ]
  },
  {
   "cell_type": "markdown",
   "metadata": {},
   "source": [
    "<span style=\"color:blue\">\n",
    " \n",
    "#### YOUR ANSWER HERE\n",
    "No, the customers may take away beverages, so the cups will not leave at the garbage can outside of store.\n",
    "</span>"
   ]
  },
  {
   "cell_type": "markdown",
   "metadata": {},
   "source": [
    "3. **Alternatively, Coffee Grounds offers to give B a uniform random sample of 10 orders from its database of all past orders. He replies, \"That’s not enough, I need a large random sample.\" They ask why. How should he respond to justify his request of a large random sample?**\n",
    "<span style= 'float: right;'><b>[5 marks]</b></span>"
   ]
  },
  {
   "cell_type": "markdown",
   "metadata": {},
   "source": [
    "<span style=\"color:blue\">\n",
    " \n",
    "#### YOUR ANSWER HERE\n",
    "\n",
    "</span> The larger sample relects the more accurate of the data."
   ]
  },
  {
   "cell_type": "markdown",
   "metadata": {},
   "source": [
    "## Section B - Data Visualization \n",
    "\n",
    "### Question 3: _[40 marks]_\n",
    "\n",
    "1. **In the world of Pokémon, there are many different pokémon, each holding a unique power inside. Ash, the pokémon trainer has collected a large dataset of Pokémon throughout his many adventures, and wants to know more about the composition of different generations of pokémon. Complete the function `plot_pokemon_composition()` to help Ash visualise the composition.**\n",
    "<span style= 'float: right;'><b>[10 marks]</b></span>"
   ]
  },
  {
   "cell_type": "code",
   "execution_count": 7,
   "metadata": {},
   "outputs": [],
   "source": [
    "# TODO: COMPLETE THE BELOW FUNCTION\n",
    "def plot_pokemon_composition(df_pokemon):\n",
    "    df_gene = df_pokemon.groupby(['Generation'],as_index=False).count()\n",
    "    values = df_gene.Generation\n",
    "    keys = df_gene.index\n",
    "    \n",
    "    plt.pie(values,keys,autopct='%.1f%%',startangle=90)\n",
    "    plt.legend()\n",
    "    \n",
    "    return False"
   ]
  },
  {
   "cell_type": "code",
   "execution_count": 8,
   "metadata": {},
   "outputs": [
    {
     "name": "stderr",
     "output_type": "stream",
     "text": [
      "No handles with labels found to put in legend.\n"
     ]
    },
    {
     "data": {
      "text/plain": [
       "False"
      ]
     },
     "execution_count": 8,
     "metadata": {},
     "output_type": "execute_result"
    },
    {
     "data": {
      "image/png": "[encoded data removed]",
      "text/plain": [
       "<Figure size 432x288 with 1 Axes>"
      ]
     },
     "metadata": {},
     "output_type": "display_data"
    }
   ],
   "source": [
    "# RUN THIS BLOCK TO TEST YOUR CODE\n",
    "df_pokemon = pd.read_csv('pokemon.csv')\n",
    "plot_pokemon_composition(df_pokemon)"
   ]
  },
  {
   "cell_type": "markdown",
   "metadata": {},
   "source": [
    "2. **Briefly justify why the graph you chose in 1 is suitable for the intended purpose.**\n",
    "\n",
    "<span style= 'float: right;'><b>[5 marks]</b></span>"
   ]
  },
  {
   "cell_type": "markdown",
   "metadata": {},
   "source": [
    "<span style=\"color:blue\">\n",
    " \n",
    "#### YOUR ANSWER HERE\n",
    "\n",
    "</span>"
   ]
  },
  {
   "cell_type": "code",
   "execution_count": 9,
   "metadata": {},
   "outputs": [
    {
     "ename": "SyntaxError",
     "evalue": "invalid syntax (<ipython-input-9-c9dfa76311e0>, line 1)",
     "output_type": "error",
     "traceback": [
      "\u001b[0;36m  File \u001b[0;32m\"<ipython-input-9-c9dfa76311e0>\"\u001b[0;36m, line \u001b[0;32m1\u001b[0m\n\u001b[0;31m    As the pie chart is suitable to show the composition of pokemons\u001b[0m\n\u001b[0m         ^\u001b[0m\n\u001b[0;31mSyntaxError\u001b[0m\u001b[0;31m:\u001b[0m invalid syntax\n"
     ]
    }
   ],
   "source": [
    "As the pie chart is suitable to show the composition of pokemons"
   ]
  },
  {
   "cell_type": "markdown",
   "metadata": {},
   "source": [
    "2. **Professor Oak, a specialist in the study of Pokémon, wants to discover the relationship between Attack vs Defense to HP of Pokémon. He asks you to create a graph depicting this relationship, with an additional requirement. Make the data points for Legendary Pokémon (extremely powerful, one-of-a-kind Pokémon) stand out from the others. Complete the function `plot_attack_defense_hp()` to create this graph.**\n",
    "<span style= 'float: right;'><b>[15 marks]</b></span>"
   ]
  },
  {
   "cell_type": "code",
   "execution_count": 10,
   "metadata": {},
   "outputs": [],
   "source": [
    "# TODO: COMPLETE THE BELOW FUNCTION\n",
    "def plot_attack_defense(df_pokemon):    \n",
    "    \n",
    "    plt.scatter()\n",
    "    colors = np.random.rand(25) \n",
    "    cm = plt.cm.get_cmap('rainbow')\n",
    "    #Attack vs Defense to HP\n",
    "    plt.xlabel('X')\n",
    "    plt.ylabel('Y')\n",
    "    plt.title('Position and Size of Various Items')\n",
    "    plt.scatter(df_pokemon.Attack,df_pokemon.Denfense,df_pokemon.HP,c=colors, cmap=cm)\n",
    "    plt.colorbar()\n",
    "    plt.show()\n",
    "    \n",
    "    return False"
   ]
  },
  {
   "cell_type": "code",
   "execution_count": null,
   "metadata": {},
   "outputs": [],
   "source": [
    "# RUN THIS CELL TO TEST YOUR FUNCTION\n",
    "df_pokemon = pd.read_csv('pokemon.csv')\n",
    "plot_attack_defense(df_pokemon)"
   ]
  },
  {
   "cell_type": "markdown",
   "metadata": {},
   "source": [
    "3. **Pokémon Trainers Ally Kazam and Cat Erpie are having an argument. Ally believes that `Psychic` type pokémon are superior to `Normal` type pokémon because they have a higher Special Attack, however, Cat disagrees. Complete the function `plot_psychic_vs_bug()` to help Ally Kazam and Cat Erpie compare the distribution of Special Attack for `Psychic` and `Bug` type pokémon.**\n",
    "\n",
    "**Note**: A pokémon `p` belongs to Type `t` if `p`'s `Type 1 = t` OR `p`'s `Type 2 = t`.\n",
    "<span style= 'float: right;'><b>[10 marks]</b></span>"
   ]
  },
  {
   "cell_type": "code",
   "execution_count": null,
   "metadata": {},
   "outputs": [],
   "source": [
    "def plot_psychic_vs_bug(df_pokemon):\n",
    "\n",
    "    \n",
    "    \n",
    "    \n",
    "    return False"
   ]
  },
  {
   "cell_type": "code",
   "execution_count": null,
   "metadata": {},
   "outputs": [],
   "source": [
    "# RUN THIS CELL TO TEST YOUR FUNCTION\n",
    "df_pokemon = pd.read_csv('pokemon.csv')\n",
    "plot_psychic_vs_bug(df_pokemon)"
   ]
  },
  {
   "cell_type": "markdown",
   "metadata": {},
   "source": [
    "## Section C - Introductory Machine Learning\n",
    "\n",
    "### Question 4: _[15 marks]_\n",
    "\n",
    "You have been given a file named **admission.csv** which contains a dataset of university admission chance and some factors. The attributes in this dataset includes:\n",
    "\n",
    "1. GRE Scores ( out of 340 )\n",
    "2. TOEFL Scores ( out of 120 ) \n",
    "3. University Rating ( out of 5 ) \n",
    "4. Statement of Purpose and Letter of Recommendation Strength ( out of 5 ) \n",
    "5. Undergraduate GPA ( out of 10 ) \n",
    "6. Research Experience ( either 0 or 1 ) \n",
    "7. Chance of Admit ( ranging from 0 to 1 )\n",
    "\n",
    "With our dataset, we would like to predict the chance that a student will be admitted to study in an university with the some of his/her characters and previous performance. \n",
    "\n",
    "1) **The first thing to do is to load the data into a Pandas DataFrame and make it ready for use for training our linear regression model.**\n",
    "<span style= 'float: right;'><b>[3 marks]</b></span>\n",
    "\n",
    "2) **Then you will have to complete the `linear_regression()` function. This function takes <b>X</b> and <b>Y</b> you constructed from 1) as input, and generates an array $\\textbf{$\\beta$}$, which contains the parameters of the fitted function. You are also expected to complete the `predict()` function, which returns the predicted value $\\hat{y}_{i}$ of a given point $x_{i}$ and the parameters $\\textbf{$\\beta$}$.**\n",
    "<span style= 'float: right;'><b>[7 marks]</b></span>"
   ]
  },
  {
   "cell_type": "code",
   "execution_count": null,
   "metadata": {},
   "outputs": [],
   "source": [
    "# TODO: COMPLETE THIS FUNCTION\n",
    "def load_data(data_path):\n",
    "    X = None\n",
    "    Y = None\n",
    "\n",
    "    \n",
    "    \n",
    "    return X, Y\n",
    "\n",
    "X, Y = load_data('./admission.csv')\n",
    "print ('The shape of data points X and true value Y are:', X.shape, Y.shape)\n",
    "\n",
    "\n",
    "# TODO: COMPLETE THIS FUNCTION\n",
    "def linear_regression(X,Y):\n",
    "    \"\"\"\n",
    "    Inputs: X,Y are numpy arrays containing the training data points and the true value\n",
    "    Outputs: beta is numpy array containing the parameters of the fitted function.\n",
    "    \"\"\"\n",
    "    beta = None\n",
    "\n",
    "    \n",
    "    return beta\n",
    "\n",
    "# TODO: COMPLETE THIS FUNCTION\n",
    "def predict(beta,x):\n",
    "    \"\"\"\n",
    "    Inputs: x is a numpy array of a point in the dataset (padded 1 at the left).\n",
    "            beta is a numpy array containing the parameters of the fitted function.\n",
    "    Outputs: predicted is the value of predicted y_hat of the give data x and parameter set beta.\n",
    "    \"\"\"\n",
    "    predicted = None\n",
    "    \n",
    "    \n",
    "    return predicted\n",
    "\n",
    "beta = linear_regression(X,Y)\n",
    "predicted_y = predict(beta, X[1,:])\n",
    "\n",
    "print ('Fitted model parameters are:', beta)\n",
    "print ('The predicted value of', X[1,:], 'is:', predicted_y )"
   ]
  },
  {
   "cell_type": "markdown",
   "metadata": {},
   "source": [
    "3) **If your linear model does not perform very well on your data, it sometime means there's less linear relationship in your data. There are many ways of measuring linear relationship and we will use $R^{2}$ measure, which is defined by:**\n",
    "\n",
    "<center> $R^{2}$ = $1- \\dfrac{\\sum{(y_{i}-\\hat{y_{i}})^2}}{\\sum{(y_{i}-\\tilde{y})^2}}$</center>\n",
    "where, $\\tilde{y}$ is the mean of true y values.\n",
    "\n",
    "**Your task here is to implement the `r_square()` function which calculates $R^{2}$ score for the given X and Y.**\n",
    "\n",
    "<span style= 'float: right;'><b>[5 marks]</b></span>"
   ]
  },
  {
   "cell_type": "code",
   "execution_count": null,
   "metadata": {},
   "outputs": [],
   "source": [
    "# TODO: COMPLETE THIS FUNCTION\n",
    "def r_square(X,Y):\n",
    "    \"\"\"\n",
    "    Inputs: X,Y are numpy arrays containing the training data points and the true value\n",
    "    Outputs: r2 is the r square value of the input X and Y\n",
    "    \"\"\"\n",
    "    R2 = None\n",
    "\n",
    "    \n",
    "    \n",
    "    return R2\n",
    "\n",
    "\n",
    "r2 = r_square(X,Y)\n",
    "print ('The R2 value of this dataset is:', r2 )"
   ]
  }
 ],
 "metadata": {
  "kernelspec": {
   "display_name": "Python 3",
   "language": "python",
   "name": "python3"
  },
  "language_info": {
   "codemirror_mode": {
    "name": "ipython",
    "version": 3
   },
   "file_extension": ".py",
   "mimetype": "text/x-python",
   "name": "python",
   "nbconvert_exporter": "python",
   "pygments_lexer": "ipython3",
   "version": "3.6.8"
  }
 },
 "nbformat": 4,
 "nbformat_minor": 2
}
