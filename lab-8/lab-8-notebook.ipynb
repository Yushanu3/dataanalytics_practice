{
 "cells": [
  {
   "cell_type": "markdown",
   "metadata": {},
   "source": [
    "<h1 align='center'> COMP2420/COMP6420 - Introduction to Data Management, Analysis and Security</h1>\n",
    "\n",
    "<h2 align='center'> Lab 08 - Databases</h2>\n",
    "\n",
    "*****\n",
    "\n",
    "During the lectures, you have learned about **SQL (Structured Query Language)**, a database query language which can be used to create and modify databases. The commands used for such operations can be categorised into  \n",
    "* **DDL (Data Definition Language)** - Commands used to define database schema \n",
    "    * **CREATE** – Used to create the database or its objects.\n",
    "    * **DROP** – Used to delete objects from the database.\n",
    "    * **ALTER** - Used to alter the structure of the database.\n",
    "    * **TRUNCATE** – Used to remove all records from a table (including spaces allocated for the records).\n",
    "    * **RENAME** – Used to rename an object existing in the database.\n",
    "* **DML (Data Manipulation Language)** - Commands used to manipulate data present in the database\n",
    "    * **SELECT** – Used to retrieve data from the database.\n",
    "    * **INSERT** – Used to insert data into a table.\n",
    "    * **UPDATE** – Used to update existing data within a table.\n",
    "    * **DELETE** – Used to delete records from a database table.\n",
    "* **DCL (Data Control Language)** - Commands used to grant permissions and access rights in the database\n",
    "    * **GRANT** - Gives users access privileges to database.\n",
    "    * **REVOKE** - Withdraws users' access privileges to database.\n",
    "\n",
    "Let's try to implement some of these operations in a PostgreSQL database using Python's _**psycopg2 module**_."
   ]
  },
  {
   "cell_type": "code",
   "execution_count": 1,
   "metadata": {},
   "outputs": [],
   "source": [
    "# Import Required Modules\n",
    "import psycopg2         # Module to interface between Python and PSQL\n",
    "import pandas as pd     # Improves readability by using dataframes to display query results\n",
    "\n",
    "def execute_sql(query):\n",
    "    \"\"\" Executes the provided query string (SELECT only)\n",
    "        on the database currently connected to by the\n",
    "        global psycopg2 cursor (must be defined namespace\n",
    "        for which this function has scope).\n",
    "        \n",
    "        Returns the result of this select query (should\n",
    "        there be any) as a pandas dataframe\n",
    "    \"\"\"\n",
    "    # Select table and display\n",
    "    curr.execute(query)\n",
    "\n",
    "    # Fetches all the rows from the result of the query\n",
    "    rows = curr.fetchall()\n",
    "    \n",
    "    # Gets the column names for the table\n",
    "    colnames = [desc[0] for desc in curr.description]\n",
    "\n",
    "    # Converts into readable pandas dataframe\n",
    "    df_result = pd.DataFrame(rows, columns=colnames)\n",
    "    return df_result"
   ]
  },
  {
   "cell_type": "markdown",
   "metadata": {},
   "source": [
    "To practice our SQL statements we need to create a database on which we can run our queries. The easy way to create the whole database is by just running an SQL script that creates the whole database and constituent tables. \n",
    "\n",
    "To connect to a PostgreSQL database and execute SQL commands using Python, we require several functions from the **psycopg2 module**. To connect to a PostgreSQL database, the **connect()** function is used. The following is the list of the connection parameters that are to be passed with this function:\n",
    "\n",
    "* **database**: the name of the database that you want to connect.\n",
    "* **user**: the username used to authenticate.\n",
    "* **password**: password used to authenticate.\n",
    "* **host**: database server address e.g., localhost or an IP address\n",
    "* **port**: the port number (that defaults to 5432 if it is not provided)   \n",
    "\n",
    "The connect() function creates a new database session and returns a new instance of the connection class. With a connection object, you can create a new cursor (with **cursor()** function) to execute an SQL statement (with **execute()** function) and terminate a transaction using either commit() or rollback() method."
   ]
  },
  {
   "cell_type": "code",
   "execution_count": 5,
   "metadata": {},
   "outputs": [],
   "source": [
    "### EDIT: Replace uXXXXXXX with your UID\n",
    "uid = \"uXXXXXXX\""
   ]
  },
  {
   "cell_type": "code",
   "execution_count": 21,
   "metadata": {},
   "outputs": [],
   "source": [
    "# Connect using psycopg2\n",
    "### EDIT: Replace uXXXXXXX with your UniID\n",
    "conn = psycopg2.connect(dbname=uid, host=\"/var/run/postgresql\")\n",
    "\n",
    "# Activate connection cursor\n",
    "curr = conn.cursor()\n",
    "\n",
    "# Open and run the SQL script that creates the DB schema\n",
    "# NOTE: If you recieve the error \"no schema has been selected to create in\",\n",
    "#       you need to create a schema for your account:\n",
    "#       CREATE SCHEMA uXXXXXXX;\n",
    "sqlfile = open('db_schema.sql', 'r')\n",
    "curr.execute(sqlfile.read())"
   ]
  },
  {
   "cell_type": "markdown",
   "metadata": {},
   "source": [
    "The database that we just created looks somewhat like this - \n",
    "\n",
    "* **players** (**player_id**: integer, **name** : varchar(50), **position** : varchar(10), **height** : integer, **weight** : integer, **team**: varchar(30))\n",
    "\n",
    "Each player is assigned a unique _player_id_. The position of a player can either be **Defender**, **Midfielder** or **Forward**. The height of a player is in centimeters while the weight is in kilograms. Each player plays for only one team. The _team_ field is a foreign key to the table **team**.\n",
    "\n",
    "* **team** (**name**: varchar(30), **city**: varchar(20))\n",
    "\n",
    "Each team has a **unique name** associated with it. There can be multiple teams from the same city.\n",
    "\n",
    "* **game** (**game_id**: integer, **home_team**: varchar(30), **away_team** : varchar(30), **home_score** : integer, **away_score** : integer)\n",
    "\n",
    "Each game has a unique _game_id_. The fields **home_team** and **away_team** are foreign keys to **team**. Two teams may play each other multiple times each season. There is an integrity check to ensure home_team and away_team are different.\n",
    "\n",
    "* **game_stats** (**player_id** : integer, **game_id**: integer, **goals** : integer, **assists** : integer, **passes** : integer)\n",
    "\n",
    "game_stats records the performance statistics of a player within a game. A player may not play in every game, in which case it will not have its statistics recorded for that game. **game_id** is a foreign key to game. **team** is a foreign key to team. Assume that there is already an integrity check to ensure that the player involved belongs to either the involving home or away teams.\n",
    "\n",
    "Now that we know how the database schema looks like, let's see the data rows inside each table - "
   ]
  },
  {
   "cell_type": "code",
   "execution_count": 7,
   "metadata": {},
   "outputs": [
    {
     "data": {
      "text/html": [
       "<div>\n",
       "<style scoped>\n",
       "    .dataframe tbody tr th:only-of-type {\n",
       "        vertical-align: middle;\n",
       "    }\n",
       "\n",
       "    .dataframe tbody tr th {\n",
       "        vertical-align: top;\n",
       "    }\n",
       "\n",
       "    .dataframe thead th {\n",
       "        text-align: right;\n",
       "    }\n",
       "</style>\n",
       "<table border=\"1\" class=\"dataframe\">\n",
       "  <thead>\n",
       "    <tr style=\"text-align: right;\">\n",
       "      <th></th>\n",
       "      <th>name</th>\n",
       "      <th>city</th>\n",
       "    </tr>\n",
       "  </thead>\n",
       "  <tbody>\n",
       "    <tr>\n",
       "      <th>0</th>\n",
       "      <td>Arsenal</td>\n",
       "      <td>London</td>\n",
       "    </tr>\n",
       "    <tr>\n",
       "      <th>1</th>\n",
       "      <td>Liverpool</td>\n",
       "      <td>Liverpool</td>\n",
       "    </tr>\n",
       "    <tr>\n",
       "      <th>2</th>\n",
       "      <td>Chelsea</td>\n",
       "      <td>London</td>\n",
       "    </tr>\n",
       "    <tr>\n",
       "      <th>3</th>\n",
       "      <td>Manchester United</td>\n",
       "      <td>Manchester</td>\n",
       "    </tr>\n",
       "    <tr>\n",
       "      <th>4</th>\n",
       "      <td>Manchester City</td>\n",
       "      <td>Manchester</td>\n",
       "    </tr>\n",
       "    <tr>\n",
       "      <th>5</th>\n",
       "      <td>Tottenham Hotspurs</td>\n",
       "      <td>London</td>\n",
       "    </tr>\n",
       "  </tbody>\n",
       "</table>\n",
       "</div>"
      ],
      "text/plain": [
       "                 name        city\n",
       "0             Arsenal      London\n",
       "1           Liverpool   Liverpool\n",
       "2             Chelsea      London\n",
       "3   Manchester United  Manchester\n",
       "4     Manchester City  Manchester\n",
       "5  Tottenham Hotspurs      London"
      ]
     },
     "execution_count": 7,
     "metadata": {},
     "output_type": "execute_result"
    }
   ],
   "source": [
    "# Select table and display\n",
    "curr.execute(\"SELECT * FROM team;\")\n",
    "\n",
    "# Fetches all the rows from the result of the query\n",
    "rows = curr.fetchall()\n",
    "\n",
    "# Gets the column names for the table\n",
    "colnames = [desc[0] for desc in curr.description]\n",
    "\n",
    "# Converts into readable pandas dataframe\n",
    "df_team = pd.DataFrame(rows, columns=colnames)\n",
    "df_team\n",
    "\n",
    "## We convenietly wrap all this functionality into a function \n",
    "## named execute_sql(query_string) defined above."
   ]
  },
  {
   "cell_type": "markdown",
   "metadata": {},
   "source": [
    "Here, we could have just displayed the rows returned by the **execute() method** using just the first 2 lines of code. However, the advantage of using a pandas dataframe to display the resultant rows is -\n",
    "\n",
    "* The data is in a more readable and natural table-like format.\n",
    "* We can perform our usual data wrangling and transformation on this dataframe easily."
   ]
  },
  {
   "cell_type": "code",
   "execution_count": 8,
   "metadata": {},
   "outputs": [
    {
     "data": {
      "text/html": [
       "<div>\n",
       "<style scoped>\n",
       "    .dataframe tbody tr th:only-of-type {\n",
       "        vertical-align: middle;\n",
       "    }\n",
       "\n",
       "    .dataframe tbody tr th {\n",
       "        vertical-align: top;\n",
       "    }\n",
       "\n",
       "    .dataframe thead th {\n",
       "        text-align: right;\n",
       "    }\n",
       "</style>\n",
       "<table border=\"1\" class=\"dataframe\">\n",
       "  <thead>\n",
       "    <tr style=\"text-align: right;\">\n",
       "      <th></th>\n",
       "      <th>player_id</th>\n",
       "      <th>name</th>\n",
       "      <th>position</th>\n",
       "      <th>height</th>\n",
       "      <th>weight</th>\n",
       "      <th>team</th>\n",
       "    </tr>\n",
       "  </thead>\n",
       "  <tbody>\n",
       "    <tr>\n",
       "      <th>0</th>\n",
       "      <td>1</td>\n",
       "      <td>Alexandre Lacazette</td>\n",
       "      <td>Forward</td>\n",
       "      <td>175</td>\n",
       "      <td>73</td>\n",
       "      <td>Arsenal</td>\n",
       "    </tr>\n",
       "    <tr>\n",
       "      <th>1</th>\n",
       "      <td>2</td>\n",
       "      <td>Mohamed Salah</td>\n",
       "      <td>Forward</td>\n",
       "      <td>175</td>\n",
       "      <td>71</td>\n",
       "      <td>Liverpool</td>\n",
       "    </tr>\n",
       "    <tr>\n",
       "      <th>2</th>\n",
       "      <td>3</td>\n",
       "      <td>Marcos Alonso</td>\n",
       "      <td>Defender</td>\n",
       "      <td>188</td>\n",
       "      <td>85</td>\n",
       "      <td>Chelsea</td>\n",
       "    </tr>\n",
       "    <tr>\n",
       "      <th>3</th>\n",
       "      <td>4</td>\n",
       "      <td>Paul Pogba</td>\n",
       "      <td>Midfielder</td>\n",
       "      <td>191</td>\n",
       "      <td>84</td>\n",
       "      <td>Manchester United</td>\n",
       "    </tr>\n",
       "    <tr>\n",
       "      <th>4</th>\n",
       "      <td>5</td>\n",
       "      <td>David Silva</td>\n",
       "      <td>Midfielder</td>\n",
       "      <td>173</td>\n",
       "      <td>67</td>\n",
       "      <td>Manchester City</td>\n",
       "    </tr>\n",
       "    <tr>\n",
       "      <th>5</th>\n",
       "      <td>6</td>\n",
       "      <td>Jan Vertonghen</td>\n",
       "      <td>Defender</td>\n",
       "      <td>189</td>\n",
       "      <td>88</td>\n",
       "      <td>Tottenham Hotspurs</td>\n",
       "    </tr>\n",
       "  </tbody>\n",
       "</table>\n",
       "</div>"
      ],
      "text/plain": [
       "   player_id                 name    position  height  weight  \\\n",
       "0          1  Alexandre Lacazette     Forward     175      73   \n",
       "1          2        Mohamed Salah     Forward     175      71   \n",
       "2          3        Marcos Alonso    Defender     188      85   \n",
       "3          4           Paul Pogba  Midfielder     191      84   \n",
       "4          5          David Silva  Midfielder     173      67   \n",
       "5          6       Jan Vertonghen    Defender     189      88   \n",
       "\n",
       "                 team  \n",
       "0             Arsenal  \n",
       "1           Liverpool  \n",
       "2             Chelsea  \n",
       "3   Manchester United  \n",
       "4     Manchester City  \n",
       "5  Tottenham Hotspurs  "
      ]
     },
     "execution_count": 8,
     "metadata": {},
     "output_type": "execute_result"
    }
   ],
   "source": [
    "df_player = execute_sql(\"SELECT * FROM player;\")\n",
    "df_player"
   ]
  },
  {
   "cell_type": "code",
   "execution_count": 9,
   "metadata": {},
   "outputs": [
    {
     "data": {
      "text/html": [
       "<div>\n",
       "<style scoped>\n",
       "    .dataframe tbody tr th:only-of-type {\n",
       "        vertical-align: middle;\n",
       "    }\n",
       "\n",
       "    .dataframe tbody tr th {\n",
       "        vertical-align: top;\n",
       "    }\n",
       "\n",
       "    .dataframe thead th {\n",
       "        text-align: right;\n",
       "    }\n",
       "</style>\n",
       "<table border=\"1\" class=\"dataframe\">\n",
       "  <thead>\n",
       "    <tr style=\"text-align: right;\">\n",
       "      <th></th>\n",
       "      <th>game_id</th>\n",
       "      <th>home_team</th>\n",
       "      <th>away_team</th>\n",
       "      <th>homescore</th>\n",
       "      <th>awayscore</th>\n",
       "    </tr>\n",
       "  </thead>\n",
       "  <tbody>\n",
       "    <tr>\n",
       "      <th>0</th>\n",
       "      <td>12</td>\n",
       "      <td>Arsenal</td>\n",
       "      <td>Liverpool</td>\n",
       "      <td>0</td>\n",
       "      <td>3</td>\n",
       "    </tr>\n",
       "    <tr>\n",
       "      <th>1</th>\n",
       "      <td>23</td>\n",
       "      <td>Liverpool</td>\n",
       "      <td>Chelsea</td>\n",
       "      <td>2</td>\n",
       "      <td>1</td>\n",
       "    </tr>\n",
       "    <tr>\n",
       "      <th>2</th>\n",
       "      <td>34</td>\n",
       "      <td>Chelsea</td>\n",
       "      <td>Manchester United</td>\n",
       "      <td>3</td>\n",
       "      <td>1</td>\n",
       "    </tr>\n",
       "    <tr>\n",
       "      <th>3</th>\n",
       "      <td>45</td>\n",
       "      <td>Manchester United</td>\n",
       "      <td>Manchester City</td>\n",
       "      <td>1</td>\n",
       "      <td>5</td>\n",
       "    </tr>\n",
       "    <tr>\n",
       "      <th>4</th>\n",
       "      <td>56</td>\n",
       "      <td>Manchester City</td>\n",
       "      <td>Tottenham Hotspurs</td>\n",
       "      <td>2</td>\n",
       "      <td>0</td>\n",
       "    </tr>\n",
       "    <tr>\n",
       "      <th>5</th>\n",
       "      <td>61</td>\n",
       "      <td>Tottenham Hotspurs</td>\n",
       "      <td>Arsenal</td>\n",
       "      <td>2</td>\n",
       "      <td>2</td>\n",
       "    </tr>\n",
       "  </tbody>\n",
       "</table>\n",
       "</div>"
      ],
      "text/plain": [
       "   game_id           home_team           away_team  homescore  awayscore\n",
       "0       12             Arsenal           Liverpool          0          3\n",
       "1       23           Liverpool             Chelsea          2          1\n",
       "2       34             Chelsea   Manchester United          3          1\n",
       "3       45   Manchester United     Manchester City          1          5\n",
       "4       56     Manchester City  Tottenham Hotspurs          2          0\n",
       "5       61  Tottenham Hotspurs             Arsenal          2          2"
      ]
     },
     "execution_count": 9,
     "metadata": {},
     "output_type": "execute_result"
    }
   ],
   "source": [
    "df_game = execute_sql(\"SELECT * FROM game;\")\n",
    "df_game"
   ]
  },
  {
   "cell_type": "code",
   "execution_count": 10,
   "metadata": {},
   "outputs": [
    {
     "data": {
      "text/html": [
       "<div>\n",
       "<style scoped>\n",
       "    .dataframe tbody tr th:only-of-type {\n",
       "        vertical-align: middle;\n",
       "    }\n",
       "\n",
       "    .dataframe tbody tr th {\n",
       "        vertical-align: top;\n",
       "    }\n",
       "\n",
       "    .dataframe thead th {\n",
       "        text-align: right;\n",
       "    }\n",
       "</style>\n",
       "<table border=\"1\" class=\"dataframe\">\n",
       "  <thead>\n",
       "    <tr style=\"text-align: right;\">\n",
       "      <th></th>\n",
       "      <th>player_id</th>\n",
       "      <th>game_id</th>\n",
       "      <th>goals</th>\n",
       "      <th>assists</th>\n",
       "      <th>passes</th>\n",
       "    </tr>\n",
       "  </thead>\n",
       "  <tbody>\n",
       "    <tr>\n",
       "      <th>0</th>\n",
       "      <td>2</td>\n",
       "      <td>12</td>\n",
       "      <td>2</td>\n",
       "      <td>0</td>\n",
       "      <td>80</td>\n",
       "    </tr>\n",
       "    <tr>\n",
       "      <th>1</th>\n",
       "      <td>2</td>\n",
       "      <td>23</td>\n",
       "      <td>1</td>\n",
       "      <td>1</td>\n",
       "      <td>70</td>\n",
       "    </tr>\n",
       "    <tr>\n",
       "      <th>2</th>\n",
       "      <td>3</td>\n",
       "      <td>34</td>\n",
       "      <td>0</td>\n",
       "      <td>1</td>\n",
       "      <td>67</td>\n",
       "    </tr>\n",
       "    <tr>\n",
       "      <th>3</th>\n",
       "      <td>4</td>\n",
       "      <td>45</td>\n",
       "      <td>2</td>\n",
       "      <td>2</td>\n",
       "      <td>71</td>\n",
       "    </tr>\n",
       "    <tr>\n",
       "      <th>4</th>\n",
       "      <td>5</td>\n",
       "      <td>56</td>\n",
       "      <td>1</td>\n",
       "      <td>0</td>\n",
       "      <td>59</td>\n",
       "    </tr>\n",
       "    <tr>\n",
       "      <th>5</th>\n",
       "      <td>1</td>\n",
       "      <td>61</td>\n",
       "      <td>1</td>\n",
       "      <td>1</td>\n",
       "      <td>62</td>\n",
       "    </tr>\n",
       "  </tbody>\n",
       "</table>\n",
       "</div>"
      ],
      "text/plain": [
       "   player_id  game_id  goals  assists  passes\n",
       "0          2       12      2        0      80\n",
       "1          2       23      1        1      70\n",
       "2          3       34      0        1      67\n",
       "3          4       45      2        2      71\n",
       "4          5       56      1        0      59\n",
       "5          1       61      1        1      62"
      ]
     },
     "execution_count": 10,
     "metadata": {},
     "output_type": "execute_result"
    }
   ],
   "source": [
    "df_game_stats = execute_sql(\"SELECT * FROM game_stats;\")\n",
    "df_game_stats"
   ]
  },
  {
   "cell_type": "markdown",
   "metadata": {},
   "source": [
    "Now, let's try a different type of SQL query. An **INSERT** to insert a new record in one of the tables. This query is also executed with the **execute()** function, however, it also requires a **commit()** function to commit the transaction to  the database.  "
   ]
  },
  {
   "cell_type": "code",
   "execution_count": 11,
   "metadata": {},
   "outputs": [],
   "source": [
    "# Execute insert query\n",
    "curr.execute(\"INSERT INTO player VALUES(7, 'Aaron Ramsey', 'Midfielder', 178, 76, 'Arsenal')\")\n",
    "conn.commit()\n",
    "# DO NOT RUN THIS CELL MORE THAN ONCE"
   ]
  },
  {
   "cell_type": "code",
   "execution_count": 12,
   "metadata": {},
   "outputs": [
    {
     "data": {
      "text/html": [
       "<div>\n",
       "<style scoped>\n",
       "    .dataframe tbody tr th:only-of-type {\n",
       "        vertical-align: middle;\n",
       "    }\n",
       "\n",
       "    .dataframe tbody tr th {\n",
       "        vertical-align: top;\n",
       "    }\n",
       "\n",
       "    .dataframe thead th {\n",
       "        text-align: right;\n",
       "    }\n",
       "</style>\n",
       "<table border=\"1\" class=\"dataframe\">\n",
       "  <thead>\n",
       "    <tr style=\"text-align: right;\">\n",
       "      <th></th>\n",
       "      <th>player_id</th>\n",
       "      <th>name</th>\n",
       "      <th>position</th>\n",
       "      <th>height</th>\n",
       "      <th>weight</th>\n",
       "      <th>team</th>\n",
       "    </tr>\n",
       "  </thead>\n",
       "  <tbody>\n",
       "    <tr>\n",
       "      <th>0</th>\n",
       "      <td>1</td>\n",
       "      <td>Alexandre Lacazette</td>\n",
       "      <td>Forward</td>\n",
       "      <td>175</td>\n",
       "      <td>73</td>\n",
       "      <td>Arsenal</td>\n",
       "    </tr>\n",
       "    <tr>\n",
       "      <th>1</th>\n",
       "      <td>2</td>\n",
       "      <td>Mohamed Salah</td>\n",
       "      <td>Forward</td>\n",
       "      <td>175</td>\n",
       "      <td>71</td>\n",
       "      <td>Liverpool</td>\n",
       "    </tr>\n",
       "    <tr>\n",
       "      <th>2</th>\n",
       "      <td>3</td>\n",
       "      <td>Marcos Alonso</td>\n",
       "      <td>Defender</td>\n",
       "      <td>188</td>\n",
       "      <td>85</td>\n",
       "      <td>Chelsea</td>\n",
       "    </tr>\n",
       "    <tr>\n",
       "      <th>3</th>\n",
       "      <td>4</td>\n",
       "      <td>Paul Pogba</td>\n",
       "      <td>Midfielder</td>\n",
       "      <td>191</td>\n",
       "      <td>84</td>\n",
       "      <td>Manchester United</td>\n",
       "    </tr>\n",
       "    <tr>\n",
       "      <th>4</th>\n",
       "      <td>5</td>\n",
       "      <td>David Silva</td>\n",
       "      <td>Midfielder</td>\n",
       "      <td>173</td>\n",
       "      <td>67</td>\n",
       "      <td>Manchester City</td>\n",
       "    </tr>\n",
       "    <tr>\n",
       "      <th>5</th>\n",
       "      <td>6</td>\n",
       "      <td>Jan Vertonghen</td>\n",
       "      <td>Defender</td>\n",
       "      <td>189</td>\n",
       "      <td>88</td>\n",
       "      <td>Tottenham Hotspurs</td>\n",
       "    </tr>\n",
       "    <tr>\n",
       "      <th>6</th>\n",
       "      <td>7</td>\n",
       "      <td>Aaron Ramsey</td>\n",
       "      <td>Midfielder</td>\n",
       "      <td>178</td>\n",
       "      <td>76</td>\n",
       "      <td>Arsenal</td>\n",
       "    </tr>\n",
       "  </tbody>\n",
       "</table>\n",
       "</div>"
      ],
      "text/plain": [
       "   player_id                 name    position  height  weight  \\\n",
       "0          1  Alexandre Lacazette     Forward     175      73   \n",
       "1          2        Mohamed Salah     Forward     175      71   \n",
       "2          3        Marcos Alonso    Defender     188      85   \n",
       "3          4           Paul Pogba  Midfielder     191      84   \n",
       "4          5          David Silva  Midfielder     173      67   \n",
       "5          6       Jan Vertonghen    Defender     189      88   \n",
       "6          7         Aaron Ramsey  Midfielder     178      76   \n",
       "\n",
       "                 team  \n",
       "0             Arsenal  \n",
       "1           Liverpool  \n",
       "2             Chelsea  \n",
       "3   Manchester United  \n",
       "4     Manchester City  \n",
       "5  Tottenham Hotspurs  \n",
       "6             Arsenal  "
      ]
     },
     "execution_count": 12,
     "metadata": {},
     "output_type": "execute_result"
    }
   ],
   "source": [
    "# Fetching all records from the table again\n",
    "df_player = execute_sql(\"SELECT * FROM player;\")\n",
    "df_player"
   ]
  },
  {
   "cell_type": "markdown",
   "metadata": {},
   "source": [
    "Similarly, we can also delete rows from a table by executing the **DELETE** SQL statement on the particular table. **Always remember to specify the condition which is unique to the row you want to delete (here, PRIMARY KEY is used most often to grab the unique identity of a record)**, otherwise, you might end up deleting more than one rows in the table. For example, \n",
    "\n",
    "**DELETE FROM player WHERE player_id = 6;**\n",
    "\n",
    "will only delete the record where the player_id is 6.\n",
    "\n",
    "And, finally, when we have to close the connection to the database, we call the **close()** function on the cursor as well as the connection."
   ]
  },
  {
   "cell_type": "code",
   "execution_count": 13,
   "metadata": {},
   "outputs": [],
   "source": [
    "# Close connection\n",
    "curr.close()\n",
    "conn.close()"
   ]
  },
  {
   "cell_type": "markdown",
   "metadata": {},
   "source": [
    "<br/>\n",
    "\n",
    "## Exercise 1 - Who Am I?\n",
    "\n",
    "Now that we know how to work with SQL using Python, let's apply what we have learned in the lectures, and flex our SQL muscles to come up with queries that can answer the following questions -  "
   ]
  },
  {
   "cell_type": "code",
   "execution_count": 14,
   "metadata": {},
   "outputs": [],
   "source": [
    "# Reconnecting to the database using psycopg2\n",
    "conn = psycopg2.connect(dbname=uid, host=\"/var/run/postgresql\")\n",
    "\n",
    "# Reactivating connection cursor\n",
    "curr = conn.cursor()"
   ]
  },
  {
   "cell_type": "markdown",
   "metadata": {},
   "source": [
    "### 1. List all the players who are taller than 175cm in height."
   ]
  },
  {
   "cell_type": "code",
   "execution_count": 4,
   "metadata": {},
   "outputs": [],
   "source": [
    "# YOUR ANSWER HERE\n"
   ]
  },
  {
   "cell_type": "markdown",
   "metadata": {},
   "source": [
    "### 2. List all teams (in alphabetical order) and game scores where they have won with a goal margin of 2 goals or more at home. "
   ]
  },
  {
   "cell_type": "code",
   "execution_count": 3,
   "metadata": {},
   "outputs": [],
   "source": [
    "# YOUR ANSWER HERE\n"
   ]
  },
  {
   "cell_type": "markdown",
   "metadata": {},
   "source": [
    "### 3. List the average height and average weight _(rounded to 2 digits after decimal)_ of the players corresponding to each playing position."
   ]
  },
  {
   "cell_type": "code",
   "execution_count": 2,
   "metadata": {},
   "outputs": [],
   "source": [
    "# YOUR ANSWER HERE\n"
   ]
  },
  {
   "cell_type": "markdown",
   "metadata": {},
   "source": [
    "### 4. List all the players, their position and their number of passes in any game where those players have scored at least one goal and one assist in a game."
   ]
  },
  {
   "cell_type": "code",
   "execution_count": 1,
   "metadata": {},
   "outputs": [],
   "source": [
    "# YOUR ANSWER HERE\n"
   ]
  },
  {
   "cell_type": "markdown",
   "metadata": {},
   "source": [
    "<br/>\n",
    "\n",
    "## Exercise 2 - Patty’s Playschool\n",
    "\n",
    "**Patty’s Playschool**, a child daycare centre, has offered your family free lifetime childcare if you design their database. Given the very high cost of child care, you agree. Here’s the information that was gathered:\n",
    "\n",
    "* **Parents** are identified by their government issued ID number, and have a name, address(es), and phone number(s).\n",
    "* **Children** have a name, and a date of birth.\n",
    "* Children are registered for the daycare by a parent. Their registration includes other associated information such as allergies, date of registration, (optionally) date of expiry, and the days of the week they are in daycare, and other associated details.\n",
    "* Each child has a **Category** in which they belong (e.g. infant, toddler). A category is identified by a name, a minimum age, and a maximum age. The category also specifies the maximum number of children that may be looked after at a time by a single staff member.\n",
    "* **Rooms** in the daycare are identified by a room number, and are designed to cater to a specific category of children.\n",
    "* **Staff Members** are identified by their staff ID, and have a name, date of birth, address(es), phone number(s).\n",
    "* Each staff member is allocated to exactly one room. The number of staff members allocated to a room is determined by the number of a children of that category, assigned to that room.\n",
    "\n",
    "For this exercise, your first task is to draw an **E-R Model** for the data described above. You can work in groups of 2-3 students, and model this database on paper (you'll be provided A3 sheets by the tutors) or use the lab machines to design the model on **draw.io**, **Umbrello**, or **Terra ER**. Please state all assumptions you make which are not stated in the problem. Make sure you specify participation constraints as much as possible. Consider what constraints aren't expressible in E-R modelling, and how they might be implemented in a SQL DDL (if possible, not all are!). Complicated constraints often require additional tools such as database triggers (https://www.postgresql.org/docs/11/plpgsql-trigger.html)\n",
    "\n",
    "There are many possible ways to model the information presented above. Compare and contrast different options with those who you are working with and those around you. Consider the effects of your model on any potential implementation of this database, and think about what your modelling decisions might imply for any user querying the database that results from your design.\n"
   ]
  },
  {
   "cell_type": "markdown",
   "metadata": {},
   "source": [
    "### Task 1 - Design an E-R Diagram to model the above problem\n",
    "* Feel free to save the resulting image produced by aforementioned tools in this notebook's directory and display it here, by using a HTML image tag:\n",
    "\n",
    "eg: <verbatim><img src\\='./my_er.png'\\></verbatim>\n",
    "\n",
    "\n"
   ]
  },
  {
   "cell_type": "markdown",
   "metadata": {},
   "source": [
    "**Good Job!**\n",
    "\n",
    "Now, let's extend this exercise further by making an SQL database from this E-R Diagram. Open a text editor to make an SQL script. In this script, make the DDL statements for your model. Include as much detail from the E-R Diagram as you can, and make sure you specify the constraints and cardinality of relationships."
   ]
  },
  {
   "cell_type": "code",
   "execution_count": null,
   "metadata": {},
   "outputs": [],
   "source": [
    "# Task 2 - Design the DDL structure of the database based on the \n",
    "# E-R Diagram that you designed in Task 1.  \n",
    "# YOUR ANSWER HERE\n",
    "\n",
    "\n"
   ]
  },
  {
   "cell_type": "markdown",
   "metadata": {},
   "source": [
    "**Well done!**\n",
    "\n",
    "Now, as a way to confirm the correctness of your work, follow the procedure you learnt earlier in this lab to load this SQL script into PSQL using the psycopg2 module, and INSERT one record into each of the tables in your database. "
   ]
  },
  {
   "cell_type": "code",
   "execution_count": 4,
   "metadata": {},
   "outputs": [],
   "source": [
    "# Task 3 - Load and run the SQL script that creates the daycare database.\n",
    "#        - Run SQL commands to insert atleast one record in each table.\n",
    "# YOUR ANSWER HERE\n",
    "\n",
    "\n"
   ]
  }
 ],
 "metadata": {
  "kernelspec": {
   "display_name": "Python 3",
   "language": "python",
   "name": "python3"
  },
  "language_info": {
   "codemirror_mode": {
    "name": "ipython",
    "version": 3
   },
   "file_extension": ".py",
   "mimetype": "text/x-python",
   "name": "python",
   "nbconvert_exporter": "python",
   "pygments_lexer": "ipython3",
   "version": "3.7.1"
  }
 },
 "nbformat": 4,
 "nbformat_minor": 2
}
