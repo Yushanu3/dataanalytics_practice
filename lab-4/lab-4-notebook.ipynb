{
 "cells": [
  {
   "cell_type": "markdown",
   "metadata": {},
   "source": [
    "<h1 align='center'> COMP2420/COMP6420 - Introduction to Data Management, Analysis and Security</h1>\n",
    "\n",
    "<h2 align='center'> Lab 04 - Statistical Methods and Hypothesis Testing</h2>\n",
    "\n",
    "*****\n",
    "\n",
    "In this lab, we'll go through some Statistical and Research methods taught in the lectures. Statistics is a major component of data analysis. It allows you to investigate data and make inferences based on your observations. A foundation in statistics also allows you to be a consumer of analyses that others perform, and allows you to relate to the conclusions others have drawn from their investigations.\n",
    "\n",
    "*****"
   ]
  },
  {
   "cell_type": "markdown",
   "metadata": {},
   "source": [
    "<h3 align='center'> Exercise 1 - Determining Optimal Chopstick Length</h3>\n",
    "\n",
    "_This exercise was extracted from this [1991 study](http://www.ncbi.nlm.nih.gov/pubmed/15676839) (Old? IKR! Not as old as Lab 1's Josephus Problem though!!)_.\n",
    "\n",
    "Chopsticks are one of the most simple and popular hand tools ever invented by humans, but have not previously been investigated by ergonomists. A research was conducted in 1991, to evaluate the effects of the length of the chopsticks on the food-serving performance of adults and children. Thirty-one male junior college students and 21 primary school pupils served as subjects for the experiment to test chopsticks lengths of 180, 210, 240, 270, 300, and 330 mm. The results showed that the food-pinching performance was significantly affected by the length of the chopsticks, and that chopsticks of about 240 and 180 mm long were optimal for adults and pupils, respectively. Based on these findings, the researchers suggested that families with children should provide both 240 and 180 mm long chopsticks. In addition, restaurants could provide 210 mm long chopsticks, considering the trade-offs between ergonomics and cost.\n",
    "\n",
    "For this exercise, we are only going to work with the chopstick dataset for adults, which has the data relating to the chopstick efficiency of 31 adult college students. So, let's see if we can replicate the results of the study and reach similar conclusions with our own analysis!"
   ]
  },
  {
   "cell_type": "code",
   "execution_count": 1,
   "metadata": {},
   "outputs": [],
   "source": [
    "import pandas as pd\n",
    "import matplotlib.pyplot as plt"
   ]
  },
  {
   "cell_type": "code",
   "execution_count": 2,
   "metadata": {},
   "outputs": [],
   "source": [
    "# Task 1 - Use this cell to import the given CSV into a dataframe and explore the data. \n",
    "\n",
    "\n"
   ]
  },
  {
   "cell_type": "markdown",
   "metadata": {},
   "source": [
    "So, here we can see two types of variables in the dataset. An **independent variable** and a **dependent variable**. \n",
    "\n",
    "* **Chopstick.Length** - Refers to the length of the chopstick used by the individual (in mm). It is an **independent variable**.\n",
    "\n",
    "* **Food.Pinching.Efficiency** - Is defined as the number of peanuts picked and placed in a cup (PPPC) with the said length of chopstick. It is therefore a **dependent variable** in this study.   \n",
    "\n",
    "<u><b>Task 2</b></u> - **Based on this experiment decription and other information provided above, can you point out any _two_ controlled variables in this experiment?** \n",
    "\n",
    "_(Controlled variables are values that remain the same throughout the course of an experiment, and is not of primary concern to the experiment outcome)_"
   ]
  },
  {
   "cell_type": "code",
   "execution_count": 3,
   "metadata": {},
   "outputs": [],
   "source": [
    "## YOUR ANSWER HERE\n",
    "\n",
    "\n"
   ]
  },
  {
   "cell_type": "code",
   "execution_count": 4,
   "metadata": {},
   "outputs": [],
   "source": [
    "# Task 3 - Clean the dataframe (OPTIONAL). \n",
    "# (i)  One of the columns here looks expendable. Remove that column\n",
    "# (ii) The independent variable should be the first column in a dataframe, followed by the independent variable(s).\n",
    "\n",
    "# YOUR ANSWER HERE\n",
    "\n"
   ]
  },
  {
   "cell_type": "code",
   "execution_count": 5,
   "metadata": {},
   "outputs": [],
   "source": [
    "# Task 4 - Group the observations by Chopstick Length and find out \n",
    "# the mean Pinching Efficiency for each chopstick length\n",
    "\n",
    "# YOUR ANSWER HERE\n",
    "\n"
   ]
  },
  {
   "cell_type": "code",
   "execution_count": 6,
   "metadata": {},
   "outputs": [],
   "source": [
    "# Task 5 - Plot a graph to visualise the relationship between Chopstick Length and Average Pinching Efficiency\n",
    "\n",
    "# YOUR ANSWER HERE\n",
    "\n",
    "\n"
   ]
  },
  {
   "cell_type": "markdown",
   "metadata": {},
   "source": [
    "Based on your graph above, what correlation can you see between **Chopstick Length** and **Food Pinching Efficiency**? "
   ]
  },
  {
   "cell_type": "code",
   "execution_count": 7,
   "metadata": {},
   "outputs": [],
   "source": [
    "# Task 6 - Correlation between Chopstick Length and Food Pinching Efficiency\n",
    "\n",
    "# YOUR ANSWER HERE\n",
    "\n",
    "\n"
   ]
  },
  {
   "cell_type": "markdown",
   "metadata": {},
   "source": [
    "### So, according to the above study which chopstick length performed the best for the group of thirty-one male junior college students? Do you agree with the claims of the given study?"
   ]
  },
  {
   "cell_type": "code",
   "execution_count": 8,
   "metadata": {},
   "outputs": [],
   "source": [
    "# Task 7 - Conclusion\n",
    "\n",
    "# YOUR ANSWER HERE\n",
    "\n",
    "\n"
   ]
  },
  {
   "cell_type": "markdown",
   "metadata": {},
   "source": [
    "<h3 align='center'> Exercise 2 - Stroop Test</h3>\n",
    "\n",
    "In a **Stroop Test**, a participant is presented with a list of words, with each word displayed in a color of ink. The participant’s task is to say out loud the color of the ink in which the word is printed. The task has two conditions: \n",
    "\n",
    "(a) A **congruent words condition**, where the words being displayed are color words whose names match the colors in which they are printed: for example <span style='color:red;'><b>RED</b></span>, <span style='color:blue;'><b>BLUE</b></span>. \n",
    "\n",
    "(b) An **incongruent words condition**, where the words displayed are color words whose names do not match the colors in which they are printed: for example <span style='color:orange;'><b>PURPLE</b></span>, <span style='color:lightgreen;'><b>ORANGE</b></span>. \n",
    "\n",
    "_You can perform the Stroop Test yourself and compare your results with this dataset. This will also help you form a basis of your initial hypothesis for this experiment. Go to this link to try the [Stroop Test](https://faculty.washington.edu/chudler/java/ready.html)_.\n",
    "\n",
    "In each case, we measure the time it takes to name the ink colors in equally-sized lists. Each participant will go through and record a time from each condition.\n",
    "\n",
    "For such a test, \n",
    "\n",
    "\n",
    "### 1. What is our independent variable? What is our dependent variable?"
   ]
  },
  {
   "cell_type": "code",
   "execution_count": 9,
   "metadata": {},
   "outputs": [],
   "source": [
    "# Task 1 - Independent & Dependent Variables\n",
    "# YOUR ANSWER HERE\n",
    "\n",
    "\n"
   ]
  },
  {
   "cell_type": "markdown",
   "metadata": {},
   "source": [
    "### 2. What is an appropriate set of hypotheses for this task? What kind of statistical test do you expect to perform? Justify your choices."
   ]
  },
  {
   "cell_type": "code",
   "execution_count": 10,
   "metadata": {},
   "outputs": [],
   "source": [
    "# Task 2 - Hypotheses and Statistical Tests\n",
    "# YOUR ANSWER HERE\n",
    "\n",
    "\n"
   ]
  },
  {
   "cell_type": "markdown",
   "metadata": {},
   "source": [
    "### 3. Explore the given dataset of results for 25 participants performing the Stroop Test in Congruent and Incongruent conditions. Run some descriptive statistics on the dataset, including a measure of central tendency and a measure of variability. "
   ]
  },
  {
   "cell_type": "code",
   "execution_count": 11,
   "metadata": {},
   "outputs": [],
   "source": [
    "# Task 3 - Descriptive Statistics\n",
    "# EXPLORE THE GIVEN DATASET\n",
    "# YOUR ANSWER HERE\n",
    "\n",
    "\n"
   ]
  },
  {
   "cell_type": "code",
   "execution_count": 12,
   "metadata": {},
   "outputs": [],
   "source": [
    "# MEASURE OF CENTRAL TENDENCY\n",
    "# YOUR ANSWER HERE\n",
    "\n",
    "\n"
   ]
  },
  {
   "cell_type": "code",
   "execution_count": 13,
   "metadata": {},
   "outputs": [],
   "source": [
    "# MEASURE OF VARIABILITY\n",
    "# YOUR ANSWER HERE\n",
    "\n",
    "\n"
   ]
  },
  {
   "cell_type": "markdown",
   "metadata": {},
   "source": [
    "### 4. Provide a visualization that shows the distribution of the data in this dataset and compares the readings of the Congruent and Incongruent Conditions"
   ]
  },
  {
   "cell_type": "code",
   "execution_count": 14,
   "metadata": {},
   "outputs": [],
   "source": [
    "# Task 4 - Visualization\n",
    "# YOUR ANSWER HERE\n",
    "\n",
    "\n"
   ]
  },
  {
   "cell_type": "markdown",
   "metadata": {},
   "source": [
    "### 5. Now, perform the statistical test and report your results. What is your confidence level and your critical statistic value? Do you reject the null hypothesis? What conclusion can you draw from the experiment task. "
   ]
  },
  {
   "cell_type": "code",
   "execution_count": 15,
   "metadata": {},
   "outputs": [],
   "source": [
    "# Task 5 - Statistical Tests\n",
    "# YOUR ANSWER HERE\n",
    "\n",
    "\n"
   ]
  }
 ],
 "metadata": {
  "kernelspec": {
   "display_name": "Python 3",
   "language": "python",
   "name": "python3"
  },
  "language_info": {
   "codemirror_mode": {
    "name": "ipython",
    "version": 3
   },
   "file_extension": ".py",
   "mimetype": "text/x-python",
   "name": "python",
   "nbconvert_exporter": "python",
   "pygments_lexer": "ipython3",
   "version": "3.7.0"
  }
 },
 "nbformat": 4,
 "nbformat_minor": 2
}
