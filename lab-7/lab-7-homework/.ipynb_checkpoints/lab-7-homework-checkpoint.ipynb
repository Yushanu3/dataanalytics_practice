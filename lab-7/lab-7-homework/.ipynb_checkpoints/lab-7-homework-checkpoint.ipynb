{
 "cells": [
  {
   "cell_type": "markdown",
   "metadata": {},
   "source": [
    "<h1 align='center'> COMP2420/COMP6420 - Introduction to Data Management, Analysis and Security</h1>\n",
    "\n",
    "<h2 align='center'> Homework Assessment 04</h2>\n",
    "\n",
    "*****\n",
    "\n",
    "Last **notebook** assessment ! We are close !\n",
    "The following 4 questions should test your understanding of the lecture and lab material taught during the lectures and the lab exercises in **Weeks 7 & 8**. In the **next lab (Lab 08)**, you'll be asked to complete any one of these exercises by your tutor in Exam Mode. Upon completion, you'll be marked by your tutor, based on the correctness and completeness of your solution."
   ]
  },
  {
   "cell_type": "code",
   "execution_count": 1,
   "metadata": {},
   "outputs": [],
   "source": [
    "# RUN THIS CELL TO IMPORT THE REQUIRED MODULES\n",
    "# ALL MODULES REQUIRED IN THIS LAB TEST SHOULD ALREADY BE IMPORTED\n",
    "import pandas as pd\n",
    "import numpy as np\n",
    "from sklearn.neighbors import KNeighborsClassifier\n",
    "from sklearn.model_selection import train_test_split,cross_val_score\n",
    "from sklearn.cluster import KMeans, MeanShift\n",
    "from sklearn.preprocessing import LabelEncoder\n",
    "from sklearn.tree import DecisionTreeClassifier\n",
    "import matplotlib.pyplot as plt\n",
    "\n",
    "\n",
    "from sklearn.neighbors import KNeighborsClassifier\n",
    "from sklearn.model_selection import train_test_split\n",
    "from sklearn.cluster import KMeans, MeanShift\n",
    "from sklearn.preprocessing import LabelEncoder\n",
    "from sklearn.tree import DecisionTreeClassifier\n",
    "import warnings\n",
    "warnings.filterwarnings(\"ignore\")\n",
    "\n",
    "import warnings\n",
    "warnings.filterwarnings(\"ignore\")"
   ]
  },
  {
   "cell_type": "code",
   "execution_count": 2,
   "metadata": {},
   "outputs": [
    {
     "data": {
      "text/html": [
       "<div>\n",
       "<style scoped>\n",
       "    .dataframe tbody tr th:only-of-type {\n",
       "        vertical-align: middle;\n",
       "    }\n",
       "\n",
       "    .dataframe tbody tr th {\n",
       "        vertical-align: top;\n",
       "    }\n",
       "\n",
       "    .dataframe thead th {\n",
       "        text-align: right;\n",
       "    }\n",
       "</style>\n",
       "<table border=\"1\" class=\"dataframe\">\n",
       "  <thead>\n",
       "    <tr style=\"text-align: right;\">\n",
       "      <th></th>\n",
       "      <th>Transaction_date</th>\n",
       "      <th>Product</th>\n",
       "      <th>Price</th>\n",
       "      <th>Payment_Type</th>\n",
       "      <th>Name</th>\n",
       "      <th>City</th>\n",
       "      <th>State</th>\n",
       "      <th>Country</th>\n",
       "      <th>Account_Created</th>\n",
       "      <th>Last_Login</th>\n",
       "      <th>Latitude</th>\n",
       "      <th>Longitude</th>\n",
       "    </tr>\n",
       "  </thead>\n",
       "  <tbody>\n",
       "    <tr>\n",
       "      <th>0</th>\n",
       "      <td>1/2/09 6:17</td>\n",
       "      <td>Product1</td>\n",
       "      <td>1200</td>\n",
       "      <td>Mastercard</td>\n",
       "      <td>carolina</td>\n",
       "      <td>Basildon</td>\n",
       "      <td>England</td>\n",
       "      <td>United Kingdom</td>\n",
       "      <td>1/2/09 6:00</td>\n",
       "      <td>1/2/09 6:08</td>\n",
       "      <td>51.500000</td>\n",
       "      <td>-1.116667</td>\n",
       "    </tr>\n",
       "    <tr>\n",
       "      <th>1</th>\n",
       "      <td>1/2/09 4:53</td>\n",
       "      <td>Product1</td>\n",
       "      <td>1200</td>\n",
       "      <td>Visa</td>\n",
       "      <td>Betina</td>\n",
       "      <td>Parkville</td>\n",
       "      <td>MO</td>\n",
       "      <td>United States</td>\n",
       "      <td>1/2/09 4:42</td>\n",
       "      <td>1/2/09 7:49</td>\n",
       "      <td>39.195000</td>\n",
       "      <td>-94.681940</td>\n",
       "    </tr>\n",
       "    <tr>\n",
       "      <th>2</th>\n",
       "      <td>1/2/09 13:08</td>\n",
       "      <td>Product1</td>\n",
       "      <td>1200</td>\n",
       "      <td>Mastercard</td>\n",
       "      <td>Federica e Andrea</td>\n",
       "      <td>Astoria</td>\n",
       "      <td>OR</td>\n",
       "      <td>United States</td>\n",
       "      <td>1/1/09 16:21</td>\n",
       "      <td>1/3/09 12:32</td>\n",
       "      <td>46.188060</td>\n",
       "      <td>-123.830000</td>\n",
       "    </tr>\n",
       "    <tr>\n",
       "      <th>3</th>\n",
       "      <td>1/3/09 14:44</td>\n",
       "      <td>Product1</td>\n",
       "      <td>1200</td>\n",
       "      <td>Visa</td>\n",
       "      <td>Gouya</td>\n",
       "      <td>Echuca</td>\n",
       "      <td>Victoria</td>\n",
       "      <td>Australia</td>\n",
       "      <td>9/25/05 21:13</td>\n",
       "      <td>1/3/09 14:22</td>\n",
       "      <td>-36.133333</td>\n",
       "      <td>144.750000</td>\n",
       "    </tr>\n",
       "    <tr>\n",
       "      <th>4</th>\n",
       "      <td>1/4/09 12:56</td>\n",
       "      <td>Product2</td>\n",
       "      <td>3600</td>\n",
       "      <td>Visa</td>\n",
       "      <td>Gerd W</td>\n",
       "      <td>Cahaba Heights</td>\n",
       "      <td>AL</td>\n",
       "      <td>United States</td>\n",
       "      <td>11/15/08 15:47</td>\n",
       "      <td>1/4/09 12:45</td>\n",
       "      <td>33.520560</td>\n",
       "      <td>-86.802500</td>\n",
       "    </tr>\n",
       "  </tbody>\n",
       "</table>\n",
       "</div>"
      ],
      "text/plain": [
       "  Transaction_date   Product  Price Payment_Type               Name  \\\n",
       "0      1/2/09 6:17  Product1   1200   Mastercard           carolina   \n",
       "1      1/2/09 4:53  Product1   1200         Visa             Betina   \n",
       "2     1/2/09 13:08  Product1   1200   Mastercard  Federica e Andrea   \n",
       "3     1/3/09 14:44  Product1   1200         Visa              Gouya   \n",
       "4     1/4/09 12:56  Product2   3600         Visa            Gerd W    \n",
       "\n",
       "                           City     State         Country Account_Created  \\\n",
       "0                      Basildon   England  United Kingdom     1/2/09 6:00   \n",
       "1  Parkville                           MO   United States     1/2/09 4:42   \n",
       "2  Astoria                             OR   United States    1/1/09 16:21   \n",
       "3                        Echuca  Victoria       Australia   9/25/05 21:13   \n",
       "4  Cahaba Heights                      AL   United States  11/15/08 15:47   \n",
       "\n",
       "     Last_Login   Latitude   Longitude  \n",
       "0   1/2/09 6:08  51.500000   -1.116667  \n",
       "1   1/2/09 7:49  39.195000  -94.681940  \n",
       "2  1/3/09 12:32  46.188060 -123.830000  \n",
       "3  1/3/09 14:22 -36.133333  144.750000  \n",
       "4  1/4/09 12:45  33.520560  -86.802500  "
      ]
     },
     "execution_count": 2,
     "metadata": {},
     "output_type": "execute_result"
    }
   ],
   "source": [
    "# Dataset 1\n",
    "sales_data = pd.read_csv('data/Sales.csv', index_col=0)\n",
    "sales_data.head()"
   ]
  },
  {
   "cell_type": "code",
   "execution_count": 3,
   "metadata": {},
   "outputs": [
    {
     "data": {
      "text/html": [
       "<div>\n",
       "<style scoped>\n",
       "    .dataframe tbody tr th:only-of-type {\n",
       "        vertical-align: middle;\n",
       "    }\n",
       "\n",
       "    .dataframe tbody tr th {\n",
       "        vertical-align: top;\n",
       "    }\n",
       "\n",
       "    .dataframe thead th {\n",
       "        text-align: right;\n",
       "    }\n",
       "</style>\n",
       "<table border=\"1\" class=\"dataframe\">\n",
       "  <thead>\n",
       "    <tr style=\"text-align: right;\">\n",
       "      <th></th>\n",
       "      <th>Name</th>\n",
       "      <th>Type 1</th>\n",
       "      <th>Type 2</th>\n",
       "      <th>Total</th>\n",
       "      <th>HP</th>\n",
       "      <th>Attack</th>\n",
       "      <th>Defense</th>\n",
       "      <th>Sp. Atk</th>\n",
       "      <th>Sp. Def</th>\n",
       "      <th>Speed</th>\n",
       "      <th>Generation</th>\n",
       "      <th>Legendary</th>\n",
       "    </tr>\n",
       "    <tr>\n",
       "      <th>#</th>\n",
       "      <th></th>\n",
       "      <th></th>\n",
       "      <th></th>\n",
       "      <th></th>\n",
       "      <th></th>\n",
       "      <th></th>\n",
       "      <th></th>\n",
       "      <th></th>\n",
       "      <th></th>\n",
       "      <th></th>\n",
       "      <th></th>\n",
       "      <th></th>\n",
       "    </tr>\n",
       "  </thead>\n",
       "  <tbody>\n",
       "    <tr>\n",
       "      <th>1</th>\n",
       "      <td>Bulbasaur</td>\n",
       "      <td>Grass</td>\n",
       "      <td>Poison</td>\n",
       "      <td>318</td>\n",
       "      <td>45</td>\n",
       "      <td>49</td>\n",
       "      <td>49</td>\n",
       "      <td>65</td>\n",
       "      <td>65</td>\n",
       "      <td>45</td>\n",
       "      <td>1</td>\n",
       "      <td>False</td>\n",
       "    </tr>\n",
       "    <tr>\n",
       "      <th>2</th>\n",
       "      <td>Ivysaur</td>\n",
       "      <td>Grass</td>\n",
       "      <td>Poison</td>\n",
       "      <td>405</td>\n",
       "      <td>60</td>\n",
       "      <td>62</td>\n",
       "      <td>63</td>\n",
       "      <td>80</td>\n",
       "      <td>80</td>\n",
       "      <td>60</td>\n",
       "      <td>1</td>\n",
       "      <td>False</td>\n",
       "    </tr>\n",
       "    <tr>\n",
       "      <th>3</th>\n",
       "      <td>Venusaur</td>\n",
       "      <td>Grass</td>\n",
       "      <td>Poison</td>\n",
       "      <td>525</td>\n",
       "      <td>80</td>\n",
       "      <td>82</td>\n",
       "      <td>83</td>\n",
       "      <td>100</td>\n",
       "      <td>100</td>\n",
       "      <td>80</td>\n",
       "      <td>1</td>\n",
       "      <td>False</td>\n",
       "    </tr>\n",
       "    <tr>\n",
       "      <th>3</th>\n",
       "      <td>VenusaurMega Venusaur</td>\n",
       "      <td>Grass</td>\n",
       "      <td>Poison</td>\n",
       "      <td>625</td>\n",
       "      <td>80</td>\n",
       "      <td>100</td>\n",
       "      <td>123</td>\n",
       "      <td>122</td>\n",
       "      <td>120</td>\n",
       "      <td>80</td>\n",
       "      <td>1</td>\n",
       "      <td>False</td>\n",
       "    </tr>\n",
       "    <tr>\n",
       "      <th>4</th>\n",
       "      <td>Charmander</td>\n",
       "      <td>Fire</td>\n",
       "      <td>NaN</td>\n",
       "      <td>309</td>\n",
       "      <td>39</td>\n",
       "      <td>52</td>\n",
       "      <td>43</td>\n",
       "      <td>60</td>\n",
       "      <td>50</td>\n",
       "      <td>65</td>\n",
       "      <td>1</td>\n",
       "      <td>False</td>\n",
       "    </tr>\n",
       "  </tbody>\n",
       "</table>\n",
       "</div>"
      ],
      "text/plain": [
       "                    Name Type 1  Type 2  Total  HP  Attack  Defense  Sp. Atk  \\\n",
       "#                                                                              \n",
       "1              Bulbasaur  Grass  Poison    318  45      49       49       65   \n",
       "2                Ivysaur  Grass  Poison    405  60      62       63       80   \n",
       "3               Venusaur  Grass  Poison    525  80      82       83      100   \n",
       "3  VenusaurMega Venusaur  Grass  Poison    625  80     100      123      122   \n",
       "4             Charmander   Fire     NaN    309  39      52       43       60   \n",
       "\n",
       "   Sp. Def  Speed  Generation  Legendary  \n",
       "#                                         \n",
       "1       65     45           1      False  \n",
       "2       80     60           1      False  \n",
       "3      100     80           1      False  \n",
       "3      120     80           1      False  \n",
       "4       50     65           1      False  "
      ]
     },
     "execution_count": 3,
     "metadata": {},
     "output_type": "execute_result"
    }
   ],
   "source": [
    "# Dataset 2\n",
    "pokemon = pd.read_csv('data/pokemon.csv', index_col=0)\n",
    "pokemon.head()"
   ]
  },
  {
   "cell_type": "markdown",
   "metadata": {},
   "source": [
    "### Dataset 1: Online Sales\n",
    "\n",
    "Talk about a lack of privacy. You have been supplied a dataset that has transaction data for online purchases. The dataset `Sales` has the following features:\n",
    "\n",
    "| **Feature**             | **Description**                     |\n",
    "| ----------------------- | ----------------------------------- |\n",
    "| Transaction_date        | Date of Transaction (DD/MM/YY H:Mi) |\n",
    "| Product                 | Name of Product Purchased           | \n",
    "| Price                   | Cost of the product purchased       |\n",
    "| Payment_Type            | Card Type used in the Transaction   |\n",
    "| Name                    | Entered Name of the User Account    |\n",
    "| City                    | City of User's residence            |\n",
    "| State                   | State of User's residence           |\n",
    "| Country                 | Country of User's residence         |\n",
    "| Account_Created         | Date of Acc. Creation (DD/MM/YY H:Mi)  |\n",
    "| Last_Login              | Date of Last Login (DD/MM/YY H:Mi)  |\n",
    "| Lattitude               | Lattitude of User's residence       |\n",
    "| Longitude               | Longitude of User's residence       |\n"
   ]
  },
  {
   "cell_type": "markdown",
   "metadata": {},
   "source": [
    "### Dataset 2: Priceless Pokemon\n",
    "\n",
    "Pokemon makes a return! As seen before, the pokemon dataset has the following features:\n",
    "\n",
    "| **Feature**             | **Description**                     |\n",
    "| ----------------------- | ----------------------------------- |\n",
    "| Name                    | Pokemon Name |\n",
    "| Type 1                  | Primary Type of Pokemon |\n",
    "| Type 2                   | Secondary Type of Pokemon       |\n",
    "| Total            | Numerical Value for Total of Pokemon stats   |\n",
    "| HP                    | Hit Points of the Pokemon                            |\n",
    "| Attack                    | Attack Points (Strength) of the Pokemon            |\n",
    "| Defense                   | Defense Points of the Pokemon          |\n",
    "| Sp. Atk                 | Special Attack of the Pokemon         |\n",
    "| Sp. Defense         | Special Defense of the Pokemon  |\n",
    "| Speed              | Speed of the Pokemon  |\n",
    "| Generation               | Generation the Pokemon was released in       |\n",
    "| Legendary               | Whether the Pokemon is a Legendary or not       |\n"
   ]
  },
  {
   "cell_type": "markdown",
   "metadata": {},
   "source": [
    "### Exercise 1: Lost Legendaries (Using Dataset #2)\n",
    "\n",
    "Its a tough decision to decide which pokemon are legendaries or not, we don't envy the creators. Perform the following tasks:\n",
    "- Split the data into _training_ and _testing_ sets, using **Generation 1,2 & 3** as the training data, and **Generation 4 & 5** as the testing data.\n",
    "- Implement a decision tree classifier (using sklearn or an equivalent packages) to predict whether a pokemon is a Legendary or not. Train the model on the 1-3 Generation Data and test the model's accuracy using the Generation 4-5 data. Use the 'entropy' criterion (see [doco](https://scikit-learn.org/stable/modules/generated/sklearn.tree.DecisionTreeClassifier.html#sklearn.tree.DecisionTreeClassifier))\n",
    "- Provide the `Accuracy Score` as an accuracy metric."
   ]
  },
  {
   "cell_type": "code",
   "execution_count": 4,
   "metadata": {},
   "outputs": [
    {
     "name": "stdout",
     "output_type": "stream",
     "text": [
      "The accuracy is 0.9300699300699301\n"
     ]
    }
   ],
   "source": [
    "# Part 1: Dataset Splitting\n",
    "le = LabelEncoder()\n",
    "pokemon['Legendary'] = le.fit_transform(pokemon['Legendary'])\n",
    "\n",
    "df_gene123 = pokemon.loc[(pokemon['Generation']==1)|(pokemon['Generation']==2)|(pokemon['Generation']==3)]\n",
    "df_gene45 = pokemon.loc[(pokemon['Generation']==4)|(pokemon['Generation']==5)]\n",
    "\n",
    "# Labels | Y values\n",
    "dty_train = df_gene123['Legendary']\n",
    "dty_test = df_gene45['Legendary']\n",
    "\n",
    "# Features | X values\n",
    "dtx_train = df_gene123.drop(['Name','Type 1','Type 2','Generation','Legendary'], axis=1)\n",
    "dtx_test = df_gene45.drop(['Name','Type 1','Type 2','Generation','Legendary'], axis=1)\n",
    "#dtx_train, dtx_test, dty_train, dty_test = train_test_split(dt_features, dty_labels, test_size=0.2)\n",
    "\n",
    "# Part 2: Decision Tree\n",
    "dt_classifier = DecisionTreeClassifier()\n",
    "#dt_classifier = DecisionTreeClassifier(criterion=\"entropy\", presort=True)\n",
    "dt_classifier.fit(dtx_train, dty_train)\n",
    "\n",
    "# Part 3: Metric\n",
    "dt_score = dt_classifier.score(dtx_test, dty_test)\n",
    "print(\"The accuracy is\", dt_score)"
   ]
  },
  {
   "cell_type": "markdown",
   "metadata": {},
   "source": [
    "***"
   ]
  },
  {
   "cell_type": "markdown",
   "metadata": {},
   "source": [
    "### Exercise 2: My Neighbour's Purchases (Using Dataset #1)\n",
    "\n",
    "Jane knows those around her are making purchases online and assumes based on other transaction data, it is possible to predict the Transaction_Type. Based on this, perform the following tasks:\n",
    "- Convert the *Payment_Type* & *Product* columns from textual data to numerical such that each *Payment_Type / Product* is represented by a numerical value (ie: \"Mastercard\":0, \"Visa\":1 etc)\n",
    "- Implement a KNN classification model to predict the **Payment_Type** of a transaction based on other features within the dataset with k=12. Provide the accuracy score of the model.\n",
    "- Is using 12 Neighbours ideal? How can we determine if it is ideal? Answer the question in the box provided."
   ]
  },
  {
   "cell_type": "code",
   "execution_count": 5,
   "metadata": {},
   "outputs": [
    {
     "name": "stdout",
     "output_type": "stream",
     "text": [
      "Accuracy: 0.48\n",
      "The ideal k value is 73 based on accuracy score 0.5245869770650535\n"
     ]
    }
   ],
   "source": [
    "from sklearn.model_selection import train_test_split,cross_val_score\n",
    "from sklearn import metrics\n",
    "from operator import itemgetter\n",
    "\n",
    "# Part 1: Convert the Payment_Type column to numerical representation\n",
    "le = LabelEncoder()\n",
    "sales_data[\"Payment_Type\"] = le.fit_transform(sales_data[\"Payment_Type\"])\n",
    "sales_data[\"Product\"] = le.fit_transform(sales_data[\"Product\"])\n",
    "\n",
    "# Labels | Y values\n",
    "y_labels = sales_data['Payment_Type']\n",
    "\n",
    "# Features | X values\n",
    "x_original = sales_data[['Latitude','Longitude','Price','Product']]\n",
    "\n",
    "\n",
    "# Part 2: Implement a KNN classification model & provide an accuracy score\n",
    "x_train, x_test, y_train, y_test = train_test_split(x_original, y_labels, test_size=0.2, random_state=3)\n",
    "\n",
    "knn = KNeighborsClassifier(n_neighbors=12)\n",
    "knn.fit(x_train, y_train)\n",
    "y_pred = knn.predict(x_test)\n",
    "print(\"Accuracy:\",metrics.accuracy_score(y_test, y_pred))\n",
    "\n",
    "#Part3: Is using 12 Neighbours ideal? How can we determine if it is ideal? \n",
    "features = sales_data[['Latitude','Longitude','Price','Product']]\n",
    "y_labels = sales_data['Payment_Type']\n",
    "\n",
    "results = []\n",
    "for k in range(1,100):\n",
    "    classifier = KNeighborsClassifier(n_neighbors=k)\n",
    "    score = cross_val_score(classifier, features, y_labels, cv=10)\n",
    "    results.append([k, np.mean(score)])\n",
    "\n",
    "sorted_scores = sorted(results, key=itemgetter(1), reverse=True)\n",
    "print('The ideal k value is', sorted_scores[0][0], \"based on accuracy score\", sorted_scores[0][1])"
   ]
  },
  {
   "cell_type": "raw",
   "metadata": {},
   "source": [
    "Part 3: How can we determine the ideal number of neighbours to use?\n",
    "\n",
    "#### Your answer here #####\n",
    "We can loop through number 1-100 into KNeighborsClassifier to find out the K value has the max accurray."
   ]
  },
  {
   "cell_type": "markdown",
   "metadata": {},
   "source": [
    "***"
   ]
  },
  {
   "cell_type": "markdown",
   "metadata": {},
   "source": [
    "### Exercise 3: A MeanShift away from the norm (Using Dataset #2)\n",
    "\n",
    "No more supervision! The adults have gone back to their table and its time to start working unsupervised, or at least your model will be. If you haven't noticed already, the `sklearn` module uses almost the same functionality for all their models, and this next exercise is a good example of that. Your tasks are as follows:\n",
    "- Implement the `sklearn` [**MeanShift** clustering algorithm](https://scikit-learn.org/stable/modules/generated/sklearn.cluster.MeanShift.html#sklearn.cluster.MeanShift) to cluster the pokemon data based on any of the statistical attributes of pokemon.\n",
    "- Visualise the resulting clusters\n",
    "- Briefly answer the following question in the final box supplied: What information could you infer from using the MeanShift clustering algorithm?"
   ]
  },
  {
   "cell_type": "code",
   "execution_count": 6,
   "metadata": {},
   "outputs": [
    {
     "name": "stdout",
     "output_type": "stream",
     "text": [
      "number of estimated clusters : 4\n"
     ]
    },
    {
     "data": {
      "image/png": "[encoded data removed]",
      "text/plain": [
       "<Figure size 432x288 with 1 Axes>"
      ]
     },
     "metadata": {},
     "output_type": "display_data"
    }
   ],
   "source": [
    "# Part 1: Implement the MeanShift algorithm (already imported in the first codebox)\n",
    "df = pokemon.copy()\n",
    "X = df[['Attack','Speed']]\n",
    "color = ['red','orange','blue','green','black']\n",
    "\n",
    "clustering = MeanShift(bandwidth=25).fit(X)\n",
    "predict =clustering.predict(X)\n",
    "labels = clustering.labels_\n",
    "X['cluster'] = labels\n",
    "labels_unique = np.unique(labels)\n",
    "n_clusters_ = len(labels_unique)\n",
    "cluster_centers = clustering.cluster_centers_\n",
    "print(\"number of estimated clusters : %d\" % n_clusters_)\n",
    "\n",
    "# Part 2: Visualise your results\n",
    "for i in range (0,len(X)):\n",
    "    data = X.iloc[i]\n",
    "    co =color[data['cluster']]\n",
    "    plt.scatter(data['Attack'],data['Speed'],c=co)\n",
    "    \n",
    "for i in range(0,len(cluster_centers)):\n",
    "    cluster_center = cluster_centers[i]\n",
    "    plt.plot(cluster_center[0], cluster_center[1], 'o', markerfacecolor=color[i], markeredgecolor='k', markersize=8)\n",
    "plt.title('Estimated number of clusters: %d' % n_clusters_)\n",
    "plt.show()"
   ]
  },
  {
   "cell_type": "raw",
   "metadata": {},
   "source": [
    "Part 3: What information could you infer from using the MeanShift clustering algorithm?\n",
    "\n",
    "#### Your answer here #####\n",
    "Through the mean shift algorithm, the overall information is coarsened, and the general information of each group of pokemon can be obtained by segmenting the data."
   ]
  },
  {
   "cell_type": "markdown",
   "metadata": {},
   "source": [
    "***"
   ]
  },
  {
   "cell_type": "markdown",
   "metadata": {},
   "source": [
    "### Exercise 4: Clusters of Buyers (Using Dataset #1)\n",
    "\n",
    "It appears many of the machine learning questions have been clustered into the last two labtests! In this section, you need to perform the following tasks:\n",
    "- Restrict the dataset only to purchases made where the Country is the United States.\n",
    "- Using a [LabelEncoder](https://scikit-learn.org/stable/modules/generated/sklearn.preprocessing.LabelEncoder.html), encode the states within USA\n",
    "- Implement a **k-means clustering** function using 3 clusters. (You may use `sklearn` or any other module in the conda distribution)\n",
    "- What is the average purchase price for each cluster?\n",
    "    \n",
    "`Note: You may use any number of features in clustering`"
   ]
  },
  {
   "cell_type": "code",
   "execution_count": 7,
   "metadata": {},
   "outputs": [
    {
     "name": "stdout",
     "output_type": "stream",
     "text": [
      "average price for cluster 0 is 1200.501253132832\n",
      "average price for cluster 1 is 3600.0\n",
      "average price for cluster 2 is 7500.0\n"
     ]
    },
    {
     "data": {
      "image/png": "[encoded data removed]",
      "text/plain": [
       "<Figure size 432x288 with 1 Axes>"
      ]
     },
     "metadata": {},
     "output_type": "display_data"
    }
   ],
   "source": [
    "# Part 1: US-Only\n",
    "df_us = sales_data.loc[(sales_data['Country']=='United States')]\n",
    "\n",
    "# Part 2: Encoding\n",
    "le = LabelEncoder()\n",
    "df_us['State'] = le.fit_transform(df_us['State'])\n",
    "df_us['Product'] = le.fit_transform(df_us['Product'])\n",
    "\n",
    "# Part 3: Clustering\n",
    "km = KMeans(n_clusters=3, max_iter=5, random_state=0)\n",
    "X = df_us[['Price','State']]\n",
    "y_pred = km.fit_predict(X.values)\n",
    "predict = km.predict(X)\n",
    "\n",
    "X['cluster'] = predict #cluster no.\n",
    "keys = X['cluster'].unique()\n",
    "\n",
    "result = dict.fromkeys(keys,0)\n",
    "number = dict.fromkeys(keys,0)\n",
    "for i in range (0,len(X)):\n",
    "    data = X.iloc[i]\n",
    "    last_price = result[data['cluster']]\n",
    "    last_number = number[data['cluster']]\n",
    "    result[data['cluster']]=last_price + data['Price'] \n",
    "    number[data['cluster']]=last_number + 1\n",
    "    \n",
    "for i in range(0,len(keys)):\n",
    "    print(\"average price for cluster\", i,\"is\",result[i]/number[i])\n",
    "\n",
    "for i in range (0,len(X)):\n",
    "    data = X.iloc[i]\n",
    "    co =color[data['cluster']]\n",
    "    plt.scatter(data['Price'],data['State'],c=co)\n",
    "plt.show()  "
   ]
  },
  {
   "cell_type": "code",
   "execution_count": 8,
   "metadata": {},
   "outputs": [
    {
     "data": {
      "image/png": "[encoded data removed]",
      "text/plain": [
       "<Figure size 432x288 with 1 Axes>"
      ]
     },
     "metadata": {},
     "output_type": "display_data"
    }
   ],
   "source": [
    "# Part 1: US-Only\n",
    "df_us = sales_data.loc[(sales_data['Country']=='United States')]\n",
    "\n",
    "# Part 2: Encoding\n",
    "le = LabelEncoder()\n",
    "df_us['State'] = le.fit_transform(df_us['State'])\n",
    "df_us['Product'] = le.fit_transform(df_us['Product'])\n",
    "\n",
    "X = df_us[['Price','State']]\n",
    "# Findering Cluster number\n",
    "Sum_of_squared_distances = []\n",
    "K = range(1,15)\n",
    "for k in K:\n",
    "    km = KMeans(n_clusters=k)\n",
    "    km = km.fit(X)\n",
    "    Sum_of_squared_distances.append(km.inertia_)\n",
    "    \n",
    "plt.plot(K, Sum_of_squared_distances, 'bx-')\n",
    "plt.xlabel('k')\n",
    "plt.ylabel('Sum_of_squared_distances')\n",
    "plt.title('Elbow Method For Optimal k')\n",
    "plt.show()"
   ]
  }
 ],
 "metadata": {
  "kernelspec": {
   "display_name": "Python 3",
   "language": "python",
   "name": "python3"
  },
  "language_info": {
   "codemirror_mode": {
    "name": "ipython",
    "version": 3
   },
   "file_extension": ".py",
   "mimetype": "text/x-python",
   "name": "python",
   "nbconvert_exporter": "python",
   "pygments_lexer": "ipython3",
   "version": "3.6.8"
  }
 },
 "nbformat": 4,
 "nbformat_minor": 2
}
