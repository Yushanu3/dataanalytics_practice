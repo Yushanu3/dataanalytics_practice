{
 "cells": [
  {
   "cell_type": "markdown",
   "metadata": {},
   "source": [
    "<h1 align='center'> COMP2420/COMP6420 - Introduction to Data Management, Analysis and Security</h1>\n",
    "\n",
    "<h2 align='center'> Lab 07 - Machine Learning - III</h2>\n",
    "\n",
    "*****\n",
    "\n",
    "In this lab, we will have a look at **Unsupervised Machine Learning** and then working on a particular algorithm of Unsupervised Learning called **K-Means Clustering**.  \n",
    "\n",
    "<br/>\n",
    "\n",
    "### Unsupervised Learning \n",
    "**Unsupervised Learning** is a class of Machine Learning techniques that find patterns in data. The data given to an unsupervised algorithm are **unlabelled**, which means only the input variables (x) are given with no corresponding output variables. So, an unsupervised learning algorithm is meant to derive strucutre from data without any previous knowledge of what the variables are. In unsupervised learning, the algorithms are left to themselves to discover interesting structures in the data.\n",
    "\n",
    "<br/>\n",
    "\n",
    "### Supervised vs. Unsupervised Learning\n",
    "In **Supervised Learning**, the constructed model tries to learn from the examples of inputs and outputs that are already provided to it to train it. On the other hand, in **Unsupervised Learning**, the model attempts to find the patterns directly from the given data. So, if the dataset is labelled it comes under a supervised problem, and if the dataset is unlabelled then it is an unsupervised problem.\n",
    "\n",
    "<img src=\"./images/sup_vs_unsup.png\" /> \n",
    "Source: [CambridgeSparks - Overview of Data Science](http://beta.cambridgespark.com/courses/jpm/01-module.html)"
   ]
  },
  {
   "cell_type": "markdown",
   "metadata": {},
   "source": [
    "<br/>\n",
    "\n",
    "## K-Means Clustering\n",
    "\n",
    "**K-Means Clustering** is a type of **unsupervised** machine learning algorithm, in which we can cluster the data points based on their proximity to a centroid point. Thus, the given data set is divided into _k_ number of clusters. It does this using the following steps - \n",
    "\n",
    "1. The number of clusters **(k)** are picked, and each cluster is represented by its centroid point.\n",
    "\n",
    "2. Each data point becomes part of a cluster based on its proximity to the nearest centroids, thereby forming **k clusters**.\n",
    "\n",
    "3. Based on these clusters, the centroid of each cluster is **re-calculated to get new centroids**.\n",
    "\n",
    "4. **Steps 2 and 3 are repeated** to find the closest distance for each data point from new centroids and get associated with its closest clusters until **convergence** occurs (no change in centroids).\n",
    "\n",
    "<img src='./images/kmeans.png' height='40px'><br/>\n",
    "<span style='align:right;'><b>Source:</b> [Maciej Pacula >> k-means Clustering](http://blog.mpacula.com/2011/04/27/k-means-clustering-example-python/)</span>\n",
    "\n",
    "<br/>\n",
    "\n",
    "## Exercise 1: Shoppers' Flock\n",
    "\n",
    "Using clustering in business problems, we can cluster our data to find out groups of them by age, salary, gender or any other feature that you have in your dataset. By doing this we can find the best strategy to succeed in a market. Let's do a clustering of the shoppers visiting a shopping mall, to find out what we can find out about these shoppers."
   ]
  },
  {
   "cell_type": "code",
   "execution_count": 71,
   "metadata": {},
   "outputs": [],
   "source": [
    "import numpy as np\n",
    "import pandas as pd \n",
    "import matplotlib.pyplot as plt\n",
    "%matplotlib inline\n",
    "\n",
    "from sklearn.preprocessing import LabelEncoder\n",
    "from sklearn.decomposition import PCA\n",
    "from sklearn.cluster import KMeans"
   ]
  },
  {
   "cell_type": "code",
   "execution_count": 72,
   "metadata": {},
   "outputs": [
    {
     "data": {
      "text/html": [
       "<div>\n",
       "<style scoped>\n",
       "    .dataframe tbody tr th:only-of-type {\n",
       "        vertical-align: middle;\n",
       "    }\n",
       "\n",
       "    .dataframe tbody tr th {\n",
       "        vertical-align: top;\n",
       "    }\n",
       "\n",
       "    .dataframe thead th {\n",
       "        text-align: right;\n",
       "    }\n",
       "</style>\n",
       "<table border=\"1\" class=\"dataframe\">\n",
       "  <thead>\n",
       "    <tr style=\"text-align: right;\">\n",
       "      <th></th>\n",
       "      <th>CustomerID</th>\n",
       "      <th>Gender</th>\n",
       "      <th>Age</th>\n",
       "      <th>Annual Income (k$)</th>\n",
       "      <th>Spending Score (1-100)</th>\n",
       "    </tr>\n",
       "  </thead>\n",
       "  <tbody>\n",
       "    <tr>\n",
       "      <th>0</th>\n",
       "      <td>1</td>\n",
       "      <td>Male</td>\n",
       "      <td>19</td>\n",
       "      <td>15</td>\n",
       "      <td>39</td>\n",
       "    </tr>\n",
       "    <tr>\n",
       "      <th>1</th>\n",
       "      <td>2</td>\n",
       "      <td>Male</td>\n",
       "      <td>21</td>\n",
       "      <td>15</td>\n",
       "      <td>81</td>\n",
       "    </tr>\n",
       "    <tr>\n",
       "      <th>2</th>\n",
       "      <td>3</td>\n",
       "      <td>Female</td>\n",
       "      <td>20</td>\n",
       "      <td>16</td>\n",
       "      <td>6</td>\n",
       "    </tr>\n",
       "    <tr>\n",
       "      <th>3</th>\n",
       "      <td>4</td>\n",
       "      <td>Female</td>\n",
       "      <td>23</td>\n",
       "      <td>16</td>\n",
       "      <td>77</td>\n",
       "    </tr>\n",
       "    <tr>\n",
       "      <th>4</th>\n",
       "      <td>5</td>\n",
       "      <td>Female</td>\n",
       "      <td>31</td>\n",
       "      <td>17</td>\n",
       "      <td>40</td>\n",
       "    </tr>\n",
       "  </tbody>\n",
       "</table>\n",
       "</div>"
      ],
      "text/plain": [
       "   CustomerID  Gender  Age  Annual Income (k$)  Spending Score (1-100)\n",
       "0           1    Male   19                  15                      39\n",
       "1           2    Male   21                  15                      81\n",
       "2           3  Female   20                  16                       6\n",
       "3           4  Female   23                  16                      77\n",
       "4           5  Female   31                  17                      40"
      ]
     },
     "execution_count": 72,
     "metadata": {},
     "output_type": "execute_result"
    }
   ],
   "source": [
    "df_customers = pd.read_csv(\"data/customers.csv\")\n",
    "df_customers.head()"
   ]
  },
  {
   "cell_type": "markdown",
   "metadata": {},
   "source": [
    "In this data, we have no use for the **CustomerID** column, as we don't need to uniquely identify any of the customers. Also, we need to encode **Gender** to a numeric figure, so that it's easier to cluster.\n",
    "\n",
    "1. Remove the column **CustomerID** from the dataframe, and encode the column **Gender** to a series of **0 (for Female)** and **1 (for Male)**."
   ]
  },
  {
   "cell_type": "code",
   "execution_count": 73,
   "metadata": {},
   "outputs": [
    {
     "name": "stdout",
     "output_type": "stream",
     "text": [
      "   Gender  Age  Annual Income (k$)  Spending Score (1-100)\n",
      "0       1   19                  15                      39\n",
      "1       1   21                  15                      81\n",
      "2       0   20                  16                       6\n",
      "3       0   23                  16                      77\n",
      "4       0   31                  17                      40\n"
     ]
    }
   ],
   "source": [
    "# YOUR ANSWER HERE\n",
    "\n",
    "df_customers_new = df_customers.drop(columns=\"CustomerID\")\n",
    "\n",
    "# Create a label (category) encoder object\n",
    "le = LabelEncoder()\n",
    "le.fit([\"Male\", \"Female\"])\n",
    "df_customers_new['Gender'] = le.fit_transform(df_customers_new['Gender'])\n",
    "print(df_customers_new.head())\n",
    "\n",
    "#df_customers['Gender'] = df_customers['Gender'].map({'Female': 1, 'Male': 0})\n"
   ]
  },
  {
   "cell_type": "markdown",
   "metadata": {},
   "source": [
    "2. Use Scikit-Learn's **K-Means Clustering** to cluster this data into **5 clusters**. Plot a **scatterplot** to visualize and verify your 5 clusters."
   ]
  },
  {
   "cell_type": "code",
   "execution_count": 74,
   "metadata": {},
   "outputs": [
    {
     "data": {
      "image/png": "[encoded data removed]",
      "text/plain": [
       "<Figure size 432x720 with 1 Axes>"
      ]
     },
     "metadata": {},
     "output_type": "display_data"
    }
   ],
   "source": [
    "# YOUR ANSWER HERE\n",
    "from sklearn.datasets.samples_generator import make_blobs\n",
    "\n",
    "X = df_customers_new[['Age','Annual Income (k$)']].values   #select two features only?\n",
    "\n",
    "y_pred = KMeans(n_clusters=5, random_state=0).fit_predict(X)\n",
    "\n",
    "plt.figure(figsize=(6, 10))\n",
    "color = (\"r\", \"g\",\"black\", \"b\", \"y\")\n",
    "colors=np.array(color)[y_pred]\n",
    "plt.scatter(X[:, 0], X[:, 1], c=colors)\n",
    "plt.show()"
   ]
  },
  {
   "cell_type": "markdown",
   "metadata": {},
   "source": [
    "Now comes the fun part! \n",
    "\n",
    "3. Convert each of these clusters into a dataframe, and analyse each of these clusters. Discuss your findings from these statistics.\n",
    "\n",
    "<span style='color:blue;'>**HINT** - Your analysis can include studying the mean age, average annual income & deviation in income, size of each cluster and male-female ratio of each cluster.</span>  "
   ]
  },
  {
   "cell_type": "code",
   "execution_count": 75,
   "metadata": {},
   "outputs": [
    {
     "name": "stdout",
     "output_type": "stream",
     "text": [
      "     Gender  Age  Annual Income (k$)  Spending Score (1-100) Cluster\n",
      "112       0   38                  64                      42       r\n",
      "120       1   27                  67                      56       r\n",
      "121       0   38                  67                      40       r\n",
      "122       0   40                  69                      58       r\n",
      "123       1   39                  69                      91       r\n",
      "   Gender  Age  Annual Income (k$)  Spending Score (1-100) Cluster\n",
      "0       1   19                  15                      39       g\n",
      "1       1   21                  15                      81       g\n",
      "2       0   20                  16                       6       g\n",
      "3       0   23                  16                      77       g\n",
      "4       0   31                  17                      40       g\n",
      "     Gender  Age  Annual Income (k$)  Spending Score (1-100) Cluster\n",
      "180       0   37                  97                      32   black\n",
      "181       0   32                  97                      86   black\n",
      "182       1   46                  98                      15   black\n",
      "183       0   29                  98                      88   black\n",
      "184       0   41                  99                      39   black\n",
      "    Gender  Age  Annual Income (k$)  Spending Score (1-100) Cluster\n",
      "30       1   60                  30                       4       b\n",
      "32       1   53                  33                       4       b\n",
      "40       0   65                  38                      35       b\n",
      "42       1   48                  39                      36       b\n",
      "44       0   49                  39                      28       b\n",
      "    Gender  Age  Annual Income (k$)  Spending Score (1-100) Cluster\n",
      "39       0   20                  37                      75       y\n",
      "41       1   24                  38                      92       y\n",
      "43       0   31                  39                      61       y\n",
      "45       0   24                  39                      65       y\n",
      "47       0   27                  40                      47       y\n"
     ]
    }
   ],
   "source": [
    "# YOUR ANSWER HERE\n",
    "# Insert a separate column for Cluster Number\n",
    "\n",
    "df_customers_new.insert(4, \"Cluster\", colors) \n",
    "#print(df_customers_new)\n",
    "\n",
    "# Separate into different dataframes based on Cluster Number \n",
    "df_customers_r = df_customers_new.loc[(df_customers_new['Cluster']=='r')]\n",
    "df_customers_g = df_customers_new.loc[(df_customers_new['Cluster']=='g')]\n",
    "df_customers_black = df_customers_new.loc[(df_customers_new['Cluster']=='black')]\n",
    "df_customers_b = df_customers_new.loc[(df_customers_new['Cluster']=='b')]\n",
    "df_customers_y = df_customers_new.loc[(df_customers_new['Cluster']=='y')]\n",
    "\n",
    "# Show the top five rows\n",
    "print(df_customers_r.head(5))\n",
    "print(df_customers_g.head(5))\n",
    "print(df_customers_black.head(5))\n",
    "print(df_customers_b.head(5))\n",
    "print(df_customers_y.head(5))\n"
   ]
  },
  {
   "cell_type": "code",
   "execution_count": 76,
   "metadata": {},
   "outputs": [
    {
     "name": "stdout",
     "output_type": "stream",
     "text": [
      "36.6\n",
      "36.03333333333333\n",
      "56.08163265306123\n",
      "25.735294117647058\n",
      "33.86486486486486\n",
      "--------------------\n",
      "109.7\n",
      "78.05\n",
      "52.55102040816327\n",
      "52.411764705882355\n",
      "23.72972972972973\n",
      "--------------------\n",
      "100\n",
      "300\n",
      "245\n",
      "170\n",
      "185\n"
     ]
    }
   ],
   "source": [
    "# YOUR ANSWER HERE\n",
    "# Group and analyse the statistics from each cluster\n",
    "# mean age, average annual income & deviation in income, size of each cluster and male-female ratio of each cluster.\n",
    "mean_age_red = df_customers_r[\"Age\"].mean()\n",
    "mean_age_green = df_customers_g[\"Age\"].mean()\n",
    "mean_age_black = df_customers_black[\"Age\"].mean()\n",
    "mean_age_blue= df_customers_b[\"Age\"].mean()\n",
    "mean_age_yellow = df_customers_y[\"Age\"].mean()\n",
    "print(mean_age_black)\n",
    "print(mean_age_red)\n",
    "print(mean_age_blue)\n",
    "print(mean_age_yellow)\n",
    "print(mean_age_green)\n",
    "print(\"--------------------\")\n",
    "mean_income_red = df_customers_r[\"Annual Income (k$)\"].mean()\n",
    "mean_income_green = df_customers_g[\"Annual Income (k$)\"].mean()\n",
    "mean_income_black = df_customers_black[\"Annual Income (k$)\"].mean()\n",
    "mean_income_blue= df_customers_b[\"Annual Income (k$)\"].mean()\n",
    "mean_income_yellow = df_customers_y[\"Annual Income (k$)\"].mean()\n",
    "print(mean_income_black)\n",
    "print(mean_income_red)\n",
    "print(mean_income_blue)\n",
    "print(mean_income_yellow)\n",
    "print(mean_income_green)\n",
    "print(\"--------------------\")\n",
    "print(df_customers_black.size)\n",
    "print(df_customers_r.size)\n",
    "print(df_customers_b.size)\n",
    "print(df_customers_y.size)\n",
    "print(df_customers_g.size)"
   ]
  },
  {
   "cell_type": "code",
   "execution_count": 77,
   "metadata": {},
   "outputs": [
    {
     "ename": "SyntaxError",
     "evalue": "invalid syntax (<ipython-input-77-db8ebacb44a4>, line 2)",
     "output_type": "error",
     "traceback": [
      "\u001b[0;36m  File \u001b[0;32m\"<ipython-input-77-db8ebacb44a4>\"\u001b[0;36m, line \u001b[0;32m2\u001b[0m\n\u001b[0;31m    data clustered by income, from high to low top-bottom. No correlation to age.\u001b[0m\n\u001b[0m                 ^\u001b[0m\n\u001b[0;31mSyntaxError\u001b[0m\u001b[0;31m:\u001b[0m invalid syntax\n"
     ]
    }
   ],
   "source": [
    "# DISCUSS YOUR FINDINGS\n",
    "data clustered by income, from high to low top-bottom. No correlation to age.\n"
   ]
  },
  {
   "cell_type": "markdown",
   "metadata": {},
   "source": [
    "## Exercise 2: Meticulous Metrics\n",
    "\n",
    "While over the last 3 machine learning labs we have created and implemented models in regression and classification scenarios, we have yet to dive into the types of metrics that can be used to show the performance of your model/s.\n",
    "\n",
    "***\n",
    "**Extension:** While this question is designed to introduce and/or refresh your memory about metrics, if you are familar and are looking for extra work, try to implement the scoring functions manually. This can be important going further in machine learning as it is necessary for custom metrics in use of packages such as Keras or Tensorflow.\n",
    "***"
   ]
  },
  {
   "cell_type": "code",
   "execution_count": null,
   "metadata": {},
   "outputs": [],
   "source": [
    "import sklearn.metrics as skm"
   ]
  },
  {
   "cell_type": "markdown",
   "metadata": {},
   "source": [
    "### 2.1: Regression Metrics\n",
    "\n",
    "First stop on the trip back memory lane, we will begin with Regression Metrics. To have usable data to perform metric analysis on perform the following tasks:\n",
    "- Split your dataset into testing and training data: your training dataset should be 65% of the original dataset. (HINT: This can be set in the train_test_split function)\n",
    "- Implement a Linear Regression model using **Spending Score** as the output. Use any features other than **Spending Score**. Fit the model on your training data.\n",
    "- Predict the outputs of the testing set and have this data ready to go for the metrics analysis."
   ]
  },
  {
   "cell_type": "code",
   "execution_count": 78,
   "metadata": {},
   "outputs": [
    {
     "name": "stdout",
     "output_type": "stream",
     "text": [
      "   Gender  Age  Annual Income (k$)  Spending Score (1-100) Cluster\n",
      "0       1   19                  15                      39       g\n",
      "1       1   21                  15                      81       g\n",
      "2       0   20                  16                       6       g\n",
      "3       0   23                  16                      77       g\n",
      "4       0   31                  17                      40       g\n"
     ]
    },
    {
     "data": {
      "image/png": "[encoded data removed]",
      "text/plain": [
       "<Figure size 432x288 with 1 Axes>"
      ]
     },
     "metadata": {},
     "output_type": "display_data"
    }
   ],
   "source": [
    "# YOUR ANSWER HERE\n",
    "from sklearn.model_selection import train_test_split\n",
    "from sklearn.linear_model import LinearRegression\n",
    "\n",
    "# Features | X values\n",
    "X = df_customers_new.drop(['Cluster','Spending Score (1-100)'], axis=1)\n",
    "\n",
    "# Labels | Y values\n",
    "y = df_customers_new[['Spending Score (1-100)']]\n",
    "X_train, X_test, y_train, y_test = train_test_split(X, y, test_size=0.35, random_state=3)#train65%, test35%\n",
    "lm = LinearRegression()\n",
    "lm.fit(X_train,y_train)\n",
    "y_pred = lm.predict(X_test)\n",
    "plt.scatter(y_test,y_pred)\n",
    "print(df_customers_new.head(5))"
   ]
  },
  {
   "cell_type": "markdown",
   "metadata": {},
   "source": [
    "Now that you have predicted and actual outputs, it is comparison time ! Implement the following functions:\n",
    "\n",
    "#### __R^2 (The refresher)__\n",
    "Using sklearn, implement the R^2 scoring functions using the inbuilt Linear Regression model function and the metrics module"
   ]
  },
  {
   "cell_type": "code",
   "execution_count": null,
   "metadata": {},
   "outputs": [],
   "source": [
    "# YOUR ANSWER HERE\n",
    "from sklearn.metrics import r2_score\n",
    "Accuracy = r2_score(y_test, y_pred) \n",
    "print(Accuracy)"
   ]
  },
  {
   "cell_type": "markdown",
   "metadata": {},
   "source": [
    "#### __MAE (Mean Absolute Error)__\n",
    "MAE is the mean measure of difference between two continuous variables. This can help determine the error between the predicted and actual outputs for predicted sets. Implement MAE using the sklearn metrics module and provide the score for the predictions above."
   ]
  },
  {
   "cell_type": "code",
   "execution_count": null,
   "metadata": {},
   "outputs": [],
   "source": [
    "# YOUR ANSWER HERE\n",
    "from sklearn.metrics import mean_absolute_error\n",
    "mean_absolute_error(y_test, y_pred)"
   ]
  },
  {
   "cell_type": "markdown",
   "metadata": {},
   "source": [
    "#### __MSE (Mean Squared Error)__\n",
    "MSE is an alturnative to MAE and provides the average square of the error range between actual and predicted values. Implement and provide the MSE scores for you predictions above."
   ]
  },
  {
   "cell_type": "code",
   "execution_count": null,
   "metadata": {},
   "outputs": [],
   "source": [
    "# YOUR ANSWER HERE\n",
    "from sklearn.metrics import mean_squared_error\n",
    "mean_squared_error(y_test, y_pred)"
   ]
  },
  {
   "cell_type": "markdown",
   "metadata": {},
   "source": [
    "### 2.2: Classification Metrics\n",
    "\n",
    "Next stop! We want to look at defining metrics for our classification models now so that we can argue how good (or bad) our model is. To have usable data to perform metric analysis on perform the following tasks:\n",
    "- Convert your **Spending Score** into a binary output by the following rules: `score < 50 = 0, otherwise = 1.`\n",
    "- Split your dataset into testing and training data: your training dataset should be 72% of the original dataset. (HINT: This can be set in the train_test_split function)\n",
    "- Implement a Classification model using your binary **Spending Score** as the output. Use any features other than **Spending Score**. Fit the model on your training data.\n",
    "- Predict the outputs of the testing set and have this data ready to go for the metrics analysis."
   ]
  },
  {
   "cell_type": "code",
   "execution_count": 81,
   "metadata": {},
   "outputs": [
    {
     "name": "stdout",
     "output_type": "stream",
     "text": [
      "   Gender  Age  Annual Income (k$)  Spending Score (1-100)\n",
      "0    Male   19                  15                      39\n",
      "1    Male   21                  15                      81\n",
      "2  Female   20                  16                       6\n",
      "3  Female   23                  16                      77\n",
      "4  Female   31                  17                      40\n",
      "Accuracy: 0.6491228070175439\n",
      "[0 1 1 1 0 0 1 1 1 0 1 0 1 0 1 1 1 1 1 1 0 1 0 0 0 1 0 1 0 1 1 0 0 0 0 0 0\n",
      " 0 0 1 0 0 1 1 1 1 1 0 1 1 1 1 0 0 0 0 1]\n",
      "[1 0 1 1 0 1 1 0 1 0 0 0 1 1 1 1 0 1 1 0 1 1 0 1 0 1 0 1 0 0 1 1 1 0 0 0 1\n",
      " 1 1 1 1 0 1 1 1 1 1 0 1 0 1 0 0 0 0 1 1]\n",
      "Confusion Matrix\n",
      "[[15 12]\n",
      " [ 8 22]]\n"
     ]
    }
   ],
   "source": [
    "# YOUR ANSWER HERE\n",
    "from sklearn.model_selection import train_test_split\n",
    "from sklearn.neighbors import KNeighborsClassifier\n",
    "from sklearn import metrics\n",
    "\n",
    "\n",
    "df_customers_new2 = df_customers.drop(columns=\"CustomerID\")\n",
    "print(df_customers_new2.head(5))\n",
    "\n",
    "df_customers_new2['Spending Score (1-100)'] = (df_customers_new2['Spending Score (1-100)']  > 50).astype(int)\n",
    "le = LabelEncoder()\n",
    "le.fit([\"Male\", \"Female\"])\n",
    "df_customers_new2['Gender'] = le.fit_transform(df_customers_new2['Gender'])\n",
    "\n",
    "\n",
    "# Features | X values\n",
    "X = df_customers_new2[['Gender','Annual Income (k$)','Age']]\n",
    "\n",
    "# Labels | Y values\n",
    "y = df_customers_new2[['Spending Score (1-100)']]\n",
    "\n",
    "y = np.ravel(y)\n",
    "\n",
    "X_train, X_test, y_train, y_test = train_test_split(X, y, test_size=0.28, random_state=3)#train72%, test28%\n",
    "\n",
    "knn = KNeighborsClassifier(n_neighbors=5)\n",
    "knn.fit(X_train, y_train)\n",
    "y_pred = knn.predict(X_test)\n",
    "print(\"Accuracy:\",metrics.accuracy_score(y_test, y_pred))\n",
    "\n",
    "print(y_test)\n",
    "print(y_pred)\n",
    "cmat = metrics.confusion_matrix(y_test, y_pred)\n",
    "print(\"Confusion Matrix\")\n",
    "print(cmat)\n"
   ]
  },
  {
   "cell_type": "markdown",
   "metadata": {},
   "source": [
    "#### __Mean Accuracy (The refresher)__\n",
    "Keeping with using the original model's scoring function, provide the output of the mean accuracy from your model."
   ]
  },
  {
   "cell_type": "code",
   "execution_count": 94,
   "metadata": {},
   "outputs": [
    {
     "name": "stdout",
     "output_type": "stream",
     "text": [
      "Accuracy: 0.6491228070175439\n"
     ]
    }
   ],
   "source": [
    "# YOUR ANSWER HERE\n",
    "\n",
    "Mean_Accuracy = (15+22)/(15+12+8+22)\n",
    "print(\"Mean Accuracy:\", Mean_Accuracy)"
   ]
  },
  {
   "cell_type": "markdown",
   "metadata": {},
   "source": [
    "#### __Balanced Accuracy__\n",
    "As we are performing a binary target classification, we can use the Balanced Accuracy score to score an imbalenced dataset. Is this dataset imbalenced in its outputs? Provide reasoning why it might be, and the outputs from the Balenced Accuracy score from sklearn."
   ]
  },
  {
   "cell_type": "code",
   "execution_count": 95,
   "metadata": {},
   "outputs": [
    {
     "name": "stdout",
     "output_type": "stream",
     "text": [
      "Accuracy: 0.6496163682864451\n"
     ]
    }
   ],
   "source": [
    "# YOUR ANSWER HERE\n",
    "Balanced_Accuracy = (15/(15+8)+22/(12+22))/2\n",
    "print(\"Accuracy:\", Balanced_Accuracy)"
   ]
  },
  {
   "cell_type": "markdown",
   "metadata": {},
   "source": [
    "#### __F1 (F-score | F-measure)__\n",
    "The F1 score is a weighted score of the precision and recall, where the precision is the ability for the classifier to label a sample positive when it is positive, and the recall is the ability of the classifier to find all positive samples. Implement the F1 score from sklearn\n",
    "\n",
    "**Extension:** Implement the precision and recall seperately and determine the contributing factors to how the F1 score is generated."
   ]
  },
  {
   "cell_type": "code",
   "execution_count": 93,
   "metadata": {},
   "outputs": [
    {
     "name": "stdout",
     "output_type": "stream",
     "text": [
      "F1 Score: 0.6875\n"
     ]
    },
    {
     "data": {
      "text/plain": [
       "0.6875"
      ]
     },
     "execution_count": 93,
     "metadata": {},
     "output_type": "execute_result"
    }
   ],
   "source": [
    "# YOUR ANSWER HERE\n",
    "sum_TP_and_FN = 22+8\n",
    "Recap = 22/sum_TP_and_FN\n",
    "\n",
    "sum_TP_and_FP = 22+12\n",
    "Precision = 22/sum_TP_and_FP\n",
    "\n",
    "\n",
    "f1_1 = Recap * Precision * 2\n",
    "f1_2 = Recap + Precision\n",
    "f1 = f1_1/f1_2\n",
    "print(\"F1 Score:\", f1)\n",
    "\n",
    "from sklearn.metrics import f1_score\n",
    "f1_score(y_test, y_pred)  \n"
   ]
  },
  {
   "cell_type": "markdown",
   "metadata": {},
   "source": [
    "***\n",
    "While these metrics are useful, there will be times when some are more valid than others. Having a sound knowledge of some of the performance metrics you can use to argue the performance of your models will always come in handy for analysis and justification. Make note of these going forward for assessable pieces !"
   ]
  }
 ],
 "metadata": {
  "kernelspec": {
   "display_name": "Python 3",
   "language": "python",
   "name": "python3"
  },
  "language_info": {
   "codemirror_mode": {
    "name": "ipython",
    "version": 3
   },
   "file_extension": ".py",
   "mimetype": "text/x-python",
   "name": "python",
   "nbconvert_exporter": "python",
   "pygments_lexer": "ipython3",
   "version": "3.6.8"
  }
 },
 "nbformat": 4,
 "nbformat_minor": 2
}
