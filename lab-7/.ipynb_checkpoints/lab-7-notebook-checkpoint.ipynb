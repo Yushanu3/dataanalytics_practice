{
 "cells": [
  {
   "cell_type": "markdown",
   "metadata": {},
   "source": [
    "<h1 align='center'> COMP2420/COMP6420 - Introduction to Data Management, Analysis and Security</h1>\n",
    "\n",
    "<h2 align='center'> Lab 07 - Machine Learning - III</h2>\n",
    "\n",
    "*****\n",
    "\n",
    "In this lab, we will have a look at **Unsupervised Machine Learning** and then working on a particular algorithm of Unsupervised Learning called **K-Means Clustering**.  \n",
    "\n",
    "<br/>\n",
    "\n",
    "### Unsupervised Learning \n",
    "**Unsupervised Learning** is a class of Machine Learning techniques that find patterns in data. The data given to an unsupervised algorithm are **unlabelled**, which means only the input variables (x) are given with no corresponding output variables. So, an unsupervised learning algorithm is meant to derive strucutre from data without any previous knowledge of what the variables are. In unsupervised learning, the algorithms are left to themselves to discover interesting structures in the data.\n",
    "\n",
    "<br/>\n",
    "\n",
    "### Supervised vs. Unsupervised Learning\n",
    "In **Supervised Learning**, the constructed model tries to learn from the examples of inputs and outputs that are already provided to it to train it. On the other hand, in **Unsupervised Learning**, the model attempts to find the patterns directly from the given data. So, if the dataset is labelled it comes under a supervised problem, and if the dataset is unlabelled then it is an unsupervised problem.\n",
    "\n",
    "<img src=\"./images/sup_vs_unsup.png\" /> \n",
    "Source: [CambridgeSparks - Overview of Data Science](http://beta.cambridgespark.com/courses/jpm/01-module.html)"
   ]
  },
  {
   "cell_type": "markdown",
   "metadata": {},
   "source": [
    "<br/>\n",
    "\n",
    "## K-Means Clustering\n",
    "\n",
    "**K-Means Clustering** is a type of **unsupervised** machine learning algorithm, in which we can cluster the data points based on their proximity to a centroid point. Thus, the given data set is divided into _k_ number of clusters. It does this using the following steps - \n",
    "\n",
    "1. The number of clusters **(k)** are picked, and each cluster is represented by its centroid point.\n",
    "\n",
    "2. Each data point becomes part of a cluster based on its proximity to the nearest centroids, thereby forming **k clusters**.\n",
    "\n",
    "3. Based on these clusters, the centroid of each cluster is **re-calculated to get new centroids**.\n",
    "\n",
    "4. **Steps 2 and 3 are repeated** to find the closest distance for each data point from new centroids and get associated with its closest clusters until **convergence** occurs (no change in centroids).\n",
    "\n",
    "<img src='./images/kmeans.png' height='40px'><br/>\n",
    "<span style='align:right;'><b>Source:</b> [Maciej Pacula >> k-means Clustering](http://blog.mpacula.com/2011/04/27/k-means-clustering-example-python/)</span>\n",
    "\n",
    "<br/>\n",
    "\n",
    "## Exercise 1: Shoppers' Flock\n",
    "\n",
    "Using clustering in business problems, we can cluster our data to find out groups of them by age, salary, gender or any other feature that you have in your dataset. By doing this we can find the best strategy to succeed in a market. Let's do a clustering of the shoppers visiting a shopping mall, to find out what we can find out about these shoppers."
   ]
  },
  {
   "cell_type": "code",
   "execution_count": 84,
   "metadata": {},
   "outputs": [],
   "source": [
    "import numpy as np\n",
    "import pandas as pd \n",
    "import matplotlib.pyplot as plt\n",
    "%matplotlib inline\n",
    "\n",
    "from sklearn.preprocessing import LabelEncoder\n",
    "from sklearn.decomposition import PCA\n",
    "from sklearn.cluster import KMeans"
   ]
  },
  {
   "cell_type": "code",
   "execution_count": 85,
   "metadata": {},
   "outputs": [
    {
     "data": {
      "text/html": [
       "<div>\n",
       "<style scoped>\n",
       "    .dataframe tbody tr th:only-of-type {\n",
       "        vertical-align: middle;\n",
       "    }\n",
       "\n",
       "    .dataframe tbody tr th {\n",
       "        vertical-align: top;\n",
       "    }\n",
       "\n",
       "    .dataframe thead th {\n",
       "        text-align: right;\n",
       "    }\n",
       "</style>\n",
       "<table border=\"1\" class=\"dataframe\">\n",
       "  <thead>\n",
       "    <tr style=\"text-align: right;\">\n",
       "      <th></th>\n",
       "      <th>CustomerID</th>\n",
       "      <th>Gender</th>\n",
       "      <th>Age</th>\n",
       "      <th>Annual Income (k$)</th>\n",
       "      <th>Spending Score (1-100)</th>\n",
       "    </tr>\n",
       "  </thead>\n",
       "  <tbody>\n",
       "    <tr>\n",
       "      <th>0</th>\n",
       "      <td>1</td>\n",
       "      <td>Male</td>\n",
       "      <td>19</td>\n",
       "      <td>15</td>\n",
       "      <td>39</td>\n",
       "    </tr>\n",
       "    <tr>\n",
       "      <th>1</th>\n",
       "      <td>2</td>\n",
       "      <td>Male</td>\n",
       "      <td>21</td>\n",
       "      <td>15</td>\n",
       "      <td>81</td>\n",
       "    </tr>\n",
       "    <tr>\n",
       "      <th>2</th>\n",
       "      <td>3</td>\n",
       "      <td>Female</td>\n",
       "      <td>20</td>\n",
       "      <td>16</td>\n",
       "      <td>6</td>\n",
       "    </tr>\n",
       "    <tr>\n",
       "      <th>3</th>\n",
       "      <td>4</td>\n",
       "      <td>Female</td>\n",
       "      <td>23</td>\n",
       "      <td>16</td>\n",
       "      <td>77</td>\n",
       "    </tr>\n",
       "    <tr>\n",
       "      <th>4</th>\n",
       "      <td>5</td>\n",
       "      <td>Female</td>\n",
       "      <td>31</td>\n",
       "      <td>17</td>\n",
       "      <td>40</td>\n",
       "    </tr>\n",
       "  </tbody>\n",
       "</table>\n",
       "</div>"
      ],
      "text/plain": [
       "   CustomerID  Gender  Age  Annual Income (k$)  Spending Score (1-100)\n",
       "0           1    Male   19                  15                      39\n",
       "1           2    Male   21                  15                      81\n",
       "2           3  Female   20                  16                       6\n",
       "3           4  Female   23                  16                      77\n",
       "4           5  Female   31                  17                      40"
      ]
     },
     "execution_count": 85,
     "metadata": {},
     "output_type": "execute_result"
    }
   ],
   "source": [
    "df_customers = pd.read_csv(\"data/customers.csv\", skipinitialspace=True)\n",
    "df_customers.head()"
   ]
  },
  {
   "cell_type": "markdown",
   "metadata": {},
   "source": [
    "In this data, we have no use for the **CustomerID** column, as we don't need to uniquely identify any of the customers. Also, we need to encode **Gender** to a numeric figure, so that it's easier to cluster.\n",
    "\n",
    "1. Remove the column **CustomerID** from the dataframe, and encode the column **Gender** to a series of **0 (for Female)** and **1 (for Male)**."
   ]
  },
  {
   "cell_type": "code",
   "execution_count": 89,
   "metadata": {},
   "outputs": [
    {
     "name": "stdout",
     "output_type": "stream",
     "text": [
      "     Gender  Age  Annual Income (k$)  Spending Score (1-100)\n",
      "0         1   19                  15                      39\n",
      "1         1   21                  15                      81\n",
      "2         0   20                  16                       6\n",
      "3         0   23                  16                      77\n",
      "4         0   31                  17                      40\n",
      "5         0   22                  17                      76\n",
      "6         0   35                  18                       6\n",
      "7         0   23                  18                      94\n",
      "8         1   64                  19                       3\n",
      "9         0   30                  19                      72\n",
      "10        1   67                  19                      14\n",
      "11        0   35                  19                      99\n",
      "12        0   58                  20                      15\n",
      "13        0   24                  20                      77\n",
      "14        1   37                  20                      13\n",
      "15        1   22                  20                      79\n",
      "16        0   35                  21                      35\n",
      "17        1   20                  21                      66\n",
      "18        1   52                  23                      29\n",
      "19        0   35                  23                      98\n",
      "20        1   35                  24                      35\n",
      "21        1   25                  24                      73\n",
      "22        0   46                  25                       5\n",
      "23        1   31                  25                      73\n",
      "24        0   54                  28                      14\n",
      "25        1   29                  28                      82\n",
      "26        0   45                  28                      32\n",
      "27        1   35                  28                      61\n",
      "28        0   40                  29                      31\n",
      "29        0   23                  29                      87\n",
      "..      ...  ...                 ...                     ...\n",
      "170       1   40                  87                      13\n",
      "171       1   28                  87                      75\n",
      "172       1   36                  87                      10\n",
      "173       1   36                  87                      92\n",
      "174       0   52                  88                      13\n",
      "175       0   30                  88                      86\n",
      "176       1   58                  88                      15\n",
      "177       1   27                  88                      69\n",
      "178       1   59                  93                      14\n",
      "179       1   35                  93                      90\n",
      "180       0   37                  97                      32\n",
      "181       0   32                  97                      86\n",
      "182       1   46                  98                      15\n",
      "183       0   29                  98                      88\n",
      "184       0   41                  99                      39\n",
      "185       1   30                  99                      97\n",
      "186       0   54                 101                      24\n",
      "187       1   28                 101                      68\n",
      "188       0   41                 103                      17\n",
      "189       0   36                 103                      85\n",
      "190       0   34                 103                      23\n",
      "191       0   32                 103                      69\n",
      "192       1   33                 113                       8\n",
      "193       0   38                 113                      91\n",
      "194       0   47                 120                      16\n",
      "195       0   35                 120                      79\n",
      "196       0   45                 126                      28\n",
      "197       1   32                 126                      74\n",
      "198       1   32                 137                      18\n",
      "199       1   30                 137                      83\n",
      "\n",
      "[200 rows x 4 columns]\n"
     ]
    }
   ],
   "source": [
    "# YOUR ANSWER HERE\n",
    "\n",
    "df_customers_new = df_customers.drop(columns=\"CustomerID\")\n",
    "\n",
    "#le = LabelEncoder()\n",
    "#le.fit([\"paris\", \"paris\", \"tokyo\", \"amsterdam\"])\n",
    "#LabelEncoder()\n",
    "#list(le.transform([\"tokyo\", \"tokyo\", \"paris\"])) \n",
    "#[2, 2, 1]\n",
    "\n",
    "# Create a label (category) encoder object\n",
    "le = LabelEncoder()\n",
    "# Fit the encoder to the pandas column\n",
    "le.fit([\"Male\", \"Female\"])\n",
    "# Apply the fitted encoder to the pandas column\n",
    "df_customers_new['Gender'] = le.fit_transform(df_customers_new['Gender'])\n",
    "print(df_customers_new)\n",
    "\n",
    "#df_customers['Gender'] = df_customers['Gender'].map({'Female': 1, 'Male': 0})\n"
   ]
  },
  {
   "cell_type": "markdown",
   "metadata": {},
   "source": [
    "2. Use Scikit-Learn's **K-Means Clustering** to cluster this data into **5 clusters**. Plot a **scatterplot** to visualize and verify your 5 clusters."
   ]
  },
  {
   "cell_type": "code",
   "execution_count": 40,
   "metadata": {},
   "outputs": [
    {
     "name": "stdout",
     "output_type": "stream",
     "text": [
      "     Gender  Age  Annual Income (k$)\n",
      "0       NaN   19                  15\n",
      "1       NaN   21                  15\n",
      "2       NaN   20                  16\n",
      "3       NaN   23                  16\n",
      "4       NaN   31                  17\n",
      "5       NaN   22                  17\n",
      "6       NaN   35                  18\n",
      "7       NaN   23                  18\n",
      "8       NaN   64                  19\n",
      "9       NaN   30                  19\n",
      "10      NaN   67                  19\n",
      "11      NaN   35                  19\n",
      "12      NaN   58                  20\n",
      "13      NaN   24                  20\n",
      "14      NaN   37                  20\n",
      "15      NaN   22                  20\n",
      "16      NaN   35                  21\n",
      "17      NaN   20                  21\n",
      "18      NaN   52                  23\n",
      "19      NaN   35                  23\n",
      "20      NaN   35                  24\n",
      "21      NaN   25                  24\n",
      "22      NaN   46                  25\n",
      "23      NaN   31                  25\n",
      "24      NaN   54                  28\n",
      "25      NaN   29                  28\n",
      "26      NaN   45                  28\n",
      "27      NaN   35                  28\n",
      "28      NaN   40                  29\n",
      "29      NaN   23                  29\n",
      "..      ...  ...                 ...\n",
      "170     NaN   40                  87\n",
      "171     NaN   28                  87\n",
      "172     NaN   36                  87\n",
      "173     NaN   36                  87\n",
      "174     NaN   52                  88\n",
      "175     NaN   30                  88\n",
      "176     NaN   58                  88\n",
      "177     NaN   27                  88\n",
      "178     NaN   59                  93\n",
      "179     NaN   35                  93\n",
      "180     NaN   37                  97\n",
      "181     NaN   32                  97\n",
      "182     NaN   46                  98\n",
      "183     NaN   29                  98\n",
      "184     NaN   41                  99\n",
      "185     NaN   30                  99\n",
      "186     NaN   54                 101\n",
      "187     NaN   28                 101\n",
      "188     NaN   41                 103\n",
      "189     NaN   36                 103\n",
      "190     NaN   34                 103\n",
      "191     NaN   32                 103\n",
      "192     NaN   33                 113\n",
      "193     NaN   38                 113\n",
      "194     NaN   47                 120\n",
      "195     NaN   35                 120\n",
      "196     NaN   45                 126\n",
      "197     NaN   32                 126\n",
      "198     NaN   32                 137\n",
      "199     NaN   30                 137\n",
      "\n",
      "[200 rows x 3 columns]\n"
     ]
    }
   ],
   "source": [
    "# YOUR ANSWER HERE\n",
    "\n",
    "# Features | X values\n",
    "X = df_customers_new[['Gender','Age','Annual Income (k$)']]\n",
    "\n",
    "print(X)\n",
    "# Labels | Y values\n",
    "y = df_customers_new[['Spending Score (1-100)']]\n",
    "y = np.ravel(y)\n",
    "\n",
    "y_pred = KMeans(n_clusters=5, random_state=9).fit_predict(X)\n",
    "plt.scatter(X[:, 0], X[:, 1], c=y_pred)\n",
    "plt.show()"
   ]
  },
  {
   "cell_type": "markdown",
   "metadata": {},
   "source": [
    "Now comes the fun part! \n",
    "\n",
    "3. Convert each of these clusters into a dataframe, and analyse each of these clusters. Discuss your findings from these statistics.\n",
    "\n",
    "<span style='color:blue;'>**HINT** - Your analysis can include studying the mean age, average annual income & deviation in income, size of each cluster and male-female ratio of each cluster.</span>  "
   ]
  },
  {
   "cell_type": "code",
   "execution_count": 5,
   "metadata": {},
   "outputs": [],
   "source": [
    "# YOUR ANSWER HERE\n",
    "# Insert a separate column for Cluster Number\n",
    "\n",
    "\n",
    "\n",
    "# Separate into different dataframes based on Cluster Number \n",
    "\n",
    "\n",
    "\n",
    "# Show the top five rows\n",
    "\n",
    "\n"
   ]
  },
  {
   "cell_type": "code",
   "execution_count": 6,
   "metadata": {},
   "outputs": [],
   "source": [
    "# YOUR ANSWER HERE\n",
    "# Group and analyse the statistics from each cluster\n",
    "\n",
    "\n"
   ]
  },
  {
   "cell_type": "code",
   "execution_count": 7,
   "metadata": {},
   "outputs": [],
   "source": [
    "# DISCUSS YOUR FINDINGS\n",
    "\n"
   ]
  },
  {
   "cell_type": "markdown",
   "metadata": {},
   "source": [
    "## Exercise 2: Meticulous Metrics\n",
    "\n",
    "While over the last 3 machine learning labs we have created and implemented models in regression and classification scenarios, we have yet to dive into the types of metrics that can be used to show the performance of your model/s.\n",
    "\n",
    "***\n",
    "**Extension:** While this question is designed to introduce and/or refresh your memory about metrics, if you are familar and are looking for extra work, try to implement the scoring functions manually. This can be important going further in machine learning as it is necessary for custom metrics in use of packages such as Keras or Tensorflow.\n",
    "***"
   ]
  },
  {
   "cell_type": "code",
   "execution_count": null,
   "metadata": {},
   "outputs": [],
   "source": [
    "import sklearn.metrics as skm"
   ]
  },
  {
   "cell_type": "markdown",
   "metadata": {},
   "source": [
    "### 2.1: Regression Metrics\n",
    "\n",
    "First stop on the trip back memory lane, we will begin with Regression Metrics. To have usable data to perform metric analysis on perform the following tasks:\n",
    "- Split your dataset into testing and training data: your training dataset should be 65% of the original dataset. (HINT: This can be set in the train_test_split function)\n",
    "- Implement a Linear Regression model using **Spending Score** as the output. Use any features other than **Spending Score**. Fit the model on your training data.\n",
    "- Predict the outputs of the testing set and have this data ready to go for the metrics analysis."
   ]
  },
  {
   "cell_type": "code",
   "execution_count": null,
   "metadata": {},
   "outputs": [],
   "source": [
    "# YOUR ANSWER HERE"
   ]
  },
  {
   "cell_type": "markdown",
   "metadata": {},
   "source": [
    "Now that you have predicted and actual outputs, it is comparison time ! Implement the following functions:\n",
    "\n",
    "#### __R^2 (The refresher)__\n",
    "Using sklearn, implement the R^2 scoring functions using the inbuilt Linear Regression model function and the metrics module"
   ]
  },
  {
   "cell_type": "code",
   "execution_count": null,
   "metadata": {},
   "outputs": [],
   "source": [
    "# YOUR ANSWER HERE"
   ]
  },
  {
   "cell_type": "markdown",
   "metadata": {},
   "source": [
    "#### __MAE (Mean Absolute Error)__\n",
    "MAE is the mean measure of difference between two continuous variables. This can help determine the error between the predicted and actual outputs for predicted sets. Implement MAE using the sklearn metrics module and provide the score for the predictions above."
   ]
  },
  {
   "cell_type": "code",
   "execution_count": null,
   "metadata": {},
   "outputs": [],
   "source": [
    "# YOUR ANSWER HERE"
   ]
  },
  {
   "cell_type": "markdown",
   "metadata": {},
   "source": [
    "#### __MSE (Mean Squared Error)__\n",
    "MSE is an alturnative to MAE and provides the average square of the error range between actual and predicted values. Implement and provide the MSE scores for you predictions above."
   ]
  },
  {
   "cell_type": "code",
   "execution_count": null,
   "metadata": {},
   "outputs": [],
   "source": [
    "# YOUR ANSWER HERE"
   ]
  },
  {
   "cell_type": "markdown",
   "metadata": {},
   "source": [
    "### 2.2: Classification Metrics\n",
    "\n",
    "Next stop! We want to look at defining metrics for our classification models now so that we can argue how good (or bad) our model is. To have usable data to perform metric analysis on perform the following tasks:\n",
    "- Convert your **Spending Score** into a binary output by the following rules: `score < 50 = 0, otherwise = 1.`\n",
    "- Split your dataset into testing and training data: your training dataset should be 72% of the original dataset. (HINT: This can be set in the train_test_split function)\n",
    "- Implement a Classification model using your binary **Spending Score** as the output. Use any features other than **Spending Score**. Fit the model on your training data.\n",
    "- Predict the outputs of the testing set and have this data ready to go for the metrics analysis."
   ]
  },
  {
   "cell_type": "code",
   "execution_count": null,
   "metadata": {},
   "outputs": [],
   "source": [
    "# YOUR ANSWER HERE"
   ]
  },
  {
   "cell_type": "markdown",
   "metadata": {},
   "source": [
    "#### __Mean Accuracy (The refresher)__\n",
    "Keeping with using the original model's scoring function, provide the output of the mean accuracy from your model."
   ]
  },
  {
   "cell_type": "code",
   "execution_count": null,
   "metadata": {},
   "outputs": [],
   "source": [
    "# YOUR ANSWER HERE"
   ]
  },
  {
   "cell_type": "markdown",
   "metadata": {},
   "source": [
    "#### __Balanced Accuracy__\n",
    "As we are performing a binary target classification, we can use the Balanced Accuracy score to score an imbalenced dataset. Is this dataset imbalenced in its outputs? Provide reasoning why it might be, and the outputs from the Balenced Accuracy score from sklearn."
   ]
  },
  {
   "cell_type": "code",
   "execution_count": null,
   "metadata": {},
   "outputs": [],
   "source": [
    "# YOUR ANSWER HERE"
   ]
  },
  {
   "cell_type": "markdown",
   "metadata": {},
   "source": [
    "#### __F1 (F-score | F-measure)__\n",
    "The F1 score is a weighted score of the precision and recall, where the precision is the ability for the classifier to label a sample positive when it is positive, and the recall is the ability of the classifier to find all positive samples. Implement the F1 score from sklearn\n",
    "\n",
    "**Extension:** Implement the precision and recall seperately and determine the contributing factors to how the F1 score is generated."
   ]
  },
  {
   "cell_type": "code",
   "execution_count": null,
   "metadata": {},
   "outputs": [],
   "source": [
    "# YOUR ANSWER HERE"
   ]
  },
  {
   "cell_type": "markdown",
   "metadata": {},
   "source": [
    "***\n",
    "While these metrics are useful, there will be times when some are more valid than others. Having a sound knowledge of some of the performance metrics you can use to argue the performance of your models will always come in handy for analysis and justification. Make note of these going forward for assessable pieces !"
   ]
  }
 ],
 "metadata": {
  "kernelspec": {
   "display_name": "Python 3",
   "language": "python",
   "name": "python3"
  },
  "language_info": {
   "codemirror_mode": {
    "name": "ipython",
    "version": 3
   },
   "file_extension": ".py",
   "mimetype": "text/x-python",
   "name": "python",
   "nbconvert_exporter": "python",
   "pygments_lexer": "ipython3",
   "version": "3.6.8"
  }
 },
 "nbformat": 4,
 "nbformat_minor": 2
}
